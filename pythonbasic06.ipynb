{
 "cells": [
  {
   "cell_type": "code",
   "execution_count": 2,
   "metadata": {},
   "outputs": [
    {
     "ename": "",
     "evalue": "",
     "output_type": "error",
     "traceback": [
      "\u001b[1;31mCanceled future for execute_request message before replies were done"
     ]
    },
    {
     "ename": "",
     "evalue": "",
     "output_type": "error",
     "traceback": [
      "\u001b[1;31mThe Kernel crashed while executing code in the the current cell or a previous cell. Please review the code in the cell(s) to identify a possible cause of the failure. Click <a href='https://aka.ms/vscodeJupyterKernelCrash'>here</a> for more info. View Jupyter <a href='command:jupyter.viewOutput'>log</a> for further details."
     ]
    }
   ],
   "source": [
    "# 파이썬으로 앱 만들기\n",
    "\n",
    "# 미설치된 컴에서는 설치         pip install PyQt5\n",
    "import sys                     # 시스템 접근 모듈\n",
    "from PyQt5.QtWidgets import *  # 윈도우 창 만들기 모듈\n",
    "\n",
    "app = QApplication(sys.argv)   # 윈도우 창 객체 생성\n",
    "label = QLabel(\"Hello\")\n",
    "label.show()\n",
    "app.exec_()                    # 윈도우 창 객체 실해"
   ]
  },
  {
   "cell_type": "code",
   "execution_count": 10,
   "metadata": {},
   "outputs": [
    {
     "name": "stdout",
     "output_type": "stream",
     "text": [
      "38,578,000 원\n"
     ]
    }
   ],
   "source": [
    "# 비트 코인 현재 가격 조회\n",
    "\n",
    "from selenium import webdriver\n",
    "from bs4 import BeautifulSoup as bs\n",
    "\n",
    "options = webdriver.ChromeOptions()\n",
    "options.add_argument('--headless')   \n",
    "# options.add_argument('--no-sandbox')\n",
    "# options.add_argument('--disable-dev-shm-usage') \n",
    "driver = webdriver.Chrome('chromedriver.exe', options=options)\n",
    "\n",
    "# driver = webdriver.Chrome('chromedriver.exe')\n",
    "\n",
    "driver.get('https://www.bithumb.com/')\n",
    "\n",
    "response = driver.page_source\n",
    "soup = bs(response)\n",
    "\n",
    "price = soup.select('#assetRealBTC_KRW')[0].text\n",
    "print(price)\n"
   ]
  },
  {
   "cell_type": "code",
   "execution_count": null,
   "metadata": {},
   "outputs": [],
   "source": [
    "##############################################\n",
    "#                 QT Designer                #\n",
    "##############################################\n",
    "# anaconda 가 미리 설치 해둔 위치로 가서 사용한다. \n",
    "# C:\\ProgramData\\Anaconda3\\Library\\bin\n",
    "# 컴마다 위치는 다를수 있다. \n",
    "# 바탕화면에 바로가기를 만들면 편하다. "
   ]
  },
  {
   "cell_type": "code",
   "execution_count": 1,
   "metadata": {},
   "outputs": [
    {
     "data": {
      "text/plain": [
       "0"
      ]
     },
     "execution_count": 1,
     "metadata": {},
     "output_type": "execute_result"
    }
   ],
   "source": [
    "# QT Designer 로 만든 ui 를 띄우는 기본 창 띄우기 문법\n",
    "\n",
    "import sys                      # 시스템 접근 모듈\n",
    "from PyQt5.QtWidgets import *   # ui의 widjet 접근 모듈\n",
    "from PyQt5 import uic           # ui 사용 모듈\n",
    "\n",
    "form_class = uic.loadUiType(\"clicktest.ui\")[0] # [0] 꼭 입력\n",
    "\n",
    "class MyWindow(QMainWindow, form_class):\n",
    "    def __init__(self):      # 생성자\n",
    "        super().__init__()   # 부모의 생성자 사용\n",
    "        self.setupUi(self)   # ui 활성화\n",
    "\n",
    "app = QApplication(sys.argv) # 창 객체 생성\n",
    "window = MyWindow()          # 창 생성\n",
    "window.show()                # 창 띄우기\n",
    "app.exec_()                  # 창 계속 유지\n",
    "\n",
    "\n",
    "\n",
    "\n",
    "\n",
    "\n"
   ]
  },
  {
   "cell_type": "code",
   "execution_count": 1,
   "metadata": {},
   "outputs": [
    {
     "name": "stdout",
     "output_type": "stream",
     "text": [
      "Hello World\n",
      "Hello World\n",
      "Hello World\n",
      "Hello World\n",
      "Hello World\n"
     ]
    }
   ],
   "source": [
    "# 클릭 단추 이벤트 추가\n",
    "\n",
    "import sys                      # 시스템 접근 모듈\n",
    "from PyQt5.QtWidgets import *   # ui의 widjet 접근 모듈\n",
    "from PyQt5 import uic           # ui 사용 모듈\n",
    "\n",
    "form_class = uic.loadUiType(\"clicktest.ui\")[0] # [0] 꼭 입력\n",
    "\n",
    "class MyWindow(QMainWindow, form_class):\n",
    "    def __init__(self):      # 생성자\n",
    "        super().__init__()   # 부모의 생성자 사용\n",
    "        self.setupUi(self)   # ui 활성화\n",
    "        self.pushButton.clicked.connect(self.btn_clicked)\n",
    "        # 단추를 클릭하면 특정 매서드로 연결 실행\n",
    "\n",
    "    # 단추를 클릭할때 연결되어 실행되는 매서드\n",
    "    def btn_clicked(self):\n",
    "        print('Hello World')\n",
    "\n",
    "app = QApplication(sys.argv) # 창 객체 생성\n",
    "window = MyWindow()          # 창 생성\n",
    "window.show()                # 창 띄우기\n",
    "app.exec_()                  # 창 계속 유지"
   ]
  },
  {
   "cell_type": "code",
   "execution_count": 7,
   "metadata": {},
   "outputs": [],
   "source": [
    "# 코인 가격 조회기\n",
    "\n",
    "import sys                      # 시스템 접근 모듈\n",
    "from PyQt5.QtWidgets import *   # ui의 widjet 접근 모듈\n",
    "from PyQt5 import uic           # ui 사용 모듈\n",
    "import pybithumb                # 빗썸 api 모듈\n",
    "\n",
    "form_class = uic.loadUiType(\"coin.ui\")[0] # [0] 꼭 입력\n",
    "\n",
    "class MyWindow(QMainWindow, form_class):\n",
    "    def __init__(self):      # 생성자\n",
    "        super().__init__()   # 부모의 생성자 사용\n",
    "        self.setupUi(self)   # ui 활성화\n",
    "        self.pushButton.clicked.connect(self.btn_clicked)\n",
    "        # 단추를 클릭하면 특정 매서드로 연결 실행\n",
    "\n",
    "    # 단추를 클릭할때 연결되어 실행되는 매서드\n",
    "    def btn_clicked(self):\n",
    "        price = pybithumb.get_current_price(\"BTC\")\n",
    "        # 빗썸 API를 이용하여 비트코인가격을 조회\n",
    "        self.lineEdit.setText(str(price))\n",
    "        # 조회한 가격을 빈칸에 출력한다. \n",
    "\n",
    "app = QApplication(sys.argv) # 창 객체 생성\n",
    "window = MyWindow()          # 창 생성\n",
    "window.show()                # 창 띄우기\n",
    "app.exec_()                  # 창 계속 유지"
   ]
  },
  {
   "cell_type": "code",
   "execution_count": 6,
   "metadata": {},
   "outputs": [
    {
     "name": "stdout",
     "output_type": "stream",
     "text": [
      "510.1\n"
     ]
    }
   ],
   "source": [
    "# API 를 이용한 코인 가격 조회\n",
    "# !pip install pybithumb  # 최초 한번 설치\n",
    "import pybithumb\n",
    "\n",
    "print(pybithumb.get_current_price(\"XRP\"))"
   ]
  },
  {
   "cell_type": "code",
   "execution_count": 1,
   "metadata": {},
   "outputs": [
    {
     "data": {
      "text/plain": [
       "0"
      ]
     },
     "execution_count": 1,
     "metadata": {},
     "output_type": "execute_result"
    }
   ],
   "source": [
    "# 비트코인 이더리움 리플 에이다 ...4개 코인을 조회하세요\n",
    "\n",
    "import sys                      # 시스템 접근 모듈\n",
    "from PyQt5.QtWidgets import *   # ui의 widjet 접근 모듈\n",
    "from PyQt5 import uic           # ui 사용 모듈\n",
    "import pybithumb                # 빗썸 api 모듈\n",
    "\n",
    "form_class = uic.loadUiType(\"coin.ui\")[0] # [0] 꼭 입력\n",
    "\n",
    "class MyWindow(QMainWindow, form_class):\n",
    "    def __init__(self):      # 생성자\n",
    "        super().__init__()   # 부모의 생성자 사용\n",
    "        self.setupUi(self)   # ui 활성화\n",
    "        self.pushButton.clicked.connect(self.btn_clicked)\n",
    "        # 단추를 클릭하면 특정 매서드로 연결 실행\n",
    "\n",
    "    # 단추를 클릭할때 연결되어 실행되는 매서드\n",
    "    def btn_clicked(self):\n",
    "        price1 = pybithumb.get_current_price(\"BTC\")\n",
    "        self.lineEdit.setText(str(price1))\n",
    "\n",
    "        price2 = pybithumb.get_current_price(\"ETH\")\n",
    "        self.lineEdit_2.setText(str(price2))\n",
    "\n",
    "        price3 = pybithumb.get_current_price(\"XRP\")\n",
    "        self.lineEdit_3.setText(str(price3))\n",
    "\n",
    "        price4 = pybithumb.get_current_price(\"ADA\")\n",
    "        self.lineEdit_4.setText(str(price4))\n",
    "\n",
    "app = QApplication(sys.argv) # 창 객체 생성\n",
    "window = MyWindow()          # 창 생성\n",
    "window.show()                # 창 띄우기\n",
    "app.exec_()                  # 창 계속 유지"
   ]
  },
  {
   "cell_type": "code",
   "execution_count": 1,
   "metadata": {},
   "outputs": [
    {
     "ename": "KeyboardInterrupt",
     "evalue": "",
     "output_type": "error",
     "traceback": [
      "\u001b[1;31m---------------------------------------------------------------------------\u001b[0m",
      "\u001b[1;31mKeyboardInterrupt\u001b[0m                         Traceback (most recent call last)",
      "\u001b[1;32m<ipython-input-1-e1fd0f9859e0>\u001b[0m in \u001b[0;36mbtn_clicked\u001b[1;34m(self)\u001b[0m\n\u001b[0;32m     23\u001b[0m \u001b[1;33m\u001b[0m\u001b[0m\n\u001b[0;32m     24\u001b[0m     \u001b[1;31m# 특정 시간마다 호출되는 매서드\u001b[0m\u001b[1;33m\u001b[0m\u001b[1;33m\u001b[0m\u001b[1;33m\u001b[0m\u001b[0m\n\u001b[1;32m---> 25\u001b[1;33m     \u001b[1;32mdef\u001b[0m \u001b[0mbtn_clicked\u001b[0m\u001b[1;33m(\u001b[0m\u001b[0mself\u001b[0m\u001b[1;33m)\u001b[0m\u001b[1;33m:\u001b[0m\u001b[1;33m\u001b[0m\u001b[1;33m\u001b[0m\u001b[0m\n\u001b[0m\u001b[0;32m     26\u001b[0m         \u001b[0mprice1\u001b[0m \u001b[1;33m=\u001b[0m \u001b[0mpybithumb\u001b[0m\u001b[1;33m.\u001b[0m\u001b[0mget_current_price\u001b[0m\u001b[1;33m(\u001b[0m\u001b[1;34m\"BTC\"\u001b[0m\u001b[1;33m)\u001b[0m\u001b[1;33m\u001b[0m\u001b[1;33m\u001b[0m\u001b[0m\n\u001b[0;32m     27\u001b[0m         \u001b[0mself\u001b[0m\u001b[1;33m.\u001b[0m\u001b[0mlineEdit\u001b[0m\u001b[1;33m.\u001b[0m\u001b[0msetText\u001b[0m\u001b[1;33m(\u001b[0m\u001b[0mstr\u001b[0m\u001b[1;33m(\u001b[0m\u001b[0mprice1\u001b[0m\u001b[1;33m)\u001b[0m\u001b[1;33m)\u001b[0m\u001b[1;33m\u001b[0m\u001b[1;33m\u001b[0m\u001b[0m\n",
      "\u001b[1;31mKeyboardInterrupt\u001b[0m: "
     ]
    }
   ],
   "source": [
    "# 타이머를 설정하여 일정 시간마다 자동으로 업데이트\n",
    "\n",
    "import sys                      # 시스템 접근 모듈\n",
    "from PyQt5.QtWidgets import *   # ui의 widjet 접근 모듈\n",
    "from PyQt5 import uic           # ui 사용 모듈\n",
    "import pybithumb                # 빗썸 api 모듈\n",
    "from PyQt5.QtCore import *      # 타이머 \n",
    "\n",
    "form_class = uic.loadUiType(\"coin.ui\")[0] # [0] 꼭 입력\n",
    "\n",
    "class MyWindow(QMainWindow, form_class):\n",
    "    def __init__(self):      # 생성자\n",
    "        super().__init__()   # 부모의 생성자 사용\n",
    "        self.setupUi(self)   # ui 활성화\n",
    "\n",
    "        # self.pushButton.clicked.connect(self.btn_clicked)\n",
    "        # 단추를 클릭하면 특정 매서드로 연결 실행\n",
    "\n",
    "        # 단추를 클릭하지 않아도 특정 시간마다 자동 호출\n",
    "        self.timer = QTimer(self)\n",
    "        self.timer.start(2000)  # 2초\n",
    "        self.timer.timeout.connect(self.btn_clicked)\n",
    "\n",
    "    # 특정 시간마다 호출되는 매서드\n",
    "    def btn_clicked(self):\n",
    "        price1 = pybithumb.get_current_price(\"BTC\")\n",
    "        self.lineEdit.setText(str(price1))\n",
    "\n",
    "        price2 = pybithumb.get_current_price(\"ETH\")\n",
    "        self.lineEdit_2.setText(str(price2))\n",
    "\n",
    "        price3 = pybithumb.get_current_price(\"XRP\")\n",
    "        self.lineEdit_3.setText(str(price3))\n",
    "\n",
    "        price4 = pybithumb.get_current_price(\"ADA\")\n",
    "        self.lineEdit_4.setText(str(price4))\n",
    "\n",
    "app = QApplication(sys.argv) # 창 객체 생성\n",
    "window = MyWindow()          # 창 생성\n",
    "window.show()                # 창 띄우기\n",
    "app.exec_()                  # 창 계속 유지"
   ]
  },
  {
   "cell_type": "code",
   "execution_count": 1,
   "metadata": {},
   "outputs": [
    {
     "ename": "KeyboardInterrupt",
     "evalue": "",
     "output_type": "error",
     "traceback": [
      "\u001b[1;31m---------------------------------------------------------------------------\u001b[0m",
      "\u001b[1;31mKeyboardInterrupt\u001b[0m                         Traceback (most recent call last)",
      "\u001b[1;32m<ipython-input-1-afccb3c0119c>\u001b[0m in \u001b[0;36mbtn_clicked\u001b[1;34m(self)\u001b[0m\n\u001b[0;32m     26\u001b[0m \u001b[1;33m\u001b[0m\u001b[0m\n\u001b[0;32m     27\u001b[0m     \u001b[1;31m# 특정 시간마다 호출되는 매서드\u001b[0m\u001b[1;33m\u001b[0m\u001b[1;33m\u001b[0m\u001b[1;33m\u001b[0m\u001b[0m\n\u001b[1;32m---> 28\u001b[1;33m     \u001b[1;32mdef\u001b[0m \u001b[0mbtn_clicked\u001b[0m\u001b[1;33m(\u001b[0m\u001b[0mself\u001b[0m\u001b[1;33m)\u001b[0m\u001b[1;33m:\u001b[0m\u001b[1;33m\u001b[0m\u001b[1;33m\u001b[0m\u001b[0m\n\u001b[0m\u001b[0;32m     29\u001b[0m         \u001b[1;32mfor\u001b[0m \u001b[0mi\u001b[0m\u001b[1;33m,\u001b[0m \u001b[0mticker\u001b[0m \u001b[1;32min\u001b[0m \u001b[0menumerate\u001b[0m\u001b[1;33m(\u001b[0m\u001b[0mtickers\u001b[0m\u001b[1;33m)\u001b[0m\u001b[1;33m:\u001b[0m\u001b[1;33m\u001b[0m\u001b[1;33m\u001b[0m\u001b[0m\n\u001b[0;32m     30\u001b[0m             \u001b[0mitem\u001b[0m \u001b[1;33m=\u001b[0m \u001b[0mQTableWidgetItem\u001b[0m\u001b[1;33m(\u001b[0m\u001b[0mticker\u001b[0m\u001b[1;33m)\u001b[0m\u001b[1;33m\u001b[0m\u001b[1;33m\u001b[0m\u001b[0m\n",
      "\u001b[1;31mKeyboardInterrupt\u001b[0m: "
     ]
    },
    {
     "data": {
      "text/plain": [
       "0"
      ]
     },
     "execution_count": 1,
     "metadata": {},
     "output_type": "execute_result"
    }
   ],
   "source": [
    "# 10 개 코인 테이블 위젯 조회기\n",
    "\n",
    "import sys                      # 시스템 접근 모듈\n",
    "from PyQt5.QtWidgets import *   # ui의 widjet 접근 모듈\n",
    "from PyQt5 import uic           # ui 사용 모듈\n",
    "import pybithumb                # 빗썸 api 모듈\n",
    "import pykorbit                   # 코빗 api 모듈\n",
    "from PyQt5.QtCore import *      # 타이머 \n",
    "\n",
    "form_class = uic.loadUiType(\"realtimecoin.ui\")[0] \n",
    "# [0] 꼭 입력\n",
    "tickers = [\"BTC\",\"ETH\",\"XRP\",\"ADA\",\"LTC\",\"KLAY\",\"TRX\",\"DOGE\",\"EOS\",\"ATOM\"]\n",
    "\n",
    "\n",
    "class MyWindow(QMainWindow, form_class):\n",
    "    def __init__(self):      # 생성자\n",
    "        super().__init__()   # 부모의 생성자 사용\n",
    "        self.setupUi(self)   # ui 활성화\n",
    "\n",
    "        # self.pushButton.clicked.connect(self.btn_clicked)\n",
    "        # 단추를 클릭하면 특정 매서드로 연결 실행\n",
    "\n",
    "        # 단추를 클릭하지 않아도 특정 시간마다 자동 호출\n",
    "        self.timer = QTimer(self)\n",
    "        self.timer.start(2000)  # 2초\n",
    "        self.timer.timeout.connect(self.btn_clicked)\n",
    "\n",
    "    # 특정 시간마다 호출되는 매서드\n",
    "    def btn_clicked(self):\n",
    "        for i, ticker in enumerate(tickers):\n",
    "            item = QTableWidgetItem(ticker)\n",
    "            self.tableWidget.setItem(i, 0, item)\n",
    "                                 #(행, 열, 넣을값)  \n",
    "            pri = pybithumb.get_current_price(ticker)\n",
    "                     \n",
    "            price = QTableWidgetItem(str(pri))\n",
    "            self.tableWidget.setItem(i, 1, price)\n",
    "                           \n",
    "\n",
    "app = QApplication(sys.argv) # 창 객체 생성\n",
    "window = MyWindow()          # 창 생성\n",
    "window.show()                # 창 띄우기\n",
    "app.exec_()                  # 창 계속 유지"
   ]
  },
  {
   "cell_type": "code",
   "execution_count": 4,
   "metadata": {},
   "outputs": [
    {
     "name": "stdout",
     "output_type": "stream",
     "text": [
      "38451000.0\n"
     ]
    }
   ],
   "source": [
    "# !pip install pyupbit\n",
    "\n",
    "import pyupbit\n",
    "\n",
    "print(pyupbit.get_current_price(\"KRW-BTC\"))"
   ]
  },
  {
   "cell_type": "code",
   "execution_count": 1,
   "metadata": {},
   "outputs": [
    {
     "data": {
      "text/plain": [
       "0"
      ]
     },
     "execution_count": 1,
     "metadata": {},
     "output_type": "execute_result"
    }
   ],
   "source": [
    "# 3대 음원 사이트 순위 조회 프로그램\n",
    "\n",
    "\n",
    "import sys                      # 시스템 접근 모듈\n",
    "from PyQt5.QtWidgets import *   # ui의 widjet 접근 모듈\n",
    "from PyQt5 import uic           # ui 사용 모듈\n",
    "\n",
    "\n",
    "form_class = uic.loadUiType(\"chart.ui\")[0] # [0] 꼭 입력\n",
    "\n",
    "class MyWindow(QMainWindow, form_class):\n",
    "    def __init__(self):      # 생성자\n",
    "        super().__init__()   # 부모의 생성자 사용\n",
    "        self.setupUi(self)   # ui 활성화\n",
    "\n",
    "        self.pushButton.clicked.connect(self.btn_clicked1)\n",
    "        self.pushButton_2.clicked.connect(self.btn_clicked2)\n",
    "        self.pushButton_3.clicked.connect(self.btn_clicked3)\n",
    "\n",
    "\n",
    "    # btn_clicked1 호출되는 매서드  벅스\n",
    "    def btn_clicked1(self):\n",
    "        import requests                     \n",
    "        from bs4 import BeautifulSoup as bs              \n",
    "\n",
    "        response = requests.get('https://music.bugs.co.kr/chart') \n",
    "        soup = bs(response.text)      \n",
    "        songs = soup.select('table.list.trackList.byChart > tbody > tr')\n",
    "\n",
    "        for i, song in enumerate(songs):\n",
    "            rank = song.select('strong')[0].text\n",
    "            title = song.select('p.title > a')[0].text\n",
    "            singer = song.select('p.artist > a')[0].text\n",
    "\n",
    "            item_service = QTableWidgetItem(\"Bugs\")\n",
    "            self.tableWidget.setItem(i, 0, item_service)\n",
    "\n",
    "            item_rank = QTableWidgetItem(rank)\n",
    "            self.tableWidget.setItem(i, 1, item_rank)\n",
    "\n",
    "            item_title = QTableWidgetItem(title)\n",
    "            self.tableWidget.setItem(i, 2, item_title)           \n",
    "\n",
    "            item_singer = QTableWidgetItem(singer)\n",
    "            self.tableWidget.setItem(i, 3, item_singer)    \n",
    "\n",
    "    # btn_clicked2 호출되는 매서드  멜론\n",
    "    def btn_clicked2(self):\n",
    "        from selenium import webdriver      \n",
    "        from bs4 import BeautifulSoup as bs \n",
    "                \n",
    "\n",
    "        driver = webdriver.Chrome('chromedriver.exe')\n",
    "\n",
    "        driver.get('https://www.melon.com/chart/')  # 분석할 웹 페이지 읽어오기\n",
    "        response = driver.page_source\n",
    "        soup = bs(response) \n",
    "        songs = soup.select('tbody > tr')\n",
    "\n",
    "        for i, song in enumerate(songs):\n",
    "            rank = song.select('span.rank')[0].text\n",
    "            title = song.select('div.ellipsis.rank01 > span > a')[0].text\n",
    "            singer = song.select('div.ellipsis.rank02 > span > a')[0].text\n",
    "\n",
    "            item_service = QTableWidgetItem(\"Melon\")\n",
    "            self.tableWidget.setItem(i, 0, item_service)\n",
    "\n",
    "            item_rank = QTableWidgetItem(rank)\n",
    "            self.tableWidget.setItem(i, 1, item_rank)\n",
    "\n",
    "            item_title = QTableWidgetItem(title)\n",
    "            self.tableWidget.setItem(i, 2, item_title)           \n",
    "\n",
    "            item_singer = QTableWidgetItem(singer)\n",
    "            self.tableWidget.setItem(i, 3, item_singer)  \n",
    "\n",
    "\n",
    "    # btn_clicked3 호출되는 매서드  지니\n",
    "    def btn_clicked3(self):\n",
    "        from selenium import webdriver      \n",
    "        from bs4 import BeautifulSoup as bs \n",
    "                \n",
    "        driver = webdriver.Chrome('chromedriver.exe')        \n",
    "        driver.get('https://www.genie.co.kr/chart/top200')\n",
    "        response = driver.page_source\n",
    "        soup = bs(response)\n",
    "\n",
    "        rank = 1\n",
    "        songs = soup.select('tr.list')\n",
    "\n",
    "        for i, song in enumerate(songs):\n",
    "            title = song.select('a.title.ellipsis')[0].text.strip()\n",
    "            singer = song.select('a.artist.ellipsis')[0].text.strip()\n",
    "\n",
    "            item_service = QTableWidgetItem(\"Genie\")\n",
    "            self.tableWidget.setItem(i, 0, item_service)\n",
    "\n",
    "            item_rank = QTableWidgetItem(rank)\n",
    "            self.tableWidget.setItem(i, 1, item_rank)\n",
    "\n",
    "            item_title = QTableWidgetItem(title)\n",
    "            self.tableWidget.setItem(i, 2, item_title)           \n",
    "\n",
    "            item_singer = QTableWidgetItem(singer)\n",
    "            self.tableWidget.setItem(i, 3, item_singer)  \n",
    "\n",
    "            rank += 1\n",
    "\n",
    "        next_btn = '#body-content > div.page-nav.rank-page-nav > a.current' \n",
    "        driver.find_element_by_css_selector(next_btn).click()\n",
    "\n",
    "        response = driver.page_source\n",
    "        soup = bs(response)\n",
    "        songs = soup.select('tr.list')\n",
    "\n",
    "        for i, song in enumerate(songs):\n",
    "            title = song.select('a.title.ellipsis')[0].text.strip()\n",
    "            singer = song.select('a.artist.ellipsis')[0].text.strip()\n",
    "\n",
    "            item_service = QTableWidgetItem(\"Genie\")\n",
    "            self.tableWidget.setItem(i+50, 0, item_service)\n",
    "\n",
    "            item_rank = QTableWidgetItem(rank)\n",
    "            self.tableWidget.setItem(i+50, 1, item_rank)\n",
    "\n",
    "            item_title = QTableWidgetItem(title)\n",
    "            self.tableWidget.setItem(i+50, 2, item_title)           \n",
    "\n",
    "            item_singer = QTableWidgetItem(singer)\n",
    "            self.tableWidget.setItem(i+50, 3, item_singer)  \n",
    "\n",
    "\n",
    "            rank += 1\n",
    "\n",
    "app = QApplication(sys.argv) # 창 객체 생성\n",
    "window = MyWindow()          # 창 생성\n",
    "window.show()                # 창 띄우기\n",
    "app.exec_()                  # 창 계속 유지\n"
   ]
  }
 ],
 "metadata": {
  "interpreter": {
   "hash": "52634da84371cba311ea128a5ea7cdc41ff074b781779e754b270ff9f8153cee"
  },
  "kernelspec": {
   "display_name": "Python 3.6.8 64-bit",
   "language": "python",
   "name": "python3"
  },
  "language_info": {
   "codemirror_mode": {
    "name": "ipython",
    "version": 3
   },
   "file_extension": ".py",
   "mimetype": "text/x-python",
   "name": "python",
   "nbconvert_exporter": "python",
   "pygments_lexer": "ipython3",
   "version": "3.6.8"
  },
  "orig_nbformat": 4
 },
 "nbformat": 4,
 "nbformat_minor": 2
}
