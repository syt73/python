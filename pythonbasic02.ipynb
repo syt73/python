{
  "nbformat": 4,
  "nbformat_minor": 0,
  "metadata": {
    "colab": {
      "name": "pythonbasic02.ipynb",
      "provenance": [],
      "authorship_tag": "ABX9TyP2SIh7Xn2Il+NCG0T640gs",
      "include_colab_link": true
    },
    "kernelspec": {
      "name": "python3",
      "display_name": "Python 3"
    },
    "language_info": {
      "name": "python"
    }
  },
  "cells": [
    {
      "cell_type": "markdown",
      "metadata": {
        "id": "view-in-github",
        "colab_type": "text"
      },
      "source": [
        "<a href=\"https://colab.research.google.com/github/keunsooyoon/python202206/blob/main/pythonbasic02.ipynb\" target=\"_parent\"><img src=\"https://colab.research.google.com/assets/colab-badge.svg\" alt=\"Open In Colab\"/></a>"
      ]
    },
    {
      "cell_type": "code",
      "execution_count": 1,
      "metadata": {
        "colab": {
          "base_uri": "https://localhost:8080/",
          "height": 53
        },
        "id": "yRxBvlI5y8AV",
        "outputId": "0abda483-7bea-43a8-da8e-bd5b533dd75c"
      },
      "outputs": [
        {
          "name": "stdout",
          "output_type": "stream",
          "text": [
            "gfdsags\n"
          ]
        },
        {
          "output_type": "execute_result",
          "data": {
            "text/plain": [
              "'gfdsags'"
            ],
            "application/vnd.google.colaboratory.intrinsic+json": {
              "type": "string"
            }
          },
          "metadata": {},
          "execution_count": 1
        }
      ],
      "source": [
        "# input 입력\n",
        "\n",
        "input()"
      ]
    },
    {
      "cell_type": "code",
      "source": [
        "input('아이디를 입력하세요')"
      ],
      "metadata": {
        "colab": {
          "base_uri": "https://localhost:8080/",
          "height": 53
        },
        "id": "a84LWvBQ0aMy",
        "outputId": "117b3636-f096-4683-cb10-2a6d9343c506"
      },
      "execution_count": 3,
      "outputs": [
        {
          "name": "stdout",
          "output_type": "stream",
          "text": [
            "아이디를 입력하세요ㄹㅇㄴㅁㄹㅇㄴ\n"
          ]
        },
        {
          "output_type": "execute_result",
          "data": {
            "text/plain": [
              "'ㄹㅇㄴㅁㄹㅇㄴ'"
            ],
            "application/vnd.google.colaboratory.intrinsic+json": {
              "type": "string"
            }
          },
          "metadata": {},
          "execution_count": 3
        }
      ]
    },
    {
      "cell_type": "code",
      "source": [
        "id = input('아이디를 입력하세요')"
      ],
      "metadata": {
        "colab": {
          "base_uri": "https://localhost:8080/"
        },
        "id": "5wk8pOK10v0X",
        "outputId": "380c1e25-3857-40c7-a3e7-110ed99b5e1f"
      },
      "execution_count": 4,
      "outputs": [
        {
          "name": "stdout",
          "output_type": "stream",
          "text": [
            "아이디를 입력하세요fdsa\n"
          ]
        }
      ]
    },
    {
      "cell_type": "code",
      "source": [
        "id = input('아이디를 입력하세요')\n",
        "print(f'{id} 님 환영합니다.')"
      ],
      "metadata": {
        "colab": {
          "base_uri": "https://localhost:8080/"
        },
        "id": "rQqXHdM901Ex",
        "outputId": "6bfe9084-74d4-4e6f-8ea8-54accb250566"
      },
      "execution_count": 5,
      "outputs": [
        {
          "output_type": "stream",
          "name": "stdout",
          "text": [
            "아이디를 입력하세요456456\n",
            "456456 님 환영합니다.\n"
          ]
        }
      ]
    },
    {
      "cell_type": "code",
      "source": [
        "age = input('당신의 나이를 입력하세요')\n",
        "print(f'당신의 나이는 {age}입니다.')"
      ],
      "metadata": {
        "colab": {
          "base_uri": "https://localhost:8080/"
        },
        "id": "wUe6HxJb1G7e",
        "outputId": "21384f34-186b-4f81-a668-f648eeb78f4f"
      },
      "execution_count": 6,
      "outputs": [
        {
          "output_type": "stream",
          "name": "stdout",
          "text": [
            "당신의 나이를 입력하세요21\n",
            "당신의 나이는 21입니다.\n"
          ]
        }
      ]
    },
    {
      "cell_type": "code",
      "source": [
        "age = input('당신의 나이를 입력하세요')\n",
        "print(f'당신의 내년 나이는 {age+1}입니다.')\n",
        "\n",
        "# input 언제나 항상 입력받은 모든 데이터를 문자취급한다."
      ],
      "metadata": {
        "colab": {
          "base_uri": "https://localhost:8080/",
          "height": 206
        },
        "id": "3eYHFBQz1V7W",
        "outputId": "54a3c62f-6a1f-410e-8867-b65d164be7c2"
      },
      "execution_count": 7,
      "outputs": [
        {
          "name": "stdout",
          "output_type": "stream",
          "text": [
            "당신의 나이를 입력하세요21\n"
          ]
        },
        {
          "output_type": "error",
          "ename": "TypeError",
          "evalue": "ignored",
          "traceback": [
            "\u001b[0;31m---------------------------------------------------------------------------\u001b[0m",
            "\u001b[0;31mTypeError\u001b[0m                                 Traceback (most recent call last)",
            "\u001b[0;32m<ipython-input-7-e9bf37e9bb64>\u001b[0m in \u001b[0;36m<module>\u001b[0;34m()\u001b[0m\n\u001b[1;32m      1\u001b[0m \u001b[0mage\u001b[0m \u001b[0;34m=\u001b[0m \u001b[0minput\u001b[0m\u001b[0;34m(\u001b[0m\u001b[0;34m'당신의 나이를 입력하세요'\u001b[0m\u001b[0;34m)\u001b[0m\u001b[0;34m\u001b[0m\u001b[0;34m\u001b[0m\u001b[0m\n\u001b[0;32m----> 2\u001b[0;31m \u001b[0mprint\u001b[0m\u001b[0;34m(\u001b[0m\u001b[0;34mf'당신의 내년 나이는 {age+1}입니다.'\u001b[0m\u001b[0;34m)\u001b[0m\u001b[0;34m\u001b[0m\u001b[0;34m\u001b[0m\u001b[0m\n\u001b[0m",
            "\u001b[0;31mTypeError\u001b[0m: can only concatenate str (not \"int\") to str"
          ]
        }
      ]
    },
    {
      "cell_type": "code",
      "source": [
        "age = int(input('당신의 나이를 입력하세요'))\n",
        "print(type(age))\n",
        "print(f'당신의 내년 나이는 {age+1}입니다.')\n",
        "\n",
        "# 따라서 숫자로 사용을 하고자 할때는 형변환 casting 을 해주어야 계산이 가능해진다. "
      ],
      "metadata": {
        "colab": {
          "base_uri": "https://localhost:8080/"
        },
        "id": "89UUTQa91_Le",
        "outputId": "94d82a5c-7f2e-4218-e94e-4f57372f064d"
      },
      "execution_count": 9,
      "outputs": [
        {
          "output_type": "stream",
          "name": "stdout",
          "text": [
            "당신의 나이를 입력하세요21\n",
            "<class 'int'>\n",
            "당신의 내년 나이는 22입니다.\n"
          ]
        }
      ]
    },
    {
      "cell_type": "code",
      "source": [
        "# 컬렉션 list tuple dict set    \n",
        "\n",
        "# 여러개의 데이터를 담아두는 자료형\n",
        "\n",
        "# 리스트 list\n",
        "# 1. 리스트는 [] 를 사용하여 만든다. \n",
        "# 2. 리스트는 자료형을 혼합하여 저장할수 도 있다. (파이썬 장점이자 단점)\n",
        "# 3. 리스트는 인덱싱과 슬라이싱이 가능하다. \n",
        "# 4. 리스트에서는 삽입/삭제/수정이 가능하다. \n",
        "\n",
        "#리스트를 사용하면 2,4,6,8,10... 여러 데이터의 모음을 간단하게 표현할수 있다. \n",
        "\n",
        "num = [2,4,6,8,10]\n",
        "print(num)\n",
        "\n",
        "li1 = [1,2,'영희','철수']\n",
        "print(li1)\n",
        "\n"
      ],
      "metadata": {
        "colab": {
          "base_uri": "https://localhost:8080/"
        },
        "id": "qOuVuBz52pgf",
        "outputId": "163f7862-ca1e-464e-a7ea-ab9a7b020629"
      },
      "execution_count": 11,
      "outputs": [
        {
          "output_type": "stream",
          "name": "stdout",
          "text": [
            "[2, 4, 6, 8, 10]\n",
            "[1, 2, '영희', '철수']\n"
          ]
        }
      ]
    },
    {
      "cell_type": "code",
      "source": [
        ""
      ],
      "metadata": {
        "id": "A3sLjgay8id9"
      },
      "execution_count": null,
      "outputs": []
    },
    {
      "cell_type": "code",
      "source": [
        "# 리스트에서의 인덱싱과 슬라이싱\n",
        "\n",
        "num = [2,4,6,8,10]\n",
        "print(num[-1])"
      ],
      "metadata": {
        "colab": {
          "base_uri": "https://localhost:8080/"
        },
        "id": "4NK6CoQX7z2A",
        "outputId": "f3872118-ffc7-40a8-cb2e-b47a188ed32d"
      },
      "execution_count": 13,
      "outputs": [
        {
          "output_type": "stream",
          "name": "stdout",
          "text": [
            "10\n"
          ]
        }
      ]
    },
    {
      "cell_type": "code",
      "source": [
        "print(num[0] + num[-1])"
      ],
      "metadata": {
        "colab": {
          "base_uri": "https://localhost:8080/"
        },
        "id": "G1jzTJUl8i7f",
        "outputId": "3ef6898c-3850-4816-aa9f-1a75da645dba"
      },
      "execution_count": 14,
      "outputs": [
        {
          "output_type": "stream",
          "name": "stdout",
          "text": [
            "12\n"
          ]
        }
      ]
    },
    {
      "cell_type": "code",
      "source": [
        "li1 = [1,2,'a','b',[1,2,3]]\n",
        "print(li1[-1][0])"
      ],
      "metadata": {
        "colab": {
          "base_uri": "https://localhost:8080/"
        },
        "id": "enfYLmBd8wVS",
        "outputId": "db98ac53-adb7-4576-e4b5-cf92d1652499"
      },
      "execution_count": 17,
      "outputs": [
        {
          "output_type": "stream",
          "name": "stdout",
          "text": [
            "1\n"
          ]
        }
      ]
    },
    {
      "cell_type": "code",
      "source": [
        "# 리스트에서의 슬라이싱\n",
        "\n",
        "num = [2,4,6,8,10]\n",
        "print(num[0:3])  # [start:stop(:step)]  스탭은 생략하면 1씩 증가 , stop 미만\n",
        "print(num[:3])   # 시작을 생략하면 처음부터이고 끝을 생략하면 마지막 요소까지"
      ],
      "metadata": {
        "colab": {
          "base_uri": "https://localhost:8080/"
        },
        "id": "9eGmsK5U9REK",
        "outputId": "bcfe6cfb-83f4-4850-e8dd-2c63e2248b45"
      },
      "execution_count": 20,
      "outputs": [
        {
          "output_type": "stream",
          "name": "stdout",
          "text": [
            "[2, 4, 6]\n",
            "[2, 4, 6]\n"
          ]
        }
      ]
    },
    {
      "cell_type": "code",
      "source": [
        "# 리스트에서의 연산\n",
        "\n",
        "a = [1,2,3]\n",
        "print(a * 3)"
      ],
      "metadata": {
        "colab": {
          "base_uri": "https://localhost:8080/"
        },
        "id": "VEVKLki5-Ot6",
        "outputId": "f2bfae25-9275-4c10-d282-6bba7786b7b2"
      },
      "execution_count": 21,
      "outputs": [
        {
          "output_type": "stream",
          "name": "stdout",
          "text": [
            "[1, 2, 3, 1, 2, 3, 1, 2, 3]\n"
          ]
        }
      ]
    },
    {
      "cell_type": "code",
      "source": [
        "# 리스트의 길이(갯수)\n",
        "\n",
        "num = [2,4,6,8,10]\n",
        "print(len(num))"
      ],
      "metadata": {
        "colab": {
          "base_uri": "https://localhost:8080/"
        },
        "id": "67R0TSWu-j4G",
        "outputId": "1b22ee8f-48f5-4d8f-bd10-e630839baeee"
      },
      "execution_count": 22,
      "outputs": [
        {
          "output_type": "stream",
          "name": "stdout",
          "text": [
            "5\n"
          ]
        }
      ]
    },
    {
      "cell_type": "code",
      "source": [
        "# 4. 리스트에서는 삽입/삭제/수정이 가능하다. \n",
        "\n",
        "# 수정\n",
        "num = [2,4,6,8,10]\n",
        "\n",
        "num[0] = 0\n",
        "print(num)\n",
        "\n",
        "\n",
        "# 삭제\n",
        "del num[0]\n",
        "print(num)\n",
        "\n",
        "del num[2:]  # 슬라이싱 기법을 사용하여 여러 요소 한번에 삭제\n",
        "print(num)\n",
        "\n",
        "num.pop()  # 마지막 항목을 하나씩 제거, 괄호안을 생략 -> 마지막 1개 삭제 \n",
        "print(num)\n",
        "\n",
        "num = [2,4,6,8,10]\n",
        "num.pop(0)  # 괄호안을 생략하면 마지막 요소를 날리지만 위치값을 지정하면 그 요소를 삭제\n",
        "print(num)"
      ],
      "metadata": {
        "colab": {
          "base_uri": "https://localhost:8080/"
        },
        "id": "2ekSqrZv-5Hg",
        "outputId": "dbdd746c-f2e1-4ae2-e275-988504e93ca7"
      },
      "execution_count": 32,
      "outputs": [
        {
          "output_type": "stream",
          "name": "stdout",
          "text": [
            "[0, 4, 6, 8, 10]\n",
            "[4, 6, 8, 10]\n",
            "[4, 6]\n",
            "[4]\n",
            "[4, 6, 8, 10]\n"
          ]
        }
      ]
    },
    {
      "cell_type": "code",
      "source": [
        "\n",
        "# 리스트 삽입 append, insert\n",
        "\n",
        "a = [1,2,3]\n",
        "print(a)\n",
        "\n",
        "a.append(4)\n",
        "print(a)\n",
        "\n",
        "a.append('글자')\n",
        "print(a)\n",
        "\n",
        "a.insert(0,0)   # (위치,값)\n",
        "print(a)"
      ],
      "metadata": {
        "colab": {
          "base_uri": "https://localhost:8080/"
        },
        "id": "ny3Ju0KBAJPq",
        "outputId": "acdc6544-7019-4abb-b8b2-ba956088cc15"
      },
      "execution_count": 30,
      "outputs": [
        {
          "output_type": "stream",
          "name": "stdout",
          "text": [
            "[1, 2, 3]\n",
            "[1, 2, 3, 4]\n",
            "[1, 2, 3, 4, '글자']\n",
            "[0, 1, 2, 3, 4, '글자']\n"
          ]
        }
      ]
    },
    {
      "cell_type": "code",
      "source": [
        "# 튜플 tuple\n",
        "# 1. 튜플은 () 를 사용하여 만든다. \n",
        "# 2. 튜플은 자료형을 혼합하여 저장할수 도 있다. (파이썬 장점이자 단점)\n",
        "# 3. 튜플은 인덱싱과 슬라이싱이 가능하다. \n",
        "# 4. 튜플에서는 삽입/삭제/수정이 불가능하다. immutable\n",
        "# 5. 튜플은 한개의 요소로 만들때는 괜히 ,를 넣는다. \n",
        "\n",
        "t1 = (1,2,3)\n",
        "type(t1)\n",
        "t2 = (1,2,'a','b')\n",
        "print(t2)"
      ],
      "metadata": {
        "colab": {
          "base_uri": "https://localhost:8080/"
        },
        "id": "n3-SYhJMCglW",
        "outputId": "9d359000-9c9d-48e3-89fa-92884986aec9"
      },
      "execution_count": 35,
      "outputs": [
        {
          "output_type": "stream",
          "name": "stdout",
          "text": [
            "(1, 2, 'a', 'b')\n"
          ]
        }
      ]
    },
    {
      "cell_type": "code",
      "source": [
        "# 튜플에서의 인덱싱\n",
        "\n",
        "t2 = (1,2,'a','b')\n",
        "\n",
        "t2[-1]"
      ],
      "metadata": {
        "colab": {
          "base_uri": "https://localhost:8080/",
          "height": 35
        },
        "id": "XeE2gWBqDoGK",
        "outputId": "540625d0-16f0-4c21-bbba-2d996c6b3316"
      },
      "execution_count": 37,
      "outputs": [
        {
          "output_type": "execute_result",
          "data": {
            "text/plain": [
              "'b'"
            ],
            "application/vnd.google.colaboratory.intrinsic+json": {
              "type": "string"
            }
          },
          "metadata": {},
          "execution_count": 37
        }
      ]
    },
    {
      "cell_type": "code",
      "source": [
        "# 튜플에서의 슬라이싱\n",
        "t2[:2]  # 마지막은 미만 처리"
      ],
      "metadata": {
        "colab": {
          "base_uri": "https://localhost:8080/"
        },
        "id": "akJ1thhFDzkf",
        "outputId": "b4277e06-97bc-438d-8cc4-6329e1a83ff5"
      },
      "execution_count": 38,
      "outputs": [
        {
          "output_type": "execute_result",
          "data": {
            "text/plain": [
              "(1, 2)"
            ]
          },
          "metadata": {},
          "execution_count": 38
        }
      ]
    },
    {
      "cell_type": "code",
      "source": [
        "# 4. 튜플에서는 삽입/삭제/수정이 불가능하다. immutable\n",
        "\n",
        "t2 = (1,2,'a','b')\n",
        "\n",
        "t2.append('c')"
      ],
      "metadata": {
        "colab": {
          "base_uri": "https://localhost:8080/",
          "height": 206
        },
        "id": "JwGgwKoQEPXJ",
        "outputId": "2be27afa-31dc-4fb7-c243-40df14ed8175"
      },
      "execution_count": 39,
      "outputs": [
        {
          "output_type": "error",
          "ename": "AttributeError",
          "evalue": "ignored",
          "traceback": [
            "\u001b[0;31m---------------------------------------------------------------------------\u001b[0m",
            "\u001b[0;31mAttributeError\u001b[0m                            Traceback (most recent call last)",
            "\u001b[0;32m<ipython-input-39-86c63b2b5e4d>\u001b[0m in \u001b[0;36m<module>\u001b[0;34m()\u001b[0m\n\u001b[1;32m      3\u001b[0m \u001b[0mt2\u001b[0m \u001b[0;34m=\u001b[0m \u001b[0;34m(\u001b[0m\u001b[0;36m1\u001b[0m\u001b[0;34m,\u001b[0m\u001b[0;36m2\u001b[0m\u001b[0;34m,\u001b[0m\u001b[0;34m'a'\u001b[0m\u001b[0;34m,\u001b[0m\u001b[0;34m'b'\u001b[0m\u001b[0;34m)\u001b[0m\u001b[0;34m\u001b[0m\u001b[0;34m\u001b[0m\u001b[0m\n\u001b[1;32m      4\u001b[0m \u001b[0;34m\u001b[0m\u001b[0m\n\u001b[0;32m----> 5\u001b[0;31m \u001b[0mt2\u001b[0m\u001b[0;34m.\u001b[0m\u001b[0mappend\u001b[0m\u001b[0;34m(\u001b[0m\u001b[0;34m'c'\u001b[0m\u001b[0;34m)\u001b[0m\u001b[0;34m\u001b[0m\u001b[0;34m\u001b[0m\u001b[0m\n\u001b[0m",
            "\u001b[0;31mAttributeError\u001b[0m: 'tuple' object has no attribute 'append'"
          ]
        }
      ]
    },
    {
      "cell_type": "code",
      "source": [
        "del t2[0]"
      ],
      "metadata": {
        "colab": {
          "base_uri": "https://localhost:8080/",
          "height": 171
        },
        "id": "AQ9SgeyUErws",
        "outputId": "f20dbbbf-a0ae-41db-97de-80f5d5cc39df"
      },
      "execution_count": 41,
      "outputs": [
        {
          "output_type": "error",
          "ename": "TypeError",
          "evalue": "ignored",
          "traceback": [
            "\u001b[0;31m---------------------------------------------------------------------------\u001b[0m",
            "\u001b[0;31mTypeError\u001b[0m                                 Traceback (most recent call last)",
            "\u001b[0;32m<ipython-input-41-44fdbce93b46>\u001b[0m in \u001b[0;36m<module>\u001b[0;34m()\u001b[0m\n\u001b[0;32m----> 1\u001b[0;31m \u001b[0;32mdel\u001b[0m \u001b[0mt2\u001b[0m\u001b[0;34m[\u001b[0m\u001b[0;36m0\u001b[0m\u001b[0;34m]\u001b[0m\u001b[0;34m\u001b[0m\u001b[0;34m\u001b[0m\u001b[0m\n\u001b[0m",
            "\u001b[0;31mTypeError\u001b[0m: 'tuple' object doesn't support item deletion"
          ]
        }
      ]
    },
    {
      "cell_type": "code",
      "source": [
        "t2[0] = 0"
      ],
      "metadata": {
        "colab": {
          "base_uri": "https://localhost:8080/",
          "height": 171
        },
        "id": "I0oe4effEfep",
        "outputId": "e643748b-69fd-42bd-d9cb-c7d99ae63984"
      },
      "execution_count": 40,
      "outputs": [
        {
          "output_type": "error",
          "ename": "TypeError",
          "evalue": "ignored",
          "traceback": [
            "\u001b[0;31m---------------------------------------------------------------------------\u001b[0m",
            "\u001b[0;31mTypeError\u001b[0m                                 Traceback (most recent call last)",
            "\u001b[0;32m<ipython-input-40-93a43191ebc8>\u001b[0m in \u001b[0;36m<module>\u001b[0;34m()\u001b[0m\n\u001b[0;32m----> 1\u001b[0;31m \u001b[0mt2\u001b[0m\u001b[0;34m[\u001b[0m\u001b[0;36m0\u001b[0m\u001b[0;34m]\u001b[0m \u001b[0;34m=\u001b[0m \u001b[0;36m0\u001b[0m\u001b[0;34m\u001b[0m\u001b[0;34m\u001b[0m\u001b[0m\n\u001b[0m",
            "\u001b[0;31mTypeError\u001b[0m: 'tuple' object does not support item assignment"
          ]
        }
      ]
    },
    {
      "cell_type": "code",
      "source": [
        "len(t2)"
      ],
      "metadata": {
        "colab": {
          "base_uri": "https://localhost:8080/"
        },
        "id": "qEtZXnNuE-Jt",
        "outputId": "957f80c4-50c2-4600-847e-caa20d4b6d61"
      },
      "execution_count": 42,
      "outputs": [
        {
          "output_type": "execute_result",
          "data": {
            "text/plain": [
              "4"
            ]
          },
          "metadata": {},
          "execution_count": 42
        }
      ]
    },
    {
      "cell_type": "code",
      "source": [
        "# 5. 튜플은 한개의 요소로 만들때는 괜히 ,를 넣는다. \n",
        "\n",
        "li1 = [1]\n",
        "print(li1)\n",
        "print(len(li1))\n",
        "print(type(li1))\n",
        "\n",
        "print()\n",
        "\n",
        "tu1 = (1)\n",
        "print(tu1)\n",
        "# print(len(tu1))\n",
        "print(type(tu1))\n",
        "\n",
        "print()\n",
        "\n",
        "tu1 = (1,)\n",
        "print(tu1)\n",
        "# print(len(tu1))\n",
        "print(type(tu1))"
      ],
      "metadata": {
        "colab": {
          "base_uri": "https://localhost:8080/"
        },
        "id": "TKCjdCnyFGCj",
        "outputId": "dd87e376-ff4a-4ac1-bc4a-84b3cca8fe3d"
      },
      "execution_count": 48,
      "outputs": [
        {
          "output_type": "stream",
          "name": "stdout",
          "text": [
            "[1]\n",
            "1\n",
            "<class 'list'>\n",
            "\n",
            "1\n",
            "<class 'int'>\n",
            "\n",
            "(1,)\n",
            "<class 'tuple'>\n"
          ]
        }
      ]
    },
    {
      "cell_type": "code",
      "source": [
        "# Quiz 1. bts 라는 이름의 멤버들 이름 리스트를 생성하세요.\n",
        "\n",
        "bts = ['정국', '진', '뷔', 'RM', '지민', '제이홉', '슈가']\n",
        "\n",
        "# Quiz 2. bts 추가된 멤버를 끝에 삽입하세요. '길동'\n",
        "\n",
        "bts.append('길동')\n",
        "\n",
        "# Quiz 3. '길동'을 삭제하세요\n",
        "\n",
        "bts.pop()\n",
        "\n",
        "# Quiz 4. nums = [1,2,3,4,5]  \n",
        "# nums 리스트에서의 최대값은 5입니다.\n",
        "# nums 리스트에서의 최소값은 1입니다.\n",
        "\n",
        "nums = [1,2,3,4,5]  \n",
        "print(f'nums리스트에서의 최대값은 {max(nums)}입니다. ')\n",
        "print(f'nums리스트에서의 최소값은 {min(nums)}입니다. ')\n",
        "\n",
        "# Quiz 5. nums = [1,2,3,4,5] 값의 평균을 계산하시오. 함수를 2개만 사용하세요  \n",
        "\n",
        "print(f'nums 리스트에서의 평균은 {sum(nums)/len(nums)}입니다')\n",
        "\n",
        "\n",
        "total = sum(nums)\n",
        "result = total/5\n",
        "print(f'평균은 {result}입니다')\n",
        "\n",
        "# Quiz 6. 날짜를 제외한 가격만 출력하세요\n",
        "\n",
        "price = ['20220602', 100, 300, 200]\n",
        "\n",
        "print(price[1:])\n",
        "\n",
        "# Quiz 7. 짝수만 출력하세요\n",
        "\n",
        "nums = [1,2,3,4,5,6,7,8,9,10]\n",
        "\n",
        "print(nums[1::2])\n",
        "\n",
        "\n",
        "# Quiz 8. 꺼꾸로 출력하세요\n",
        "\n",
        "nums = [1,2,3,4,5,6,7,8,9,10]\n",
        "print(nums[::-1])\n",
        "\n",
        "\n",
        "# Quiz 9. s = \"삼성 엘지 sk\" 문자열 s를 리스트로 분리하여 저장하시오. split\n",
        "\n",
        "s = \"삼성 엘지 sk\"\n",
        "ss = \"삼성/엘지/sk\"\n",
        "li = s.split()\n",
        "li2 = ss.split('/')\n",
        "print(li)\n",
        "print(li2)\n",
        "\n",
        "\n"
      ],
      "metadata": {
        "colab": {
          "base_uri": "https://localhost:8080/"
        },
        "id": "07JXEbE2JSRu",
        "outputId": "ab9067f7-6886-45d8-98d5-4688df19f77b"
      },
      "execution_count": 59,
      "outputs": [
        {
          "output_type": "stream",
          "name": "stdout",
          "text": [
            "nums리스트에서의 최대값은 5입니다. \n",
            "nums리스트에서의 최소값은 1입니다. \n",
            "nums 리스트에서의 평균은 3.0입니다\n",
            "평균은 3.0입니다\n",
            "[100, 300, 200]\n",
            "[2, 4, 6, 8, 10]\n",
            "[10, 9, 8, 7, 6, 5, 4, 3, 2, 1]\n",
            "['삼성', '엘지', 'sk']\n",
            "['삼성', '엘지', 'sk']\n"
          ]
        }
      ]
    },
    {
      "cell_type": "code",
      "source": [
        "# 딕셔너리 Dict   \n",
        "\n",
        "# 1. 딕셔너리는 {} 를 사용하여 만든다. \n",
        "# 2. 딕셔너리는 자료형을 혼합하여 저장할수 도 있다. (파이썬 장점이자 단점)\n",
        "# 3. 딕셔너리는 인덱싱과 슬라이싱이 불가능하다.  순서가 없다. unordered\n",
        "# 4. 딕셔너리는 삽입/삭제/수정이 가능하다. mutable\n",
        "# 5. 딕셔너리는 키값과 밸류값의 쌍으로 구성된다. (자바의 맵, JS 의 JSON)"
      ],
      "metadata": {
        "id": "mxTw4fTuLwCW"
      },
      "execution_count": null,
      "outputs": []
    },
    {
      "cell_type": "code",
      "source": [
        "a = {1:'hello', 2:'hi'}\n",
        "print(type(a))\n",
        "print(a)"
      ],
      "metadata": {
        "colab": {
          "base_uri": "https://localhost:8080/"
        },
        "id": "2X4zhqV0RDyo",
        "outputId": "a93e3186-41f0-47cd-9f2d-d3efeab652cd"
      },
      "execution_count": 63,
      "outputs": [
        {
          "output_type": "stream",
          "name": "stdout",
          "text": [
            "<class 'dict'>\n",
            "{1: 'hello', 2: 'hi'}\n"
          ]
        }
      ]
    },
    {
      "cell_type": "code",
      "source": [
        "b = {'name':'Alice',  'gender': 'F','age':21}\n",
        "print(b)\n",
        "\n",
        "# 딕셔너리는 순서가 없기때문에 indexing 과 slicing 이 불가능하다. \n",
        "# 딕셔너리는 순서가 없기때문에 입력순서와 출력순서가 다를 수 있다. "
      ],
      "metadata": {
        "colab": {
          "base_uri": "https://localhost:8080/"
        },
        "id": "6vhmLmuqRcoZ",
        "outputId": "e72b65d5-0cb4-4250-c040-34dca7f2722e"
      },
      "execution_count": 66,
      "outputs": [
        {
          "output_type": "stream",
          "name": "stdout",
          "text": [
            "{'name': 'Alice', 'gender': 'F', 'age': 21}\n"
          ]
        }
      ]
    },
    {
      "cell_type": "code",
      "source": [
        "# b[0]  # 딕셔너리는 인덱싱과 슬라이싱이 불가능하다. \n",
        "\n",
        "# 따라서 딕셔너리는 키값으로만 추출할수 있다. \n",
        "\n",
        "b['name']  # 키값으로만 밸류값을 꺼낼수 있다. "
      ],
      "metadata": {
        "colab": {
          "base_uri": "https://localhost:8080/",
          "height": 35
        },
        "id": "Uw_01RxwSU9m",
        "outputId": "249602ca-012f-4164-92c4-e81477db9183"
      },
      "execution_count": 69,
      "outputs": [
        {
          "output_type": "execute_result",
          "data": {
            "text/plain": [
              "'Alice'"
            ],
            "application/vnd.google.colaboratory.intrinsic+json": {
              "type": "string"
            }
          },
          "metadata": {},
          "execution_count": 69
        }
      ]
    },
    {
      "cell_type": "code",
      "source": [
        "# 4. 딕셔너리는 삽입/삭제/수정이 가능하다. mutable\n",
        "\n",
        "b = {'name':'Alice',  'gender': 'F','age':21}\n",
        "print(b)\n",
        "\n",
        "del b['age']     #삭제\n",
        "print(b)\n",
        "\n",
        "b['age2'] = 31   # 삽입\n",
        "print(b)\n",
        "\n",
        "b['age2'] = 25   # 수정\n",
        "print(b)"
      ],
      "metadata": {
        "colab": {
          "base_uri": "https://localhost:8080/"
        },
        "id": "8bR61pVYS5A9",
        "outputId": "ee956fb4-1b18-4718-a491-18a6402b6db8"
      },
      "execution_count": 72,
      "outputs": [
        {
          "output_type": "stream",
          "name": "stdout",
          "text": [
            "{'name': 'Alice', 'gender': 'F', 'age': 21}\n",
            "{'name': 'Alice', 'gender': 'F'}\n",
            "{'name': 'Alice', 'gender': 'F', 'age2': 31}\n",
            "{'name': 'Alice', 'gender': 'F', 'age2': 25}\n"
          ]
        }
      ]
    },
    {
      "cell_type": "code",
      "source": [
        "# 딕셔너리 관련 많이 사용되는 함수들\n",
        "\n",
        "# keys()      # 키 값들만 모두 추출\n",
        "\n",
        "b = {'name':'Alice',  'gender': 'F','age':21}\n",
        "\n",
        "b.keys()"
      ],
      "metadata": {
        "colab": {
          "base_uri": "https://localhost:8080/"
        },
        "id": "oaZeV1PnTntf",
        "outputId": "4cecd270-bf17-4055-b808-d6dd77b25788"
      },
      "execution_count": 73,
      "outputs": [
        {
          "output_type": "execute_result",
          "data": {
            "text/plain": [
              "dict_keys(['name', 'gender', 'age'])"
            ]
          },
          "metadata": {},
          "execution_count": 73
        }
      ]
    },
    {
      "cell_type": "code",
      "source": [
        "b.values()   # 밸류 값들만 모두 추출"
      ],
      "metadata": {
        "colab": {
          "base_uri": "https://localhost:8080/"
        },
        "id": "awihYUjmmrcH",
        "outputId": "21cb5bb4-6c6e-43f6-9603-f2263e2c942c"
      },
      "execution_count": 74,
      "outputs": [
        {
          "output_type": "execute_result",
          "data": {
            "text/plain": [
              "dict_values(['Alice', 'F', 21])"
            ]
          },
          "metadata": {},
          "execution_count": 74
        }
      ]
    },
    {
      "cell_type": "code",
      "source": [
        "c = b.items()   # 키와 밸류를 쌍으로 반환\n",
        "c"
      ],
      "metadata": {
        "colab": {
          "base_uri": "https://localhost:8080/"
        },
        "id": "caf-usL3mtJW",
        "outputId": "d9ea6a4f-4352-4165-a5cd-7236a6e03d18"
      },
      "execution_count": 77,
      "outputs": [
        {
          "output_type": "execute_result",
          "data": {
            "text/plain": [
              "dict_items([('name', 'Alice'), ('gender', 'F'), ('age', 21)])"
            ]
          },
          "metadata": {},
          "execution_count": 77
        }
      ]
    },
    {
      "cell_type": "code",
      "source": [
        ""
      ],
      "metadata": {
        "id": "SfGLpjGnnVzh"
      },
      "execution_count": null,
      "outputs": []
    },
    {
      "cell_type": "code",
      "source": [
        "# 셋 set  \n",
        "\n",
        "# 1. 셋은 {} 를 사용하여 만든다. \n",
        "# 2. 셋은 자료형을 혼합하여 저장할수 도 있다. (파이썬 장점이자 단점)\n",
        "# 3. 셋은 인덱싱과 슬라이싱이 불가능하다. 순서가 없다. unordered\n",
        "# 4. 셋은 삽입/삭제/수정이 가능하다. mutable\n",
        "# 5. 셋은 중복값을 허용하지 않는다. "
      ],
      "metadata": {
        "id": "uU_FgErFnV79"
      },
      "execution_count": null,
      "outputs": []
    },
    {
      "cell_type": "code",
      "source": [
        "# 1. 셋은 {} 를 사용하여 만든다. \n",
        "\n",
        "s1 = {1,2,3}\n",
        "type(s1)\n",
        "\n",
        "s2 = set(\"hello\")\n",
        "print(s2)"
      ],
      "metadata": {
        "colab": {
          "base_uri": "https://localhost:8080/"
        },
        "id": "VtssfsAen59O",
        "outputId": "45e0f21f-082e-4d5c-e560-a441ffcda74b"
      },
      "execution_count": 80,
      "outputs": [
        {
          "output_type": "stream",
          "name": "stdout",
          "text": [
            "{'h', 'o', 'e', 'l'}\n"
          ]
        }
      ]
    },
    {
      "cell_type": "code",
      "source": [
        "# 5. 셋은 중복값을 허용하지 않는다. \n",
        "\n",
        "s2 = {1,1,1,2,2,3,'1','하나'}\n",
        "print(s2)"
      ],
      "metadata": {
        "colab": {
          "base_uri": "https://localhost:8080/"
        },
        "id": "EqWbxENNoHJQ",
        "outputId": "f5950f89-6aa5-4428-d53c-cfbf5f785cf5"
      },
      "execution_count": 81,
      "outputs": [
        {
          "output_type": "stream",
          "name": "stdout",
          "text": [
            "{1, 2, 3, '1', '하나'}\n"
          ]
        }
      ]
    },
    {
      "cell_type": "code",
      "source": [
        "# 3. 셋은 인덱싱과 슬라이싱이 불가능하다. 순서가 없다. unordered\n",
        "\n",
        "\n",
        "s2 = {1,1,1,2,2,3,'1','하나'}\n",
        "\n",
        "s2[0]"
      ],
      "metadata": {
        "colab": {
          "base_uri": "https://localhost:8080/",
          "height": 206
        },
        "id": "mGMuXULypE5S",
        "outputId": "81ef9a52-9b85-4b38-ecb4-6db13f6b6675"
      },
      "execution_count": 83,
      "outputs": [
        {
          "output_type": "error",
          "ename": "TypeError",
          "evalue": "ignored",
          "traceback": [
            "\u001b[0;31m---------------------------------------------------------------------------\u001b[0m",
            "\u001b[0;31mTypeError\u001b[0m                                 Traceback (most recent call last)",
            "\u001b[0;32m<ipython-input-83-763228483050>\u001b[0m in \u001b[0;36m<module>\u001b[0;34m()\u001b[0m\n\u001b[1;32m      4\u001b[0m \u001b[0ms2\u001b[0m \u001b[0;34m=\u001b[0m \u001b[0;34m{\u001b[0m\u001b[0;36m1\u001b[0m\u001b[0;34m,\u001b[0m\u001b[0;36m1\u001b[0m\u001b[0;34m,\u001b[0m\u001b[0;36m1\u001b[0m\u001b[0;34m,\u001b[0m\u001b[0;36m2\u001b[0m\u001b[0;34m,\u001b[0m\u001b[0;36m2\u001b[0m\u001b[0;34m,\u001b[0m\u001b[0;36m3\u001b[0m\u001b[0;34m,\u001b[0m\u001b[0;34m'1'\u001b[0m\u001b[0;34m,\u001b[0m\u001b[0;34m'하나'\u001b[0m\u001b[0;34m}\u001b[0m\u001b[0;34m\u001b[0m\u001b[0;34m\u001b[0m\u001b[0m\n\u001b[1;32m      5\u001b[0m \u001b[0;34m\u001b[0m\u001b[0m\n\u001b[0;32m----> 6\u001b[0;31m \u001b[0ms2\u001b[0m\u001b[0;34m[\u001b[0m\u001b[0;36m0\u001b[0m\u001b[0;34m]\u001b[0m\u001b[0;34m\u001b[0m\u001b[0;34m\u001b[0m\u001b[0m\n\u001b[0m",
            "\u001b[0;31mTypeError\u001b[0m: 'set' object is not subscriptable"
          ]
        }
      ]
    },
    {
      "cell_type": "code",
      "source": [
        "s2 = {1,1,1,2,2,3,'1','하나'}\n",
        "l2 = list(s2)\n",
        "print(l2)"
      ],
      "metadata": {
        "colab": {
          "base_uri": "https://localhost:8080/"
        },
        "id": "xv5HQ9zPpKmE",
        "outputId": "95d103bb-a497-47f1-a955-2cdc141582f7"
      },
      "execution_count": 84,
      "outputs": [
        {
          "output_type": "stream",
          "name": "stdout",
          "text": [
            "[1, 2, 3, '1', '하나']\n"
          ]
        }
      ]
    },
    {
      "cell_type": "code",
      "source": [
        "# 4. 셋은 삽입/삭제/수정이 가능하다. mutable\n",
        "\n",
        "s2 = {1,1,1,2,2,3,'1','하나'}\n",
        "\n",
        "s2.add('둘')\n",
        "s2"
      ],
      "metadata": {
        "colab": {
          "base_uri": "https://localhost:8080/"
        },
        "id": "7xRU273vp1xa",
        "outputId": "490b70a0-e676-4264-c8ab-3ebe386ea030"
      },
      "execution_count": 85,
      "outputs": [
        {
          "output_type": "execute_result",
          "data": {
            "text/plain": [
              "{1, '1', 2, 3, '둘', '하나'}"
            ]
          },
          "metadata": {},
          "execution_count": 85
        }
      ]
    },
    {
      "cell_type": "code",
      "source": [
        "s2.remove(2)  # 삭제할 데이터"
      ],
      "metadata": {
        "id": "K071v1fLqH4s"
      },
      "execution_count": 86,
      "outputs": []
    },
    {
      "cell_type": "code",
      "source": [
        "s2"
      ],
      "metadata": {
        "colab": {
          "base_uri": "https://localhost:8080/"
        },
        "id": "H5bzguI_qLy_",
        "outputId": "2328fcbd-e5f3-4d8f-a4f0-67b3f9cb2b7d"
      },
      "execution_count": 87,
      "outputs": [
        {
          "output_type": "execute_result",
          "data": {
            "text/plain": [
              "{1, '1', 3, '둘', '하나'}"
            ]
          },
          "metadata": {},
          "execution_count": 87
        }
      ]
    },
    {
      "cell_type": "code",
      "source": [
        "# if \n",
        "\n",
        "\n",
        "# if 조건식:\n",
        "#   참인 경우\n",
        "# else:\n",
        "#   거짓인 경우\n",
        "\n",
        "money = 2000\n",
        "if money >= 3000:\n",
        "  print('택시 타라')   # 참인 경우\n",
        "else:\n",
        "  print('결어 가라')   # 거짓인 경우\n",
        "\n",
        "\n"
      ],
      "metadata": {
        "colab": {
          "base_uri": "https://localhost:8080/"
        },
        "id": "--6Q8C2ZqknM",
        "outputId": "335041cf-0651-47e3-9722-b398029def08"
      },
      "execution_count": 88,
      "outputs": [
        {
          "output_type": "stream",
          "name": "stdout",
          "text": [
            "결어 가라\n"
          ]
        }
      ]
    },
    {
      "cell_type": "code",
      "source": [
        "money = 2000\n",
        "card = True\n",
        "\n",
        "if money >= 3000 or card:\n",
        "  print('택시 타라')   # 참인 경우\n",
        "else:\n",
        "  print('결어 가라')   # 거짓인 경우\n"
      ],
      "metadata": {
        "colab": {
          "base_uri": "https://localhost:8080/"
        },
        "id": "t4nxkTxGvIUu",
        "outputId": "52a85b69-1f9e-417c-f8f5-f1efd70ec9dc"
      },
      "execution_count": 89,
      "outputs": [
        {
          "output_type": "stream",
          "name": "stdout",
          "text": [
            "택시 타라\n"
          ]
        }
      ]
    },
    {
      "cell_type": "code",
      "source": [
        "4 not in [1,2,3]"
      ],
      "metadata": {
        "colab": {
          "base_uri": "https://localhost:8080/"
        },
        "id": "HHsk6e_fvdfz",
        "outputId": "42b9bff3-3805-4968-e66c-837d626e826d"
      },
      "execution_count": 92,
      "outputs": [
        {
          "output_type": "execute_result",
          "data": {
            "text/plain": [
              "True"
            ]
          },
          "metadata": {},
          "execution_count": 92
        }
      ]
    },
    {
      "cell_type": "code",
      "source": [
        "pocket = ['paper','phone','money']\n",
        "\n",
        "if 'money' in pocket:\n",
        "  print('택시 타라')\n",
        "else:\n",
        "  print('걸어 가라')"
      ],
      "metadata": {
        "colab": {
          "base_uri": "https://localhost:8080/"
        },
        "id": "NH1ar29gywji",
        "outputId": "6fe27ad4-4f3c-4bf2-8c5b-7cb6fd366dd7"
      },
      "execution_count": 93,
      "outputs": [
        {
          "output_type": "stream",
          "name": "stdout",
          "text": [
            "택시 타라\n"
          ]
        }
      ]
    },
    {
      "cell_type": "code",
      "source": [
        "pocket = ['paper','phone']\n",
        "card = True\n",
        "\n",
        "if 'money' in pocket:\n",
        "  print('택시 타라')\n",
        "else:\n",
        "  if card:\n",
        "      print('택시 타라')\n",
        "  else:\n",
        "      print('걸어 가라')\n",
        "\n",
        "# 분기가 여러개일 경우 if문안에 if문을 중첩하여 사용 할 수는 있지만\n",
        "# 권장하지 않는다. 따라서 분기가 여러개일 경우 elif를 사용하자"
      ],
      "metadata": {
        "colab": {
          "base_uri": "https://localhost:8080/"
        },
        "id": "coQyT-A6zIKj",
        "outputId": "c25ea802-54f6-49ab-97e2-c72976e7a8a3"
      },
      "execution_count": 94,
      "outputs": [
        {
          "output_type": "stream",
          "name": "stdout",
          "text": [
            "택시 타라\n"
          ]
        }
      ]
    },
    {
      "cell_type": "code",
      "source": [
        "pocket = ['paper','phone']\n",
        "card = True\n",
        "\n",
        "if 'money' in pocket:\n",
        "  print('택시 타라')\n",
        "elif card:\n",
        "  print('택시 타라')\n",
        "else:\n",
        "  print('걸어 가라')\n",
        "\n",
        "  # elif  는 갯수의 제한없이 원하는 대로 넣을 수 있다. "
      ],
      "metadata": {
        "colab": {
          "base_uri": "https://localhost:8080/"
        },
        "id": "qsEc8a0wz-Tu",
        "outputId": "236d9268-06a1-4f8e-e76a-c3401695f51b"
      },
      "execution_count": 95,
      "outputs": [
        {
          "output_type": "stream",
          "name": "stdout",
          "text": [
            "택시 타라\n"
          ]
        }
      ]
    },
    {
      "cell_type": "code",
      "source": [
        "pocket = ['paper','phone']\n",
        "card = True\n",
        "\n",
        "if 'money' in pocket: print('택시 타라')\n",
        "elif card: print('택시 타라')\n",
        "else: print('걸어 가라')"
      ],
      "metadata": {
        "colab": {
          "base_uri": "https://localhost:8080/"
        },
        "id": "9fJo72nK0jGJ",
        "outputId": "9aa7f481-ffcb-4807-99c3-2d4713b98edf"
      },
      "execution_count": 96,
      "outputs": [
        {
          "output_type": "stream",
          "name": "stdout",
          "text": [
            "택시 타라\n"
          ]
        }
      ]
    },
    {
      "cell_type": "code",
      "source": [
        "score = 90\n",
        "\n",
        "\n",
        "if score >= 60:\n",
        "  print(\"합격\")\n",
        "else:\n",
        "  print(\"불합격\")"
      ],
      "metadata": {
        "colab": {
          "base_uri": "https://localhost:8080/"
        },
        "id": "KtJc5Ni305Ge",
        "outputId": "d70a5ba5-4f22-4ffd-aa7a-a97e547fc638"
      },
      "execution_count": 98,
      "outputs": [
        {
          "output_type": "stream",
          "name": "stdout",
          "text": [
            "합격\n"
          ]
        }
      ]
    },
    {
      "cell_type": "code",
      "source": [
        "if score >= 60: print(\"합격\")\n",
        "else: print(\"불합격\")"
      ],
      "metadata": {
        "colab": {
          "base_uri": "https://localhost:8080/"
        },
        "id": "6-50DfKi1RYJ",
        "outputId": "ce1dccac-bd70-49fd-d80a-6a6932eb9f0d"
      },
      "execution_count": 99,
      "outputs": [
        {
          "output_type": "stream",
          "name": "stdout",
          "text": [
            "합격\n"
          ]
        }
      ]
    },
    {
      "cell_type": "code",
      "source": [
        "# 조건부 표현식 : 한줄로 조건식을 표현\n",
        "print(\"합격\")              if score >= 60            else print(\"불합격\")  \n",
        "#  참의 경우                  조건식                    거짓의 경우  "
      ],
      "metadata": {
        "colab": {
          "base_uri": "https://localhost:8080/"
        },
        "id": "rY0sOjg41c0-",
        "outputId": "f5109dff-4df1-4552-d810-1026e6d67619"
      },
      "execution_count": 101,
      "outputs": [
        {
          "output_type": "stream",
          "name": "stdout",
          "text": [
            "합격\n"
          ]
        }
      ]
    },
    {
      "cell_type": "code",
      "source": [
        "# Quiz 1\n",
        "\n",
        "if True:\n",
        "  print('1')\n",
        "  print('2')\n",
        "else:\n",
        "  print('3')\n",
        "print('4')"
      ],
      "metadata": {
        "colab": {
          "base_uri": "https://localhost:8080/"
        },
        "id": "YebvLXoa2llB",
        "outputId": "15275c8c-81f6-4b38-b7a7-2252cc780465"
      },
      "execution_count": 102,
      "outputs": [
        {
          "output_type": "stream",
          "name": "stdout",
          "text": [
            "1\n",
            "2\n",
            "4\n"
          ]
        }
      ]
    },
    {
      "cell_type": "code",
      "source": [
        "# Quiz 2\n",
        "\n",
        "if True :\n",
        "    if False:\n",
        "        print(\"1\")\n",
        "        print(\"2\")\n",
        "    else:\n",
        "        print(\"3\")\n",
        "else :\n",
        "    print(\"4\")\n",
        "print(\"5\")"
      ],
      "metadata": {
        "id": "2E8fvXAk3FE5"
      },
      "execution_count": null,
      "outputs": []
    },
    {
      "cell_type": "code",
      "source": [
        "# 사용자로부터 하나의 숫자를 입력 받고 짝수/홀수를 판별하라.\n",
        "\n",
        "# >> 30\n",
        "\n",
        "# 짝수\n",
        "\n",
        "# by 장서영\n",
        "\n",
        "if int(input(\"숫자를 입력해주세요\")) % 2 == 0: print(\"짝수\")\n",
        "else: print(\"홀수\")\n",
        "\n",
        "\n",
        "# % 나머지 연산자로 홀수/짝수/배수를 알아낼수 있다. "
      ],
      "metadata": {
        "colab": {
          "base_uri": "https://localhost:8080/"
        },
        "id": "OMzUCtPQ3pcZ",
        "outputId": "641fce81-6014-4341-b54e-1a04e522f484"
      },
      "execution_count": 103,
      "outputs": [
        {
          "output_type": "stream",
          "name": "stdout",
          "text": [
            "숫자를 입력해주세요5\n",
            "홀수\n"
          ]
        }
      ]
    },
    {
      "cell_type": "code",
      "source": [
        "# 사용자로부터 값을 입력받은 후 해당 값에 20을 더한 값을 출력하라. \n",
        "# 단 사용자가 입력한 값과 20을 더한 계산 값이 255를 초과하는 경우 255를 출력해야 한다.\n",
        "\n",
        "# >> 입력값: 200\n",
        "# 출력값: 220\n",
        "# >> 입력값: 240\n",
        "# 출력값: 255\n",
        "\n",
        "#by 유정화\n",
        "a = int(input('숫자 입력'))\n",
        "num = a + 20\n",
        "# if a <= 235 : \n",
        "#   print(a+20)\n",
        "# else :\n",
        "#   print(255)\n",
        "\n",
        "if num > 255:\n",
        "  print(255)\n",
        "else:\n",
        "  print(num)\n",
        "\n"
      ],
      "metadata": {
        "colab": {
          "base_uri": "https://localhost:8080/"
        },
        "id": "7MFF9Q6U5FGk",
        "outputId": "84fd889e-3a76-4320-a549-a68dbf9709dc"
      },
      "execution_count": 106,
      "outputs": [
        {
          "output_type": "stream",
          "name": "stdout",
          "text": [
            "숫자 입력300\n",
            "255\n"
          ]
        }
      ]
    },
    {
      "cell_type": "code",
      "source": [
        "# 사용자로부터 하나의 값을 입력받은 후 해당 값에 20을 뺀 값을 출력하라. \n",
        "# 단 출력 값의 범위는 0~255이다. \n",
        "# 예를 들어 결괏값이 0보다 작은 값이되는 경우 0을 출력하고 \n",
        "# 255보다 큰 값이 되는 경우 255를 출력해야 한다.\n",
        "\n",
        "# >> 입력값: 200\n",
        "# 출력값: 180\n",
        "# >> 입력값: 15\n",
        "# 출력값: 0\n",
        "\n",
        "# by 장서영\n",
        "num = int(input(\"숫자를 입력해주세요\")) - 20\n",
        "if num  < 0 : print(0)\n",
        "elif num  > 255 : print(255)\n",
        "else : print(num )\n",
        "\n",
        "\n",
        "# by 유정화\n",
        "a = int(input('숫자 입력'))\n",
        "result = a - 20\n",
        "\n",
        "if result > 255:\n",
        "  print(255)\n",
        "elif result < 0 :\n",
        "  print(0)\n",
        "else :\n",
        "  print(result)\n",
        "\n"
      ],
      "metadata": {
        "colab": {
          "base_uri": "https://localhost:8080/"
        },
        "id": "VXDC9M5r6yAj",
        "outputId": "8a435110-668e-48c3-86d6-900e8dada0c5"
      },
      "execution_count": 108,
      "outputs": [
        {
          "output_type": "stream",
          "name": "stdout",
          "text": [
            "숫자를 입력해주세요15\n",
            "0\n"
          ]
        }
      ]
    },
    {
      "cell_type": "code",
      "source": [
        "# 사용자로부터 입력 받은 시간이 정각인지 판별하라.\n",
        "\n",
        "# >> 현재시간: 02:00\n",
        "# 정각 입니다.\n",
        "\n",
        "\n",
        "# >> 현재시간: 03:10\n",
        "# 정각이 아닙니다\n",
        "\n",
        "now = input(\"현재시간 : \")\n",
        "min = now[-2:]  # min = now[3:5:]\n",
        "\n",
        "if min == '00':\n",
        "  print(\"정각입니다\")\n",
        "else:\n",
        "  print(\"정각이 아닙니다\")\n"
      ],
      "metadata": {
        "id": "FVMQqfXC7ycE"
      },
      "execution_count": null,
      "outputs": []
    },
    {
      "cell_type": "code",
      "source": [
        "# Ask for two numbers. if the first one is larger than the second,\n",
        "# display the second number first and then the first number, \n",
        "# otherwise show the first number first and then the second.\n",
        "\n",
        "\n",
        "# Enter First number : 7\n",
        "# Enter Second number : 3\n",
        "\n",
        "# 3 7 \n",
        "\n",
        "#by 유정화\n",
        "\n",
        "n1 = int(input('Enter the first number : '))\n",
        "n2 = int(input('Enter the second number : '))\n",
        "\n",
        "if n1 > n2 :\n",
        "  print(n2, n1)\n",
        "elif n2 > n1 :\n",
        "  print(n1, n2)\n",
        "else :\n",
        "  print('다시 실행하세요')\n",
        "\n",
        "\n"
      ],
      "metadata": {
        "id": "7q5OHz0W-LVt"
      },
      "execution_count": null,
      "outputs": []
    },
    {
      "cell_type": "code",
      "source": [
        "# Ask the user to enter number that is under 20.\n",
        "# if they enter a number that is 20 or more.\n",
        "# display the message \"Too high\",\n",
        "# otherwise display \"Thank you\".\n",
        "\n",
        "\n",
        "# Enter number that is under 20  : 30\n",
        "# Too high\n",
        "\n",
        "# by 장서영\n",
        "num = int(input(\"Enter a number is under 20 : \"))\n",
        "if (num >= 20): print(\"Too high\")\n",
        "else : print(\"Thank you\")\n"
      ],
      "metadata": {
        "colab": {
          "base_uri": "https://localhost:8080/"
        },
        "id": "AvAt8P5QBSeM",
        "outputId": "7bf20831-c1d7-4692-974e-c1024cc1ca03"
      },
      "execution_count": 110,
      "outputs": [
        {
          "output_type": "stream",
          "name": "stdout",
          "text": [
            "Enter a number is under 20 : 90\n",
            "Too high\n"
          ]
        }
      ]
    },
    {
      "cell_type": "code",
      "source": [
        "# Ask the user to enter their favourite color.\n",
        "# If they enter \"red\",\"RED\" or \"Red\" display the message\n",
        "# \"I like red too\"\n",
        "# otherwise display the message \n",
        "# \"I dont like [color], i prefer red\"\n",
        "\n",
        "\n",
        "# Enter their favourite color ? Red\n",
        "# \"I like red too\"\n",
        "\n",
        "# Enter their favourite color ? Black\n",
        "# I don't like black, i prefer red\n",
        "\n",
        "# by 유정화\n",
        "\n",
        "col = input(\"Enter your favorite color?\")\n",
        "\n",
        "red = ['red','RED','Red']\n",
        "\n",
        "if col in red:\n",
        "  print('I like red too')\n",
        "else:\n",
        "  print(f\"I don't like {col}, I prefer red.\")"
      ],
      "metadata": {
        "id": "cATD8YYOB6pB"
      },
      "execution_count": null,
      "outputs": []
    },
    {
      "cell_type": "code",
      "source": [
        "# Ask the user's age. If they are 18 or over,\n",
        "# display the message \"You can vote\",\n",
        "# if they are aged 17, display the message \" You can learn to drive\"\n",
        "# if they are 16, display the message \"You can buy a lottery ticket\"\n",
        "# if they are under 16, display the message \" You can go Trick-or-Treating\"\n",
        "\n",
        "\n",
        "# How old are you ??? 21\n",
        "# You can vote.\n",
        "\n",
        "# How old are you ??? 17\n",
        "# You can learn to drive\n",
        "\n",
        "# by 장서영\n",
        "age = int(input(\"How old are you? : \"))\n",
        "if age >= 18 : print(\"You can vote\")\n",
        "elif age == 17:  print(\"You can learn to drive\")\n",
        "elif age == 16 : print(\"You can buy a lottery ticket\")\n",
        "else : print(\"You cna go Trick-or-Treating\")\n"
      ],
      "metadata": {
        "id": "91CWOoBpEMfG"
      },
      "execution_count": null,
      "outputs": []
    },
    {
      "cell_type": "code",
      "source": [
        "# Ask the user to enter 1,2 or 3 If they enter a 1\n",
        "# display the message \"Thank you\"  if they enter a 2\n",
        "# display the message \"Well done\" if they enter a 3\n",
        "# display the message \"Correct\" if they enter anything else\n",
        "# display \"Error message\"\n",
        "\n",
        "# by 장서영\n",
        "num = int(input(\"Enter 1, 2, or 3\"))\n",
        "\n",
        "if num == 1 : print(\"Thank you\")\n",
        "elif num == 2 : print(\"Well done\")\n",
        "elif num == 3 : print(\"Correct\")\n",
        "else : print (\"Error message\")\n"
      ],
      "metadata": {
        "id": "_4TBBXS3GIx3"
      },
      "execution_count": null,
      "outputs": []
    },
    {
      "cell_type": "code",
      "source": [
        "\n",
        "\n",
        "# Ask the user to enter their first name (in English)\n",
        "# and then display the length of their name ?\n",
        "\n",
        "# by 장서영\n",
        "\n",
        "name = input(\"Enter your first name : \")\n",
        "print(len(name))\n"
      ],
      "metadata": {
        "colab": {
          "base_uri": "https://localhost:8080/"
        },
        "id": "FXa04iNNHEpE",
        "outputId": "9abaab80-7e0c-493f-f95f-b608ed2df703"
      },
      "execution_count": 111,
      "outputs": [
        {
          "output_type": "stream",
          "name": "stdout",
          "text": [
            "Enter your first name : Austin\n",
            "6\n"
          ]
        }
      ]
    },
    {
      "cell_type": "code",
      "source": [
        "# Ask the user to type in any word and display it in upper case\n",
        "\n",
        "# type something >>> austin\n",
        "# AUSTIN\n",
        "\n",
        "# by 장서영\n",
        "word = input(\"Enter any word : \").upper()\n",
        "print(word)\n",
        "\n",
        "# by 유정화\n",
        "word = input('Enter the word : ')\n",
        "print(word.upper())\n"
      ],
      "metadata": {
        "id": "JIql6TjYHqCS"
      },
      "execution_count": null,
      "outputs": []
    },
    {
      "cell_type": "code",
      "source": [
        "# Pig Latin takes the first consonant of a word.\n",
        "# moves it to the end of the word and adds on an \"ay\".\n",
        "# If a word begins with a vowel you just add \"way\" to the end.\n",
        "\n",
        "# for example, \n",
        "# pig becomes igpay, banana becomes ananabay, \n",
        "# and aadvark becomes aadvarkway.\n",
        "# Create a program that will ask the user to enter a word \n",
        "# and change it into Pig Latin.\n",
        "# Make sure the new word is displayed in lowercase.\n"
      ],
      "metadata": {
        "id": "WuM_dW3RIcab"
      },
      "execution_count": null,
      "outputs": []
    }
  ]
}