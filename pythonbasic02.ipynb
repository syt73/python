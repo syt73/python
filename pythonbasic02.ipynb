{
  "nbformat": 4,
  "nbformat_minor": 0,
  "metadata": {
    "colab": {
      "name": "pythonbasic02.ipynb",
      "provenance": [],
      "collapsed_sections": [],
      "authorship_tag": "ABX9TyNEPTPhBsTxxjmC+z/wlm+6",
      "include_colab_link": true
    },
    "kernelspec": {
      "name": "python3",
      "display_name": "Python 3"
    },
    "language_info": {
      "name": "python"
    }
  },
  "cells": [
    {
      "cell_type": "markdown",
      "metadata": {
        "id": "view-in-github",
        "colab_type": "text"
      },
      "source": [
        "<a href=\"https://colab.research.google.com/github/syt73/python/blob/main/pythonbasic02.ipynb\" target=\"_parent\"><img src=\"https://colab.research.google.com/assets/colab-badge.svg\" alt=\"Open In Colab\"/></a>"
      ]
    },
    {
      "cell_type": "code",
      "execution_count": null,
      "metadata": {
        "colab": {
          "base_uri": "https://localhost:8080/",
          "height": 54
        },
        "id": "7QOvmNkyrCaw",
        "outputId": "a85bebe5-a99a-459a-bc25-e3cf72bce2f1"
      },
      "outputs": [
        {
          "name": "stdout",
          "output_type": "stream",
          "text": [
            "i\n"
          ]
        },
        {
          "output_type": "execute_result",
          "data": {
            "text/plain": [
              "'i'"
            ],
            "application/vnd.google.colaboratory.intrinsic+json": {
              "type": "string"
            }
          },
          "metadata": {},
          "execution_count": 1
        }
      ],
      "source": [
        "# input 입력\n",
        "\n",
        "input()"
      ]
    },
    {
      "cell_type": "code",
      "source": [
        "input('아이디를 입력하세요')"
      ],
      "metadata": {
        "colab": {
          "base_uri": "https://localhost:8080/",
          "height": 54
        },
        "id": "ii4pavWT0bFE",
        "outputId": "883561b9-d560-4421-9dbf-c48124ef57b7"
      },
      "execution_count": null,
      "outputs": [
        {
          "name": "stdout",
          "output_type": "stream",
          "text": [
            "아이디를 입력하세요오\n"
          ]
        },
        {
          "output_type": "execute_result",
          "data": {
            "text/plain": [
              "'오'"
            ],
            "application/vnd.google.colaboratory.intrinsic+json": {
              "type": "string"
            }
          },
          "metadata": {},
          "execution_count": 3
        }
      ]
    },
    {
      "cell_type": "code",
      "source": [
        "id = input('아이디를 입력하세요')"
      ],
      "metadata": {
        "colab": {
          "base_uri": "https://localhost:8080/"
        },
        "id": "nuw0_eHA01y1",
        "outputId": "dfdb680e-7ae7-4070-81e1-068b957a29b1"
      },
      "execution_count": null,
      "outputs": [
        {
          "name": "stdout",
          "output_type": "stream",
          "text": [
            "아이디를 입력하세요이성우\n"
          ]
        }
      ]
    },
    {
      "cell_type": "code",
      "source": [
        "id = input('아이디를 입력하세요')\n",
        "print(f'{id}님 환영합니다.')"
      ],
      "metadata": {
        "colab": {
          "base_uri": "https://localhost:8080/"
        },
        "id": "wnWcS-te1AFh",
        "outputId": "a868916a-6849-41ce-c1db-074d2966efe2"
      },
      "execution_count": null,
      "outputs": [
        {
          "output_type": "stream",
          "name": "stdout",
          "text": [
            "아이디를 입력하세요dltjddn\n",
            "dltjddn 님 환영합니다.\n"
          ]
        }
      ]
    },
    {
      "cell_type": "code",
      "source": [
        "age = input('당신의 나이를 입력하세요')\n",
        "print(f'당신의 나이는 {age}입니다.')"
      ],
      "metadata": {
        "id": "pUB_ku5v1gkv"
      },
      "execution_count": null,
      "outputs": []
    },
    {
      "cell_type": "code",
      "source": [
        "age = input('당신의 나이를 입력하세요')\n",
        "print(f'당신의 나이는 {age + 1}입니다.')"
      ],
      "metadata": {
        "colab": {
          "base_uri": "https://localhost:8080/",
          "height": 211
        },
        "id": "TLSnpZTp18q_",
        "outputId": "47317c3d-bf13-487a-9117-6b8996e3a400"
      },
      "execution_count": null,
      "outputs": [
        {
          "name": "stdout",
          "output_type": "stream",
          "text": [
            "당신의 나이를 입력하세요23\n"
          ]
        },
        {
          "output_type": "error",
          "ename": "TypeError",
          "evalue": "ignored",
          "traceback": [
            "\u001b[0;31m---------------------------------------------------------------------------\u001b[0m",
            "\u001b[0;31mTypeError\u001b[0m                                 Traceback (most recent call last)",
            "\u001b[0;32m<ipython-input-6-c4d831f98b00>\u001b[0m in \u001b[0;36m<module>\u001b[0;34m()\u001b[0m\n\u001b[1;32m      1\u001b[0m \u001b[0mage\u001b[0m \u001b[0;34m=\u001b[0m \u001b[0minput\u001b[0m\u001b[0;34m(\u001b[0m\u001b[0;34m'당신의 나이를 입력하세요'\u001b[0m\u001b[0;34m)\u001b[0m\u001b[0;34m\u001b[0m\u001b[0;34m\u001b[0m\u001b[0m\n\u001b[0;32m----> 2\u001b[0;31m \u001b[0mprint\u001b[0m\u001b[0;34m(\u001b[0m\u001b[0;34mf'당신의 나이는 {age + 1}입니다.'\u001b[0m\u001b[0;34m)\u001b[0m\u001b[0;34m\u001b[0m\u001b[0;34m\u001b[0m\u001b[0m\n\u001b[0m",
            "\u001b[0;31mTypeError\u001b[0m: can only concatenate str (not \"int\") to str"
          ]
        }
      ]
    },
    {
      "cell_type": "code",
      "source": [
        "age = int(input('당신의 나이를 입력하세요'))\n",
        "print(type(age))\n",
        "print(f'당신의 나이는 {age + 1}입니다.')\n",
        "\n",
        "#따라서 숫자로 사용하고자 할 때에는 형변환 casting을 해주어야 계산이 가능해진다"
      ],
      "metadata": {
        "colab": {
          "base_uri": "https://localhost:8080/"
        },
        "id": "fNSJdmX_2COH",
        "outputId": "e3b5c493-7ae4-4613-de0a-dde34df57467"
      },
      "execution_count": null,
      "outputs": [
        {
          "output_type": "stream",
          "name": "stdout",
          "text": [
            "당신의 나이를 입력하세요22\n",
            "<class 'int'>\n",
            "당신의 나이는 23입니다.\n"
          ]
        }
      ]
    },
    {
      "cell_type": "code",
      "source": [
        "#컬렉션 list, tuple, dict, set           *** dataframe from pandas\n",
        "# 여러개의 데이터를 담아두는 자료형\n",
        "\n",
        "#리스트(list)\n",
        "# 1. 리스트는 []를 사용하여 만든다.\n",
        "# 2. 리스트는 자료형을 혼잡하여 저장할수 도 있다.(파이썬 장점이자 단점)\n",
        "# 3. 리스트는 인덱싱과 슬라이싱이 가능하다.\n",
        "# 4. 리스트에서는 삽입/삭제/수정이 가능하다.\n",
        "#리스트를 사용하면 2, 4, 6, 8, 10.... 여러 데이터의 모음을 간단하게 표현할 수 있다.\n",
        "num =[2,4, 6, 8, 10]\n",
        "print(num)\n",
        "\n",
        "li1 = [1, 2, '영희', '철수']\n",
        "print(li1)\n",
        "\n",
        "kim_math = 90\n",
        "kim_eng = 95"
      ],
      "metadata": {
        "colab": {
          "base_uri": "https://localhost:8080/"
        },
        "id": "0CcuGZhO2q09",
        "outputId": "55c849b7-57ca-4945-aff4-9ab537aa705e"
      },
      "execution_count": null,
      "outputs": [
        {
          "output_type": "stream",
          "name": "stdout",
          "text": [
            "[2, 4, 6, 8, 10]\n",
            "[1, 2, '영희', '철수']\n"
          ]
        }
      ]
    },
    {
      "cell_type": "code",
      "source": [
        "# 리스트에서의 인덱싱과 슬라이싱\n",
        "num =[2,4, 6, 8, 10]\n",
        "print(num[-1])"
      ],
      "metadata": {
        "colab": {
          "base_uri": "https://localhost:8080/"
        },
        "id": "TpZyVLyg73XZ",
        "outputId": "633937a9-f8e1-4d7f-ddaf-da0f90ea00ee"
      },
      "execution_count": null,
      "outputs": [
        {
          "output_type": "stream",
          "name": "stdout",
          "text": [
            "10\n"
          ]
        }
      ]
    },
    {
      "cell_type": "code",
      "source": [
        "print(num[0] + num[-1])"
      ],
      "metadata": {
        "colab": {
          "base_uri": "https://localhost:8080/"
        },
        "id": "72wJyUCT8kw9",
        "outputId": "94b935f6-d46b-403d-e4bd-93707d382eaf"
      },
      "execution_count": null,
      "outputs": [
        {
          "output_type": "stream",
          "name": "stdout",
          "text": [
            "12\n"
          ]
        }
      ]
    },
    {
      "cell_type": "code",
      "source": [
        "li1 = [1, 2, 'a', 'b', [1, 2, 3]]\n",
        "print(li1[-1][0])"
      ],
      "metadata": {
        "colab": {
          "base_uri": "https://localhost:8080/"
        },
        "id": "pGe_mj7R8xSO",
        "outputId": "56918e50-ef34-4ed8-8339-70689e58415a"
      },
      "execution_count": null,
      "outputs": [
        {
          "output_type": "stream",
          "name": "stdout",
          "text": [
            "1\n"
          ]
        }
      ]
    },
    {
      "cell_type": "code",
      "source": [
        "# 리스트에서의 슬라이싱\n",
        "num =[2,4, 6, 8, 10]\n",
        "print(num[0:3]) #[start:stop:(:step)] 스탭은 생략하면 1씩 증가, stop 미만\n",
        "print(num[:3]) #시작을 생략하면 처음부터이고 끝을 생략하면 마지막요소까지"
      ],
      "metadata": {
        "colab": {
          "base_uri": "https://localhost:8080/"
        },
        "id": "ZhZFuD6s9SLX",
        "outputId": "e92d26f6-e2a4-4413-c0d4-7b2b16458325"
      },
      "execution_count": null,
      "outputs": [
        {
          "output_type": "stream",
          "name": "stdout",
          "text": [
            "[2, 4, 6]\n",
            "[2, 4, 6]\n"
          ]
        }
      ]
    },
    {
      "cell_type": "code",
      "source": [
        "#리스트에서의 연산\n",
        "a = [1, 2, 3]\n",
        "print(a * 3)"
      ],
      "metadata": {
        "colab": {
          "base_uri": "https://localhost:8080/"
        },
        "id": "9WDaiKzb-UTR",
        "outputId": "892c5f71-f34e-4c48-a6fe-25dc1213de50"
      },
      "execution_count": null,
      "outputs": [
        {
          "output_type": "stream",
          "name": "stdout",
          "text": [
            "[1, 2, 3, 1, 2, 3, 1, 2, 3]\n"
          ]
        }
      ]
    },
    {
      "cell_type": "code",
      "source": [
        "# 리스트 길이 (갯수)\n",
        "num =[2,4, 6, 8, 10]\n",
        "print(len(num))"
      ],
      "metadata": {
        "colab": {
          "base_uri": "https://localhost:8080/"
        },
        "id": "S8kINjvM-k6b",
        "outputId": "e55155f0-fd13-419d-ac2f-15e469c76f53"
      },
      "execution_count": null,
      "outputs": [
        {
          "output_type": "stream",
          "name": "stdout",
          "text": [
            "5\n"
          ]
        }
      ]
    },
    {
      "cell_type": "code",
      "source": [
        "# 4. 리스트에서는 삽입/삭제/수정이 가능하다.\n",
        "# 수정\n",
        "num =[2,4, 6, 8, 10]\n",
        "num[0] = 0\n",
        "print(num)\n",
        "\n",
        "#삭제\n",
        "del num[0]\n",
        "print(num)\n",
        "\n",
        "del num[2:] #슬라이싱 기법을 사용하여 여러 요소 한번에 삭제\n",
        "print(num)\n",
        "\n",
        "num.pop() # 마지막 항목을 하나씩 제거, 괄호안을 생략 -> 마지막 1개 삭제\n",
        "print(num)\n",
        "\n",
        "num = [2, 4, 6, 8, 10]\n",
        "num.pop(0) # 괄호안을 생략하면 마지막 요소를 날리지만 위치가 값을 지정하면 그요소를 삭제\n",
        "print(num)\n",
        "\n",
        "# 리스트 삽입 append, insert\n",
        "a = [1, 2, 3]\n",
        "print(a)\n",
        "\n",
        "a.append(4)\n",
        "print(a)\n",
        "\n",
        "a.append('글자')\n",
        "print(a)\n",
        "\n",
        "a.insert(0, 0)  #. (위치, 값)\n",
        "print(a)\n"
      ],
      "metadata": {
        "colab": {
          "base_uri": "https://localhost:8080/"
        },
        "id": "qWl4Usrr-6Ih",
        "outputId": "ebf1626f-b79a-4b58-d2e7-f78dfeaa9531"
      },
      "execution_count": null,
      "outputs": [
        {
          "output_type": "stream",
          "name": "stdout",
          "text": [
            "[0, 4, 6, 8, 10]\n",
            "[4, 6, 8, 10]\n",
            "[4, 6]\n",
            "[4]\n",
            "[4, 6, 8, 10]\n",
            "[1, 2, 3]\n",
            "[1, 2, 3, 4]\n",
            "[1, 2, 3, 4, '글자']\n",
            "[0, 1, 2, 3, 4, '글자']\n"
          ]
        }
      ]
    },
    {
      "cell_type": "code",
      "source": [
        "# 튜플 tuple\n",
        "# 1. 튜플은 ()를 사용하여 만든다.\n",
        "# 2. 튜플은 자료형을 혼잡하여 저장할수 도 있다.(파이썬 장점이자 단점)\n",
        "# 3. 튜플 인덱싱과 슬라이싱이 가능하다.\n",
        "# 4. 튜플에서는 삽입/삭제/수정이 불가능하다. immutable\n",
        "# 5. 튜플은 한개의 요소로 만들때는 괜히 ,를 넣는다.\n",
        "t1 = (1, 2, 3)\n",
        "type(t1)\n",
        "\n",
        "t2 = (1, 2, 'a', 'b')\n",
        "print(t2)"
      ],
      "metadata": {
        "colab": {
          "base_uri": "https://localhost:8080/"
        },
        "id": "dDGqnNrFCjI_",
        "outputId": "a43cee8c-8dbb-4a59-a785-6f756d3a2108"
      },
      "execution_count": null,
      "outputs": [
        {
          "output_type": "stream",
          "name": "stdout",
          "text": [
            "(1, 2, 'a', 'b')\n"
          ]
        }
      ]
    },
    {
      "cell_type": "code",
      "source": [
        "#튜플에서의 인덱싱\n",
        "t2 = (1, 2, 'a', 'b')\n",
        "print(t2[-1])"
      ],
      "metadata": {
        "colab": {
          "base_uri": "https://localhost:8080/"
        },
        "id": "wwJvqbDHDtNi",
        "outputId": "f5f2daa4-38c5-42aa-8ec8-0e461f3dd710"
      },
      "execution_count": null,
      "outputs": [
        {
          "output_type": "stream",
          "name": "stdout",
          "text": [
            "b\n"
          ]
        }
      ]
    },
    {
      "cell_type": "code",
      "source": [
        "#튜플에서의 슬라이싱\n",
        "print(t2[:2]) # 마지막은 미만처리"
      ],
      "metadata": {
        "colab": {
          "base_uri": "https://localhost:8080/"
        },
        "id": "N4ij-ooqD_dP",
        "outputId": "ca5b032d-b112-418d-8b0f-d38dad37be5e"
      },
      "execution_count": null,
      "outputs": [
        {
          "output_type": "stream",
          "name": "stdout",
          "text": [
            "(1, 2)\n"
          ]
        }
      ]
    },
    {
      "cell_type": "code",
      "source": [
        "# 4. 튜플에서는 삽입/삭제/수정이 불가능하다. immutable\n",
        "#삽입\n",
        "t2 = (1, 2, 'a', 'b')\n",
        "t2.append('c')"
      ],
      "metadata": {
        "colab": {
          "base_uri": "https://localhost:8080/",
          "height": 211
        },
        "id": "FltJN97GERxq",
        "outputId": "b68dd08d-cca6-48ba-b96d-7c287352e71e"
      },
      "execution_count": null,
      "outputs": [
        {
          "output_type": "error",
          "ename": "AttributeError",
          "evalue": "ignored",
          "traceback": [
            "\u001b[0;31m---------------------------------------------------------------------------\u001b[0m",
            "\u001b[0;31mAttributeError\u001b[0m                            Traceback (most recent call last)",
            "\u001b[0;32m<ipython-input-34-eaee38f20764>\u001b[0m in \u001b[0;36m<module>\u001b[0;34m()\u001b[0m\n\u001b[1;32m      1\u001b[0m \u001b[0;31m# 4. 튜플에서는 삽입/삭제/수정이 불가능하다. immutable\u001b[0m\u001b[0;34m\u001b[0m\u001b[0;34m\u001b[0m\u001b[0;34m\u001b[0m\u001b[0m\n\u001b[1;32m      2\u001b[0m \u001b[0mt2\u001b[0m \u001b[0;34m=\u001b[0m \u001b[0;34m(\u001b[0m\u001b[0;36m1\u001b[0m\u001b[0;34m,\u001b[0m \u001b[0;36m2\u001b[0m\u001b[0;34m,\u001b[0m \u001b[0;34m'a'\u001b[0m\u001b[0;34m,\u001b[0m \u001b[0;34m'b'\u001b[0m\u001b[0;34m)\u001b[0m\u001b[0;34m\u001b[0m\u001b[0;34m\u001b[0m\u001b[0m\n\u001b[0;32m----> 3\u001b[0;31m \u001b[0mt2\u001b[0m\u001b[0;34m.\u001b[0m\u001b[0mappend\u001b[0m\u001b[0;34m(\u001b[0m\u001b[0;34m'c'\u001b[0m\u001b[0;34m)\u001b[0m\u001b[0;34m\u001b[0m\u001b[0;34m\u001b[0m\u001b[0m\n\u001b[0m",
            "\u001b[0;31mAttributeError\u001b[0m: 'tuple' object has no attribute 'append'"
          ]
        }
      ]
    },
    {
      "cell_type": "code",
      "source": [
        "# 4. 튜플에서는 삽입/삭제/수정이 불가능하다. immutable\n",
        "# 수정\n",
        "t2 = (1, 2, 'a', 'b')\n",
        "t2[0] = 0"
      ],
      "metadata": {
        "colab": {
          "base_uri": "https://localhost:8080/",
          "height": 211
        },
        "id": "Exi-mi7tElht",
        "outputId": "8e76ee0e-e026-4707-b046-1c7258b638ca"
      },
      "execution_count": null,
      "outputs": [
        {
          "output_type": "error",
          "ename": "TypeError",
          "evalue": "ignored",
          "traceback": [
            "\u001b[0;31m---------------------------------------------------------------------------\u001b[0m",
            "\u001b[0;31mTypeError\u001b[0m                                 Traceback (most recent call last)",
            "\u001b[0;32m<ipython-input-35-7fa22dfaa086>\u001b[0m in \u001b[0;36m<module>\u001b[0;34m()\u001b[0m\n\u001b[1;32m      2\u001b[0m \u001b[0;31m# 수정\u001b[0m\u001b[0;34m\u001b[0m\u001b[0;34m\u001b[0m\u001b[0;34m\u001b[0m\u001b[0m\n\u001b[1;32m      3\u001b[0m \u001b[0mt2\u001b[0m \u001b[0;34m=\u001b[0m \u001b[0;34m(\u001b[0m\u001b[0;36m1\u001b[0m\u001b[0;34m,\u001b[0m \u001b[0;36m2\u001b[0m\u001b[0;34m,\u001b[0m \u001b[0;34m'a'\u001b[0m\u001b[0;34m,\u001b[0m \u001b[0;34m'b'\u001b[0m\u001b[0;34m)\u001b[0m\u001b[0;34m\u001b[0m\u001b[0;34m\u001b[0m\u001b[0m\n\u001b[0;32m----> 4\u001b[0;31m \u001b[0mt2\u001b[0m\u001b[0;34m[\u001b[0m\u001b[0;36m0\u001b[0m\u001b[0;34m]\u001b[0m \u001b[0;34m=\u001b[0m \u001b[0;36m0\u001b[0m\u001b[0;34m\u001b[0m\u001b[0;34m\u001b[0m\u001b[0m\n\u001b[0m",
            "\u001b[0;31mTypeError\u001b[0m: 'tuple' object does not support item assignment"
          ]
        }
      ]
    },
    {
      "cell_type": "code",
      "source": [
        "# 4. 튜플에서는 삽입/삭제/수정이 불가능하다. immutable\n",
        "# 삭제\n",
        "t2 = (1, 2, 'a', 'b')\n",
        "t2.del(1)"
      ],
      "metadata": {
        "colab": {
          "base_uri": "https://localhost:8080/",
          "height": 137
        },
        "id": "KqM_-NUtEyZL",
        "outputId": "de70f645-4dfc-460c-88a3-9d232648c05a"
      },
      "execution_count": null,
      "outputs": [
        {
          "output_type": "error",
          "ename": "SyntaxError",
          "evalue": "ignored",
          "traceback": [
            "\u001b[0;36m  File \u001b[0;32m\"<ipython-input-36-1afcd01a5a41>\"\u001b[0;36m, line \u001b[0;32m4\u001b[0m\n\u001b[0;31m    t2.del(1)\u001b[0m\n\u001b[0m         ^\u001b[0m\n\u001b[0;31mSyntaxError\u001b[0m\u001b[0;31m:\u001b[0m invalid syntax\n"
          ]
        }
      ]
    },
    {
      "cell_type": "code",
      "source": [
        "len(t2)"
      ],
      "metadata": {
        "colab": {
          "base_uri": "https://localhost:8080/"
        },
        "id": "kMNNaPdDFAmI",
        "outputId": "11fee355-ea1a-48e4-ff19-de5b517fda3a"
      },
      "execution_count": null,
      "outputs": [
        {
          "output_type": "execute_result",
          "data": {
            "text/plain": [
              "4"
            ]
          },
          "metadata": {},
          "execution_count": 37
        }
      ]
    },
    {
      "cell_type": "code",
      "source": [
        "li1 = [1]\n",
        "print(li1)\n",
        "print(len(li1))\n",
        "print(type(li1))\n",
        "\n",
        "li2 = (1,)\n",
        "print(li2)\n",
        "# print(len(li2))\n",
        "print(type(li2))"
      ],
      "metadata": {
        "colab": {
          "base_uri": "https://localhost:8080/"
        },
        "id": "e4C1cFOKFK4y",
        "outputId": "a057d232-cd8d-44df-e739-6f4931686af4"
      },
      "execution_count": null,
      "outputs": [
        {
          "output_type": "stream",
          "name": "stdout",
          "text": [
            "[1]\n",
            "1\n",
            "<class 'list'>\n",
            "(1,)\n",
            "<class 'tuple'>\n"
          ]
        }
      ]
    },
    {
      "cell_type": "code",
      "source": [
        "# Quiz1 bts 라는 이름 \n",
        "bts = ['정국', '진', '뷔', 'RM', '지민', '제이홉', '슈가']"
      ],
      "metadata": {
        "id": "c18BUFxxJSfl"
      },
      "execution_count": null,
      "outputs": []
    },
    {
      "cell_type": "code",
      "source": [
        "#\n",
        "bts.append('길동')\n",
        "\n",
        "#\n",
        "bts.pop()\n",
        "\n",
        "#\n",
        "nums = [1, 2, 3, 4, 5]\n",
        "print(f'nums 리스트에서의 최대값은 {max(nums)}입니다.')\n",
        "print(f'nums리스트에서의 최소값은 {min(nums)}입니다.')\n",
        "\n",
        "total = sum(nums)\n",
        "result = total / 5\n",
        "print(f'nums리스트에서의 평균은 {result}입니다.')\n",
        "\n",
        "price = ['20220602', 100, 300, 200]\n",
        "print(price[1:])\n",
        "\n",
        "nums = [1, 2, 3, 4, 5, 6, 7, 8, 9, 10]\n",
        "print(nums[1::2])  \n",
        "\n",
        "s = \"삼성 엘지 sk\"\n",
        "ss = \"삼성/엘지/sk\"\n",
        "\n",
        "r = s.split()\n",
        "r1 = s.split('/')\n",
        "print(r)\n",
        "print(r1)\n"
      ],
      "metadata": {
        "colab": {
          "base_uri": "https://localhost:8080/"
        },
        "id": "dWGvTYkQKApU",
        "outputId": "8688bb18-67e3-4236-91c8-63e9a0dff6b2"
      },
      "execution_count": null,
      "outputs": [
        {
          "output_type": "stream",
          "name": "stdout",
          "text": [
            "nums 리스트에서의 최대값은 5입니다.\n",
            "nums리스트에서의 최소값은 1입니다.\n",
            "nums리스트에서의 평균은 3.0입니다.\n",
            "[100, 300, 200]\n",
            "[2, 4, 6, 8, 10]\n",
            "['삼성', '엘지', 'sk']\n",
            "['삼성 엘지 sk']\n"
          ]
        }
      ]
    },
    {
      "cell_type": "code",
      "source": [
        "# 딕셔너리 Dict\n",
        "# 순서가 없다.\n",
        "# 1. 딕셔너리는 {}를 사용하여 만든다.\n",
        "# 2. 딕셔너리는 자료형을 혼잡하여 저장할수 도 있다.(파이썬 장점이자 단점)\n",
        "# 3. 딕셔너리는 인덱싱과 슬라이싱이 불가능하다.\n",
        "# 4. 리스트에서는 삽입/삭제/수정이 가능하다. mutable\n",
        "# 5. 딕셔너리는 키값과 밸류값의 쌍으로 구성된다 (자바의 맵, JS의JSON)\n",
        "\n",
        "a = {1:'hello', 2:'hi'}\n",
        "print(type(a))\n",
        "print(a)"
      ],
      "metadata": {
        "colab": {
          "base_uri": "https://localhost:8080/"
        },
        "id": "NVym2-wFPnzW",
        "outputId": "1e83c696-0644-41c2-f619-86cc6c7e3917"
      },
      "execution_count": null,
      "outputs": [
        {
          "output_type": "stream",
          "name": "stdout",
          "text": [
            "<class 'dict'>\n",
            "{1: 'hello', 2: 'hi'}\n"
          ]
        }
      ]
    },
    {
      "cell_type": "code",
      "source": [
        "b = {'name':'Alice', 'age':21, 'gender': 'F'}\n",
        "print(b)\n",
        "\n",
        "# 딕셔너리는 순서가 없기 때문에 indexing과 slicing이 불가능하다\n",
        "# 딕셔너리는 순서가 없기때문에 입력순서와 출력순서가 다를 수 있다."
      ],
      "metadata": {
        "colab": {
          "base_uri": "https://localhost:8080/"
        },
        "id": "OeUla1TXRh1V",
        "outputId": "898a4d17-1b79-422d-e2de-78d52b90327e"
      },
      "execution_count": null,
      "outputs": [
        {
          "output_type": "stream",
          "name": "stdout",
          "text": [
            "{'name': 'Alice', 'age': 21, 'gender': 'F'}\n"
          ]
        }
      ]
    },
    {
      "cell_type": "code",
      "source": [
        "# b[0] #딕셔너리는 인덱싱과 슬라이싱이 불가능하다\n",
        "# 따라서 딕셔너리는 키값만으로만 추출할 수 있다.\n",
        "b['name'] #키 값으로만 추출 할 수 있다."
      ],
      "metadata": {
        "colab": {
          "base_uri": "https://localhost:8080/",
          "height": 35
        },
        "id": "2EvdETUVSfei",
        "outputId": "1620ba4d-35ba-4a8a-9317-99f9cbb508c2"
      },
      "execution_count": null,
      "outputs": [
        {
          "output_type": "execute_result",
          "data": {
            "text/plain": [
              "'Alice'"
            ],
            "application/vnd.google.colaboratory.intrinsic+json": {
              "type": "string"
            }
          },
          "metadata": {},
          "execution_count": 63
        }
      ]
    },
    {
      "cell_type": "code",
      "source": [
        "b = {'name':'Alice', 'age':21, 'gender': 'F'}\n",
        "print(b)\n",
        "\n",
        "del b['age'] #삭제\n",
        "print(b)\n",
        "\n",
        "b['age2'] = 31 #삽입\n",
        "print(b)\n",
        "\n",
        "b['age2'] = 25 # 수정\n",
        "print(b)"
      ],
      "metadata": {
        "colab": {
          "base_uri": "https://localhost:8080/"
        },
        "id": "wOwX-WGmTBaL",
        "outputId": "2bb2883b-c034-4211-ecdc-5f8e9bf4822b"
      },
      "execution_count": null,
      "outputs": [
        {
          "output_type": "stream",
          "name": "stdout",
          "text": [
            "{'name': 'Alice', 'age': 21, 'gender': 'F'}\n",
            "{'name': 'Alice', 'gender': 'F'}\n",
            "{'name': 'Alice', 'gender': 'F', 'age2': 31}\n",
            "{'name': 'Alice', 'gender': 'F', 'age2': 25}\n"
          ]
        }
      ]
    },
    {
      "cell_type": "code",
      "source": [
        "# 딕셔너리 관련 많이 사용되는 함수들\n",
        "# keys\n",
        "b = {'name':'Alice', 'age':21, 'gender': 'F'}\n",
        "b.keys()\n",
        "\n",
        "b.values() #"
      ],
      "metadata": {
        "id": "PjXIGmgLToKb",
        "colab": {
          "base_uri": "https://localhost:8080/"
        },
        "outputId": "24e5dee2-f2cb-409e-d944-1d1f59001b4a"
      },
      "execution_count": 69,
      "outputs": [
        {
          "output_type": "execute_result",
          "data": {
            "text/plain": [
              "dict_values(['Alice', 21, 'F'])"
            ]
          },
          "metadata": {},
          "execution_count": 69
        }
      ]
    },
    {
      "cell_type": "code",
      "source": [
        "# 셋 set\n",
        "# 1. 셋은 {}를 사용하여 만든다.\n",
        "# 2. 셋은 자료형을 혼잡하여 저장할수 도 있다.(파이썬 장점이자 단점)\n",
        "# 3. 셋은 인덱싱과 슬라이싱이 불가능하다. 순서가 없다. unordered\n",
        "# 4. 셋른 삽입/삭제/수정이 가능하다. mutable\n",
        "# 5. 셋은 중복값을 허용하지 않는다."
      ],
      "metadata": {
        "id": "jS8UVTtwnWaw"
      },
      "execution_count": null,
      "outputs": []
    },
    {
      "cell_type": "code",
      "source": [
        "# 1. 셋은 {}를 사용하여 만든다.\n",
        "s1 = {1, 2, 3}\n",
        "type(s1)\n",
        "\n",
        "s2 = set(\"hello\")\n",
        "print(s2)"
      ],
      "metadata": {
        "colab": {
          "base_uri": "https://localhost:8080/"
        },
        "id": "iQCwmboZn68b",
        "outputId": "56a836e5-cd19-4be9-89cd-601a09eefde0"
      },
      "execution_count": 73,
      "outputs": [
        {
          "output_type": "stream",
          "name": "stdout",
          "text": [
            "{'l', 'e', 'o', 'h'}\n"
          ]
        }
      ]
    },
    {
      "cell_type": "code",
      "source": [
        "# 5. 셋은 중복값을 허용하지 않는다.\n",
        "s2 = {1, 1, 1, 2, 2, 3, '1', '하나'}\n",
        "print(s2)"
      ],
      "metadata": {
        "colab": {
          "base_uri": "https://localhost:8080/"
        },
        "id": "qY9F455-oUGr",
        "outputId": "d39acfde-e8af-47f2-f2ed-f2e8ae12cce7"
      },
      "execution_count": 74,
      "outputs": [
        {
          "output_type": "stream",
          "name": "stdout",
          "text": [
            "{1, 2, 3, '1', '하나'}\n"
          ]
        }
      ]
    },
    {
      "cell_type": "code",
      "source": [
        "# 3. 셋은 인덱싱과 슬라이싱이 불가능하다. 순서가 없다. unordered\n",
        "s2 = {1, 1, 1, 2, 2, 3, '1', '하나'}\n",
        "print(s2)"
      ],
      "metadata": {
        "colab": {
          "base_uri": "https://localhost:8080/"
        },
        "id": "f_ih-5_6pKxC",
        "outputId": "24c89609-b34a-4c4f-b7b6-c0d98705b205"
      },
      "execution_count": 75,
      "outputs": [
        {
          "output_type": "stream",
          "name": "stdout",
          "text": [
            "{1, 2, 3, '1', '하나'}\n"
          ]
        }
      ]
    },
    {
      "cell_type": "code",
      "source": [
        "s2 = {1, 1, 1, 2, 2, 3, '1', '하나'}\n",
        "l2 = list(s2)\n",
        "print(l2)"
      ],
      "metadata": {
        "colab": {
          "base_uri": "https://localhost:8080/"
        },
        "id": "Vm8iiI0ypjLT",
        "outputId": "7f953d6a-97fe-4232-981a-129830fedf69"
      },
      "execution_count": 76,
      "outputs": [
        {
          "output_type": "stream",
          "name": "stdout",
          "text": [
            "[1, 2, 3, '1', '하나']\n"
          ]
        }
      ]
    },
    {
      "cell_type": "code",
      "source": [
        "# 4. 셋른 삽입/삭제/수정이 가능하다. mutable\n",
        "s2 = {1, 1, 1, 2, 2, 3, '1', '하나'}\n",
        "s2.add('둘')\n",
        "s2"
      ],
      "metadata": {
        "colab": {
          "base_uri": "https://localhost:8080/"
        },
        "id": "GYtTrzEDp2Nj",
        "outputId": "8e205d18-980e-4958-d04d-c1d2039c0297"
      },
      "execution_count": 77,
      "outputs": [
        {
          "output_type": "execute_result",
          "data": {
            "text/plain": [
              "{1, '1', 2, 3, '둘', '하나'}"
            ]
          },
          "metadata": {},
          "execution_count": 77
        }
      ]
    },
    {
      "cell_type": "code",
      "source": [
        "s2.remove(2)\n",
        "s2 "
      ],
      "metadata": {
        "colab": {
          "base_uri": "https://localhost:8080/"
        },
        "id": "Fv3ck4eNqJ0o",
        "outputId": "d6897c43-e42e-4b74-a96b-16a534e55c6d"
      },
      "execution_count": 82,
      "outputs": [
        {
          "output_type": "execute_result",
          "data": {
            "text/plain": [
              "{1, '1', 3, '하나'}"
            ]
          },
          "metadata": {},
          "execution_count": 82
        }
      ]
    },
    {
      "cell_type": "code",
      "source": [
        "# if \n",
        "# if 조건식:\n",
        "#   참인 경우\n",
        "# else:\n",
        "#   거짓인 경우\n",
        "\n",
        "money = 2000\n",
        "card = True\n",
        "\n",
        "if money >= 3000 or card:\n",
        "  print('택시 타라') # 참인 경우\n",
        "else:\n",
        "  print('걸어 가라') # 거짓인 경우"
      ],
      "metadata": {
        "colab": {
          "base_uri": "https://localhost:8080/"
        },
        "id": "wHCRDovFq9wk",
        "outputId": "a54eec1a-ed9c-4294-a590-c8d8298accb2"
      },
      "execution_count": 84,
      "outputs": [
        {
          "output_type": "stream",
          "name": "stdout",
          "text": [
            "택시 타라\n"
          ]
        }
      ]
    },
    {
      "cell_type": "code",
      "source": [
        "4 not in[1,2,3]"
      ],
      "metadata": {
        "colab": {
          "base_uri": "https://localhost:8080/"
        },
        "id": "0SVDEvy6yY2P",
        "outputId": "d08da704-cde1-4b5a-b3c4-4a74b8c17a5a"
      },
      "execution_count": 87,
      "outputs": [
        {
          "output_type": "execute_result",
          "data": {
            "text/plain": [
              "True"
            ]
          },
          "metadata": {},
          "execution_count": 87
        }
      ]
    },
    {
      "cell_type": "code",
      "source": [
        "pocket = ['paper', 'phone', 'money']\n",
        "\n",
        "if 'money' in pocket:\n",
        "  print('택시 타라')\n",
        "else:\n",
        "  print('걸어 가라')"
      ],
      "metadata": {
        "colab": {
          "base_uri": "https://localhost:8080/"
        },
        "id": "cLHGX5iky06K",
        "outputId": "e0ba1174-8cf9-466d-b0c7-6f9f9d6b8095"
      },
      "execution_count": 88,
      "outputs": [
        {
          "output_type": "stream",
          "name": "stdout",
          "text": [
            "택시 타라\n"
          ]
        }
      ]
    },
    {
      "cell_type": "code",
      "source": [
        "pocket = ['paper', 'phone']\n",
        "card = True\n",
        "\n",
        "if 'money' in pocket:\n",
        "  print('택시 타라')\n",
        "else:\n",
        "  if card:\n",
        "    print('택시 타라')\n",
        "  else:\n",
        "    print('걸어 가라')\n",
        "\n",
        "# 분기가 여러개일 경우 if문안에 if문을 중첩하여 사용 할 수는 있지만"
      ],
      "metadata": {
        "colab": {
          "base_uri": "https://localhost:8080/"
        },
        "id": "e2XKCHXXzXXb",
        "outputId": "b502b4a4-e1c4-4a45-f7f7-807544d6f86e"
      },
      "execution_count": 89,
      "outputs": [
        {
          "output_type": "stream",
          "name": "stdout",
          "text": [
            "택시 타라\n"
          ]
        }
      ]
    },
    {
      "cell_type": "code",
      "source": [
        "pocket = ['paper', 'phone']\n",
        "card = True\n",
        "\n",
        "if 'money' in pocket:\n",
        "  print('택시 타라')\n",
        "elif card:\n",
        "  print('택시 타라')\n",
        "else:\n",
        "    print('걸어 가라')\n",
        "\n",
        "# elif는 갯수의 제한 없이 원하는 대로 넣을 수 있다."
      ],
      "metadata": {
        "colab": {
          "base_uri": "https://localhost:8080/"
        },
        "id": "S8-LpdAu0GDx",
        "outputId": "6d61d0bf-0d94-496b-9f13-08aed29eda73"
      },
      "execution_count": 90,
      "outputs": [
        {
          "output_type": "stream",
          "name": "stdout",
          "text": [
            "택시 타라\n"
          ]
        }
      ]
    },
    {
      "cell_type": "code",
      "source": [
        "pocket = ['paper', 'phone']\n",
        "card = True\n",
        "\n",
        "if 'money' in pocket: print('택시 타라')\n",
        "elif card: print('택시 타라')\n",
        "else: print('걸어 가라')"
      ],
      "metadata": {
        "colab": {
          "base_uri": "https://localhost:8080/"
        },
        "id": "ZVoUepCn0mUk",
        "outputId": "7bd60afc-7e18-4533-8934-31f3644c3b6b"
      },
      "execution_count": 91,
      "outputs": [
        {
          "output_type": "stream",
          "name": "stdout",
          "text": [
            "택시 타라\n"
          ]
        }
      ]
    },
    {
      "cell_type": "code",
      "source": [
        "score = 90\n",
        "if score >= 60:\n",
        "  print(\"합격\")\n",
        "else:\n",
        "  print(\"불합격\")"
      ],
      "metadata": {
        "colab": {
          "base_uri": "https://localhost:8080/"
        },
        "id": "Azb1-AhD05bk",
        "outputId": "b6b174c9-b2b8-4186-f692-46971503fc9f"
      },
      "execution_count": 92,
      "outputs": [
        {
          "output_type": "stream",
          "name": "stdout",
          "text": [
            "합격\n"
          ]
        }
      ]
    },
    {
      "cell_type": "code",
      "source": [
        "if score >= 60: print(\"합격\")\n",
        "else: print(\"불합격\")"
      ],
      "metadata": {
        "colab": {
          "base_uri": "https://localhost:8080/"
        },
        "id": "uVC2u2du1VXZ",
        "outputId": "74e298f5-2610-4364-b999-26db9c40febd"
      },
      "execution_count": 93,
      "outputs": [
        {
          "output_type": "stream",
          "name": "stdout",
          "text": [
            "합격\n"
          ]
        }
      ]
    },
    {
      "cell_type": "code",
      "source": [
        "# 조건부 표현식 : 한줄로 조건식을 표현\n",
        "print(\"합격\")          if score >= 60          else print(\"불합격\")\n",
        "#참의 경우                조건식                   거짓의 경우"
      ],
      "metadata": {
        "colab": {
          "base_uri": "https://localhost:8080/"
        },
        "id": "JqPOvGFT1eN_",
        "outputId": "d4b7d569-8217-4ca5-8445-49457b5776a2"
      },
      "execution_count": 94,
      "outputs": [
        {
          "output_type": "stream",
          "name": "stdout",
          "text": [
            "합격\n"
          ]
        }
      ]
    },
    {
      "cell_type": "code",
      "source": [
        "su = int(input(\"숫자를 입력하세요\"))\n",
        "\n",
        "if su % 2 == 0:\n",
        "  print (\"짝수\")\n",
        "else:\n",
        "  print(\"홀수\")\n",
        "# % 나머지는 연산자로 홀수/짝수배수를 알아낼수 있다."
      ],
      "metadata": {
        "colab": {
          "base_uri": "https://localhost:8080/"
        },
        "id": "B5jipJgG3smx",
        "outputId": "d9be80b0-2931-45ac-9dcf-3d68e4125e62"
      },
      "execution_count": 103,
      "outputs": [
        {
          "output_type": "stream",
          "name": "stdout",
          "text": [
            "숫자를 입력하세요4\n",
            "짝수\n"
          ]
        }
      ]
    },
    {
      "cell_type": "code",
      "source": [
        "su = int(input(\"숫자를 입력하세요\")) - 20\n",
        "\n",
        "if num < 0:\n",
        "    print(0)\n",
        "elif num > 255:\n",
        "  print(255)  \n",
        "else:\n",
        "  print(num)"
      ],
      "metadata": {
        "colab": {
          "base_uri": "https://localhost:8080/"
        },
        "id": "kvMt9klM5OBT",
        "outputId": "1b88c5d0-c92c-44c0-d707-f77e254eff3b"
      },
      "execution_count": 104,
      "outputs": [
        {
          "output_type": "stream",
          "name": "stdout",
          "text": [
            "숫자를 입력하세요-20\n",
            "0\n"
          ]
        }
      ]
    },
    {
      "cell_type": "code",
      "source": [
        "su = int(input(\"숫자를 입력하세요\"))\n",
        "num = su + 20\n",
        "\n",
        "if num <= 255:\n",
        "  print(su + 20)\n",
        "else:\n",
        "  print(255)"
      ],
      "metadata": {
        "id": "y93Q6LZO60d1"
      },
      "execution_count": null,
      "outputs": []
    },
    {
      "cell_type": "code",
      "source": [
        "now = input(\"현재시간 : \")\n",
        "min = now[3::]\n",
        "\n",
        "if min == '00':\n",
        "  print(\"정각입니다\")\n",
        "else:\n",
        "  print(\"정각이 아닙니다\")  "
      ],
      "metadata": {
        "colab": {
          "base_uri": "https://localhost:8080/"
        },
        "id": "KWlSPkUl8FjM",
        "outputId": "cd4c6548-c7d8-4f43-f74c-3fc84f912d40"
      },
      "execution_count": 120,
      "outputs": [
        {
          "output_type": "stream",
          "name": "stdout",
          "text": [
            "현재시간 : 03:10\n",
            "정각이 아닙니다\n"
          ]
        }
      ]
    },
    {
      "cell_type": "code",
      "source": [
        "num1 = int(input(\"Enter First number\"))\n",
        "num2 = int(input(\"Enter Second number\"))\n",
        "\n",
        "if num1 < num2:\n",
        "  print(num1, num2)\n",
        "else:\n",
        "  print(num2, num1)"
      ],
      "metadata": {
        "colab": {
          "base_uri": "https://localhost:8080/"
        },
        "id": "eEvi-BRJAdf7",
        "outputId": "b59a443f-9ba2-4563-a2e3-0515ce561850"
      },
      "execution_count": 123,
      "outputs": [
        {
          "output_type": "stream",
          "name": "stdout",
          "text": [
            "Enter First number7\n",
            "Enter Second number6\n",
            "6 7\n"
          ]
        }
      ]
    },
    {
      "cell_type": "code",
      "source": [
        "color = input(\"Enter your favourite color\")\n",
        "red = ['red', 'RED', 'Red']\n",
        "\n",
        "if color in 'red':\n",
        "  print(\"I like red too\")\n",
        "else:\n",
        "  print(\"i don\\'t like black, i prefer red\")  "
      ],
      "metadata": {
        "colab": {
          "base_uri": "https://localhost:8080/"
        },
        "id": "IZ80hJimB61l",
        "outputId": "9d75e548-fe39-423a-c8b0-028d0276e4cc"
      },
      "execution_count": 128,
      "outputs": [
        {
          "output_type": "stream",
          "name": "stdout",
          "text": [
            "Enter your favourite colorblue\n",
            "i don't like black, i prefer red\n"
          ]
        }
      ]
    },
    {
      "cell_type": "code",
      "source": [
        "age = int(input(\"How old are you ???\"))\n",
        "if age >= 18:\n",
        "  print(\"You can vote\")\n",
        "elif age == 17:\n",
        "    print('You can learn to drive')\n",
        "elif age == 16:\n",
        "    print(\"You can buy a lottery ticket\")\n",
        "else:\n",
        "  print(\"You cna go Trick-or-Treating\")"
      ],
      "metadata": {
        "colab": {
          "base_uri": "https://localhost:8080/"
        },
        "id": "tIAQUijMEc7b",
        "outputId": "98b0f41a-9feb-4b38-ecc2-d39dfbdc9522"
      },
      "execution_count": 132,
      "outputs": [
        {
          "output_type": "stream",
          "name": "stdout",
          "text": [
            "How old are you ???18\n",
            "You can vote\n"
          ]
        }
      ]
    },
    {
      "cell_type": "code",
      "source": [
        "upp = input(\"type something\")\n",
        "print (upp.upper())"
      ],
      "metadata": {
        "colab": {
          "base_uri": "https://localhost:8080/"
        },
        "id": "pryd7rjlGI5j",
        "outputId": "b6280729-9371-4fb5-c29b-e04090017356"
      },
      "execution_count": 133,
      "outputs": [
        {
          "output_type": "stream",
          "name": "stdout",
          "text": [
            "type somethinglsw\n",
            "LSW\n"
          ]
        }
      ]
    }
  ]
}