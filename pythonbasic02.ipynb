{
  "nbformat": 4,
  "nbformat_minor": 0,
  "metadata": {
    "colab": {
      "name": "pythonbasic02.ipynb",
      "provenance": [],
      "collapsed_sections": [],
      "authorship_tag": "ABX9TyPmW+BC1KwXle/1M+2IdvWm",
      "include_colab_link": true
    },
    "kernelspec": {
      "name": "python3",
      "display_name": "Python 3"
    },
    "language_info": {
      "name": "python"
    }
  },
  "cells": [
    {
      "cell_type": "markdown",
      "metadata": {
        "id": "view-in-github",
        "colab_type": "text"
      },
      "source": [
        "<a href=\"https://colab.research.google.com/github/syt73/python/blob/main/pythonbasic02.ipynb\" target=\"_parent\"><img src=\"https://colab.research.google.com/assets/colab-badge.svg\" alt=\"Open In Colab\"/></a>"
      ]
    },
    {
      "cell_type": "code",
      "execution_count": 1,
      "metadata": {
        "colab": {
          "base_uri": "https://localhost:8080/",
          "height": 54
        },
        "id": "7QOvmNkyrCaw",
        "outputId": "a85bebe5-a99a-459a-bc25-e3cf72bce2f1"
      },
      "outputs": [
        {
          "name": "stdout",
          "output_type": "stream",
          "text": [
            "i\n"
          ]
        },
        {
          "output_type": "execute_result",
          "data": {
            "text/plain": [
              "'i'"
            ],
            "application/vnd.google.colaboratory.intrinsic+json": {
              "type": "string"
            }
          },
          "metadata": {},
          "execution_count": 1
        }
      ],
      "source": [
        "# input 입력\n",
        "\n",
        "input()"
      ]
    },
    {
      "cell_type": "code",
      "source": [
        "input('아이디를 입력하세요')"
      ],
      "metadata": {
        "colab": {
          "base_uri": "https://localhost:8080/",
          "height": 54
        },
        "id": "ii4pavWT0bFE",
        "outputId": "883561b9-d560-4421-9dbf-c48124ef57b7"
      },
      "execution_count": 3,
      "outputs": [
        {
          "name": "stdout",
          "output_type": "stream",
          "text": [
            "아이디를 입력하세요오\n"
          ]
        },
        {
          "output_type": "execute_result",
          "data": {
            "text/plain": [
              "'오'"
            ],
            "application/vnd.google.colaboratory.intrinsic+json": {
              "type": "string"
            }
          },
          "metadata": {},
          "execution_count": 3
        }
      ]
    },
    {
      "cell_type": "code",
      "source": [
        "id = input('아이디를 입력하세요')"
      ],
      "metadata": {
        "colab": {
          "base_uri": "https://localhost:8080/"
        },
        "id": "nuw0_eHA01y1",
        "outputId": "dfdb680e-7ae7-4070-81e1-068b957a29b1"
      },
      "execution_count": 4,
      "outputs": [
        {
          "name": "stdout",
          "output_type": "stream",
          "text": [
            "아이디를 입력하세요이성우\n"
          ]
        }
      ]
    },
    {
      "cell_type": "code",
      "source": [
        "id = input('아이디를 입력하세요')\n",
        "print(f'{id}님 환영합니다.')"
      ],
      "metadata": {
        "colab": {
          "base_uri": "https://localhost:8080/"
        },
        "id": "wnWcS-te1AFh",
        "outputId": "a868916a-6849-41ce-c1db-074d2966efe2"
      },
      "execution_count": 5,
      "outputs": [
        {
          "output_type": "stream",
          "name": "stdout",
          "text": [
            "아이디를 입력하세요dltjddn\n",
            "dltjddn 님 환영합니다.\n"
          ]
        }
      ]
    },
    {
      "cell_type": "code",
      "source": [
        "age = input('당신의 나이를 입력하세요')\n",
        "print(f'당신의 나이는 {age}입니다.')"
      ],
      "metadata": {
        "id": "pUB_ku5v1gkv"
      },
      "execution_count": null,
      "outputs": []
    },
    {
      "cell_type": "code",
      "source": [
        "age = input('당신의 나이를 입력하세요')\n",
        "print(f'당신의 나이는 {age + 1}입니다.')"
      ],
      "metadata": {
        "colab": {
          "base_uri": "https://localhost:8080/",
          "height": 211
        },
        "id": "TLSnpZTp18q_",
        "outputId": "47317c3d-bf13-487a-9117-6b8996e3a400"
      },
      "execution_count": 6,
      "outputs": [
        {
          "name": "stdout",
          "output_type": "stream",
          "text": [
            "당신의 나이를 입력하세요23\n"
          ]
        },
        {
          "output_type": "error",
          "ename": "TypeError",
          "evalue": "ignored",
          "traceback": [
            "\u001b[0;31m---------------------------------------------------------------------------\u001b[0m",
            "\u001b[0;31mTypeError\u001b[0m                                 Traceback (most recent call last)",
            "\u001b[0;32m<ipython-input-6-c4d831f98b00>\u001b[0m in \u001b[0;36m<module>\u001b[0;34m()\u001b[0m\n\u001b[1;32m      1\u001b[0m \u001b[0mage\u001b[0m \u001b[0;34m=\u001b[0m \u001b[0minput\u001b[0m\u001b[0;34m(\u001b[0m\u001b[0;34m'당신의 나이를 입력하세요'\u001b[0m\u001b[0;34m)\u001b[0m\u001b[0;34m\u001b[0m\u001b[0;34m\u001b[0m\u001b[0m\n\u001b[0;32m----> 2\u001b[0;31m \u001b[0mprint\u001b[0m\u001b[0;34m(\u001b[0m\u001b[0;34mf'당신의 나이는 {age + 1}입니다.'\u001b[0m\u001b[0;34m)\u001b[0m\u001b[0;34m\u001b[0m\u001b[0;34m\u001b[0m\u001b[0m\n\u001b[0m",
            "\u001b[0;31mTypeError\u001b[0m: can only concatenate str (not \"int\") to str"
          ]
        }
      ]
    },
    {
      "cell_type": "code",
      "source": [
        "age = int(input('당신의 나이를 입력하세요'))\n",
        "print(type(age))\n",
        "print(f'당신의 나이는 {age + 1}입니다.')\n",
        "\n",
        "#따라서 숫자로 사용하고자 할 때에는 형변환 casting을 해주어야 계산이 가능해진다"
      ],
      "metadata": {
        "colab": {
          "base_uri": "https://localhost:8080/"
        },
        "id": "fNSJdmX_2COH",
        "outputId": "e3b5c493-7ae4-4613-de0a-dde34df57467"
      },
      "execution_count": 7,
      "outputs": [
        {
          "output_type": "stream",
          "name": "stdout",
          "text": [
            "당신의 나이를 입력하세요22\n",
            "<class 'int'>\n",
            "당신의 나이는 23입니다.\n"
          ]
        }
      ]
    },
    {
      "cell_type": "code",
      "source": [
        "#컬렉션 list, tuple, dict, set           *** dataframe from pandas\n",
        "# 여러개의 데이터를 담아두는 자료형\n",
        "\n",
        "#리스트(list)\n",
        "# 1. 리스트는 []를 사용하여 만든다.\n",
        "# 2. 리스트는 자료형을 혼잡하여 저장할수 도 있다.(파이썬 장점이자 단점)\n",
        "# 3. 리스트는 인덱싱과 슬라이싱이 가능하다.\n",
        "# 4. 리스트에서는 삽입/삭제/수정이 가능하다.\n",
        "#리스트를 사용하면 2, 4, 6, 8, 10.... 여러 데이터의 모음을 간단하게 표현할 수 있다.\n",
        "num =[2,4, 6, 8, 10]\n",
        "print(num)\n",
        "\n",
        "li1 = [1, 2, '영희', '철수']\n",
        "print(li1)\n",
        "\n",
        "kim_math = 90\n",
        "kim_eng = 95"
      ],
      "metadata": {
        "colab": {
          "base_uri": "https://localhost:8080/"
        },
        "id": "0CcuGZhO2q09",
        "outputId": "55c849b7-57ca-4945-aff4-9ab537aa705e"
      },
      "execution_count": 10,
      "outputs": [
        {
          "output_type": "stream",
          "name": "stdout",
          "text": [
            "[2, 4, 6, 8, 10]\n",
            "[1, 2, '영희', '철수']\n"
          ]
        }
      ]
    },
    {
      "cell_type": "code",
      "source": [
        "# 리스트에서의 인덱싱과 슬라이싱\n",
        "num =[2,4, 6, 8, 10]\n",
        "print(num[-1])"
      ],
      "metadata": {
        "colab": {
          "base_uri": "https://localhost:8080/"
        },
        "id": "TpZyVLyg73XZ",
        "outputId": "633937a9-f8e1-4d7f-ddaf-da0f90ea00ee"
      },
      "execution_count": 12,
      "outputs": [
        {
          "output_type": "stream",
          "name": "stdout",
          "text": [
            "10\n"
          ]
        }
      ]
    },
    {
      "cell_type": "code",
      "source": [
        "print(num[0] + num[-1])"
      ],
      "metadata": {
        "colab": {
          "base_uri": "https://localhost:8080/"
        },
        "id": "72wJyUCT8kw9",
        "outputId": "94b935f6-d46b-403d-e4bd-93707d382eaf"
      },
      "execution_count": 13,
      "outputs": [
        {
          "output_type": "stream",
          "name": "stdout",
          "text": [
            "12\n"
          ]
        }
      ]
    },
    {
      "cell_type": "code",
      "source": [
        "li1 = [1, 2, 'a', 'b', [1, 2, 3]]\n",
        "print(li1[-1][0])"
      ],
      "metadata": {
        "colab": {
          "base_uri": "https://localhost:8080/"
        },
        "id": "pGe_mj7R8xSO",
        "outputId": "56918e50-ef34-4ed8-8339-70689e58415a"
      },
      "execution_count": 15,
      "outputs": [
        {
          "output_type": "stream",
          "name": "stdout",
          "text": [
            "1\n"
          ]
        }
      ]
    },
    {
      "cell_type": "code",
      "source": [
        "# 리스트에서의 슬라이싱\n",
        "num =[2,4, 6, 8, 10]\n",
        "print(num[0:3]) #[start:stop:(:step)] 스탭은 생략하면 1씩 증가, stop 미만\n",
        "print(num[:3]) #시작을 생략하면 처음부터이고 끝을 생략하면 마지막요소까지"
      ],
      "metadata": {
        "colab": {
          "base_uri": "https://localhost:8080/"
        },
        "id": "ZhZFuD6s9SLX",
        "outputId": "e92d26f6-e2a4-4413-c0d4-7b2b16458325"
      },
      "execution_count": 17,
      "outputs": [
        {
          "output_type": "stream",
          "name": "stdout",
          "text": [
            "[2, 4, 6]\n",
            "[2, 4, 6]\n"
          ]
        }
      ]
    },
    {
      "cell_type": "code",
      "source": [
        "#리스트에서의 연산\n",
        "a = [1, 2, 3]\n",
        "print(a * 3)"
      ],
      "metadata": {
        "colab": {
          "base_uri": "https://localhost:8080/"
        },
        "id": "9WDaiKzb-UTR",
        "outputId": "892c5f71-f34e-4c48-a6fe-25dc1213de50"
      },
      "execution_count": 18,
      "outputs": [
        {
          "output_type": "stream",
          "name": "stdout",
          "text": [
            "[1, 2, 3, 1, 2, 3, 1, 2, 3]\n"
          ]
        }
      ]
    },
    {
      "cell_type": "code",
      "source": [
        "# 리스트 길이 (갯수)\n",
        "num =[2,4, 6, 8, 10]\n",
        "print(len(num))"
      ],
      "metadata": {
        "colab": {
          "base_uri": "https://localhost:8080/"
        },
        "id": "S8kINjvM-k6b",
        "outputId": "e55155f0-fd13-419d-ac2f-15e469c76f53"
      },
      "execution_count": 19,
      "outputs": [
        {
          "output_type": "stream",
          "name": "stdout",
          "text": [
            "5\n"
          ]
        }
      ]
    },
    {
      "cell_type": "code",
      "source": [
        "# 4. 리스트에서는 삽입/삭제/수정이 가능하다.\n",
        "# 수정\n",
        "num =[2,4, 6, 8, 10]\n",
        "num[0] = 0\n",
        "print(num)\n",
        "\n",
        "#삭제\n",
        "del num[0]\n",
        "print(num)\n",
        "\n",
        "del num[2:] #슬라이싱 기법을 사용하여 여러 요소 한번에 삭제\n",
        "print(num)\n",
        "\n",
        "num.pop() # 마지막 항목을 하나씩 제거, 괄호안을 생략 -> 마지막 1개 삭제\n",
        "print(num)\n",
        "\n",
        "num = [2, 4, 6, 8, 10]\n",
        "num.pop(0) # 괄호안을 생략하면 마지막 요소를 날리지만 위치가 값을 지정하면 그요소를 삭제\n",
        "print(num)\n",
        "\n",
        "# 리스트 삽입 append, insert\n",
        "a = [1, 2, 3]\n",
        "print(a)\n",
        "\n",
        "a.append(4)\n",
        "print(a)\n",
        "\n",
        "a.append('글자')\n",
        "print(a)\n",
        "\n",
        "a.insert(0, 0)  #. (위치, 값)\n",
        "print(a)\n"
      ],
      "metadata": {
        "colab": {
          "base_uri": "https://localhost:8080/"
        },
        "id": "qWl4Usrr-6Ih",
        "outputId": "ebf1626f-b79a-4b58-d2e7-f78dfeaa9531"
      },
      "execution_count": 28,
      "outputs": [
        {
          "output_type": "stream",
          "name": "stdout",
          "text": [
            "[0, 4, 6, 8, 10]\n",
            "[4, 6, 8, 10]\n",
            "[4, 6]\n",
            "[4]\n",
            "[4, 6, 8, 10]\n",
            "[1, 2, 3]\n",
            "[1, 2, 3, 4]\n",
            "[1, 2, 3, 4, '글자']\n",
            "[0, 1, 2, 3, 4, '글자']\n"
          ]
        }
      ]
    },
    {
      "cell_type": "code",
      "source": [
        "# 튜플 tuple\n",
        "# 1. 튜플은 ()를 사용하여 만든다.\n",
        "# 2. 튜플은 자료형을 혼잡하여 저장할수 도 있다.(파이썬 장점이자 단점)\n",
        "# 3. 튜플 인덱싱과 슬라이싱이 가능하다.\n",
        "# 4. 튜플에서는 삽입/삭제/수정이 불가능하다. immutable\n",
        "# 5. 튜플은 한개의 요소로 만들때는 괜히 ,를 넣는다.\n",
        "t1 = (1, 2, 3)\n",
        "type(t1)\n",
        "\n",
        "t2 = (1, 2, 'a', 'b')\n",
        "print(t2)"
      ],
      "metadata": {
        "colab": {
          "base_uri": "https://localhost:8080/"
        },
        "id": "dDGqnNrFCjI_",
        "outputId": "a43cee8c-8dbb-4a59-a785-6f756d3a2108"
      },
      "execution_count": 31,
      "outputs": [
        {
          "output_type": "stream",
          "name": "stdout",
          "text": [
            "(1, 2, 'a', 'b')\n"
          ]
        }
      ]
    },
    {
      "cell_type": "code",
      "source": [
        "#튜플에서의 인덱싱\n",
        "t2 = (1, 2, 'a', 'b')\n",
        "print(t2[-1])"
      ],
      "metadata": {
        "colab": {
          "base_uri": "https://localhost:8080/"
        },
        "id": "wwJvqbDHDtNi",
        "outputId": "f5f2daa4-38c5-42aa-8ec8-0e461f3dd710"
      },
      "execution_count": 32,
      "outputs": [
        {
          "output_type": "stream",
          "name": "stdout",
          "text": [
            "b\n"
          ]
        }
      ]
    },
    {
      "cell_type": "code",
      "source": [
        "#튜플에서의 슬라이싱\n",
        "print(t2[:2]) # 마지막은 미만처리"
      ],
      "metadata": {
        "colab": {
          "base_uri": "https://localhost:8080/"
        },
        "id": "N4ij-ooqD_dP",
        "outputId": "ca5b032d-b112-418d-8b0f-d38dad37be5e"
      },
      "execution_count": 33,
      "outputs": [
        {
          "output_type": "stream",
          "name": "stdout",
          "text": [
            "(1, 2)\n"
          ]
        }
      ]
    },
    {
      "cell_type": "code",
      "source": [
        "# 4. 튜플에서는 삽입/삭제/수정이 불가능하다. immutable\n",
        "#삽입\n",
        "t2 = (1, 2, 'a', 'b')\n",
        "t2.append('c')"
      ],
      "metadata": {
        "colab": {
          "base_uri": "https://localhost:8080/",
          "height": 211
        },
        "id": "FltJN97GERxq",
        "outputId": "b68dd08d-cca6-48ba-b96d-7c287352e71e"
      },
      "execution_count": 34,
      "outputs": [
        {
          "output_type": "error",
          "ename": "AttributeError",
          "evalue": "ignored",
          "traceback": [
            "\u001b[0;31m---------------------------------------------------------------------------\u001b[0m",
            "\u001b[0;31mAttributeError\u001b[0m                            Traceback (most recent call last)",
            "\u001b[0;32m<ipython-input-34-eaee38f20764>\u001b[0m in \u001b[0;36m<module>\u001b[0;34m()\u001b[0m\n\u001b[1;32m      1\u001b[0m \u001b[0;31m# 4. 튜플에서는 삽입/삭제/수정이 불가능하다. immutable\u001b[0m\u001b[0;34m\u001b[0m\u001b[0;34m\u001b[0m\u001b[0;34m\u001b[0m\u001b[0m\n\u001b[1;32m      2\u001b[0m \u001b[0mt2\u001b[0m \u001b[0;34m=\u001b[0m \u001b[0;34m(\u001b[0m\u001b[0;36m1\u001b[0m\u001b[0;34m,\u001b[0m \u001b[0;36m2\u001b[0m\u001b[0;34m,\u001b[0m \u001b[0;34m'a'\u001b[0m\u001b[0;34m,\u001b[0m \u001b[0;34m'b'\u001b[0m\u001b[0;34m)\u001b[0m\u001b[0;34m\u001b[0m\u001b[0;34m\u001b[0m\u001b[0m\n\u001b[0;32m----> 3\u001b[0;31m \u001b[0mt2\u001b[0m\u001b[0;34m.\u001b[0m\u001b[0mappend\u001b[0m\u001b[0;34m(\u001b[0m\u001b[0;34m'c'\u001b[0m\u001b[0;34m)\u001b[0m\u001b[0;34m\u001b[0m\u001b[0;34m\u001b[0m\u001b[0m\n\u001b[0m",
            "\u001b[0;31mAttributeError\u001b[0m: 'tuple' object has no attribute 'append'"
          ]
        }
      ]
    },
    {
      "cell_type": "code",
      "source": [
        "# 4. 튜플에서는 삽입/삭제/수정이 불가능하다. immutable\n",
        "# 수정\n",
        "t2 = (1, 2, 'a', 'b')\n",
        "t2[0] = 0"
      ],
      "metadata": {
        "colab": {
          "base_uri": "https://localhost:8080/",
          "height": 211
        },
        "id": "Exi-mi7tElht",
        "outputId": "8e76ee0e-e026-4707-b046-1c7258b638ca"
      },
      "execution_count": 35,
      "outputs": [
        {
          "output_type": "error",
          "ename": "TypeError",
          "evalue": "ignored",
          "traceback": [
            "\u001b[0;31m---------------------------------------------------------------------------\u001b[0m",
            "\u001b[0;31mTypeError\u001b[0m                                 Traceback (most recent call last)",
            "\u001b[0;32m<ipython-input-35-7fa22dfaa086>\u001b[0m in \u001b[0;36m<module>\u001b[0;34m()\u001b[0m\n\u001b[1;32m      2\u001b[0m \u001b[0;31m# 수정\u001b[0m\u001b[0;34m\u001b[0m\u001b[0;34m\u001b[0m\u001b[0;34m\u001b[0m\u001b[0m\n\u001b[1;32m      3\u001b[0m \u001b[0mt2\u001b[0m \u001b[0;34m=\u001b[0m \u001b[0;34m(\u001b[0m\u001b[0;36m1\u001b[0m\u001b[0;34m,\u001b[0m \u001b[0;36m2\u001b[0m\u001b[0;34m,\u001b[0m \u001b[0;34m'a'\u001b[0m\u001b[0;34m,\u001b[0m \u001b[0;34m'b'\u001b[0m\u001b[0;34m)\u001b[0m\u001b[0;34m\u001b[0m\u001b[0;34m\u001b[0m\u001b[0m\n\u001b[0;32m----> 4\u001b[0;31m \u001b[0mt2\u001b[0m\u001b[0;34m[\u001b[0m\u001b[0;36m0\u001b[0m\u001b[0;34m]\u001b[0m \u001b[0;34m=\u001b[0m \u001b[0;36m0\u001b[0m\u001b[0;34m\u001b[0m\u001b[0;34m\u001b[0m\u001b[0m\n\u001b[0m",
            "\u001b[0;31mTypeError\u001b[0m: 'tuple' object does not support item assignment"
          ]
        }
      ]
    },
    {
      "cell_type": "code",
      "source": [
        "# 4. 튜플에서는 삽입/삭제/수정이 불가능하다. immutable\n",
        "# 삭제\n",
        "t2 = (1, 2, 'a', 'b')\n",
        "t2.del(1)"
      ],
      "metadata": {
        "colab": {
          "base_uri": "https://localhost:8080/",
          "height": 137
        },
        "id": "KqM_-NUtEyZL",
        "outputId": "de70f645-4dfc-460c-88a3-9d232648c05a"
      },
      "execution_count": 36,
      "outputs": [
        {
          "output_type": "error",
          "ename": "SyntaxError",
          "evalue": "ignored",
          "traceback": [
            "\u001b[0;36m  File \u001b[0;32m\"<ipython-input-36-1afcd01a5a41>\"\u001b[0;36m, line \u001b[0;32m4\u001b[0m\n\u001b[0;31m    t2.del(1)\u001b[0m\n\u001b[0m         ^\u001b[0m\n\u001b[0;31mSyntaxError\u001b[0m\u001b[0;31m:\u001b[0m invalid syntax\n"
          ]
        }
      ]
    },
    {
      "cell_type": "code",
      "source": [
        "len(t2)"
      ],
      "metadata": {
        "colab": {
          "base_uri": "https://localhost:8080/"
        },
        "id": "kMNNaPdDFAmI",
        "outputId": "11fee355-ea1a-48e4-ff19-de5b517fda3a"
      },
      "execution_count": 37,
      "outputs": [
        {
          "output_type": "execute_result",
          "data": {
            "text/plain": [
              "4"
            ]
          },
          "metadata": {},
          "execution_count": 37
        }
      ]
    },
    {
      "cell_type": "code",
      "source": [
        "li1 = [1]\n",
        "print(li1)\n",
        "print(len(li1))\n",
        "print(type(li1))\n",
        "\n",
        "li2 = (1,)\n",
        "print(li2)\n",
        "# print(len(li2))\n",
        "print(type(li2))"
      ],
      "metadata": {
        "colab": {
          "base_uri": "https://localhost:8080/"
        },
        "id": "e4C1cFOKFK4y",
        "outputId": "a057d232-cd8d-44df-e739-6f4931686af4"
      },
      "execution_count": 45,
      "outputs": [
        {
          "output_type": "stream",
          "name": "stdout",
          "text": [
            "[1]\n",
            "1\n",
            "<class 'list'>\n",
            "(1,)\n",
            "<class 'tuple'>\n"
          ]
        }
      ]
    },
    {
      "cell_type": "code",
      "source": [
        "# Quiz1 bts 라는 이름 \n",
        "bts = ['정국', '진', '뷔', 'RM', '지민', '제이홉', '슈가']"
      ],
      "metadata": {
        "id": "c18BUFxxJSfl"
      },
      "execution_count": 46,
      "outputs": []
    },
    {
      "cell_type": "code",
      "source": [
        "#\n",
        "bts.append('길동')\n",
        "\n",
        "#\n",
        "bts.pop()\n",
        "\n",
        "#\n",
        "nums = [1, 2, 3, 4, 5]\n",
        "print(f'nums 리스트에서의 최대값은 {max(nums)}입니다.')\n",
        "print(f'nums리스트에서의 최소값은 {min(nums)}입니다.')\n",
        "\n",
        "total = sum(nums)\n",
        "result = total / 5\n",
        "print(f'nums리스트에서의 평균은 {result}입니다.')\n",
        "\n",
        "price = ['20220602', 100, 300, 200]\n",
        "print(price[1:])\n",
        "\n",
        "nums = [1, 2, 3, 4, 5, 6, 7, 8, 9, 10]\n",
        "print(nums[1::2])  \n",
        "\n",
        "s = \"삼성 엘지 sk\"\n",
        "ss = \"삼성/엘지/sk\"\n",
        "\n",
        "r = s.split()\n",
        "r1 = s.split('/')\n",
        "print(r)\n",
        "print(r1)\n"
      ],
      "metadata": {
        "colab": {
          "base_uri": "https://localhost:8080/"
        },
        "id": "dWGvTYkQKApU",
        "outputId": "8688bb18-67e3-4236-91c8-63e9a0dff6b2"
      },
      "execution_count": 58,
      "outputs": [
        {
          "output_type": "stream",
          "name": "stdout",
          "text": [
            "nums 리스트에서의 최대값은 5입니다.\n",
            "nums리스트에서의 최소값은 1입니다.\n",
            "nums리스트에서의 평균은 3.0입니다.\n",
            "[100, 300, 200]\n",
            "[2, 4, 6, 8, 10]\n",
            "['삼성', '엘지', 'sk']\n",
            "['삼성 엘지 sk']\n"
          ]
        }
      ]
    },
    {
      "cell_type": "code",
      "source": [
        "# 딕셔너리 Dict\n",
        "# 1. 딕셔너리는 {}를 사용하여 만든다.\n",
        "# 2. 딕셔너리는 자료형을 혼잡하여 저장할수 도 있다.(파이썬 장점이자 단점)\n",
        "# 3. 딕셔너리는 인덱싱과 슬라이싱이 불가능하다.\n",
        "# 4. 리스트에서는 삽입/삭제/수정이 가능하다. mutable\n",
        "# 5. 딕셔너리는 키값과 밸류값의 쌍으로 구성된다 (자바의 맵, JS의JSON)\n",
        "\n",
        "a = {1:'hello', 2:'hi'}\n",
        "print(type(a))\n",
        "print(a)"
      ],
      "metadata": {
        "colab": {
          "base_uri": "https://localhost:8080/"
        },
        "id": "NVym2-wFPnzW",
        "outputId": "1e83c696-0644-41c2-f619-86cc6c7e3917"
      },
      "execution_count": 60,
      "outputs": [
        {
          "output_type": "stream",
          "name": "stdout",
          "text": [
            "<class 'dict'>\n",
            "{1: 'hello', 2: 'hi'}\n"
          ]
        }
      ]
    },
    {
      "cell_type": "code",
      "source": [
        "b = {'name':'Alice', 'age':21, 'gender': 'F'}\n",
        "print(b)\n",
        "\n",
        "# 딕셔너리는 순서가 없기 때문에 indexing과 slicing이 불가능하다\n",
        "# 딕셔너리는 순서가 없기때문에 입력순서와 출력순서가 다를 수 있다."
      ],
      "metadata": {
        "colab": {
          "base_uri": "https://localhost:8080/"
        },
        "id": "OeUla1TXRh1V",
        "outputId": "898a4d17-1b79-422d-e2de-78d52b90327e"
      },
      "execution_count": 61,
      "outputs": [
        {
          "output_type": "stream",
          "name": "stdout",
          "text": [
            "{'name': 'Alice', 'age': 21, 'gender': 'F'}\n"
          ]
        }
      ]
    },
    {
      "cell_type": "code",
      "source": [
        "# b[0] #딕셔너리는 인덱싱과 슬라이싱이 불가능하다\n",
        "# 따라서 딕셔너리는 키값만으로만 추출할 수 있다.\n",
        "b['name'] #키 값으로만 추출 할 수 있다."
      ],
      "metadata": {
        "colab": {
          "base_uri": "https://localhost:8080/",
          "height": 35
        },
        "id": "2EvdETUVSfei",
        "outputId": "1620ba4d-35ba-4a8a-9317-99f9cbb508c2"
      },
      "execution_count": 63,
      "outputs": [
        {
          "output_type": "execute_result",
          "data": {
            "text/plain": [
              "'Alice'"
            ],
            "application/vnd.google.colaboratory.intrinsic+json": {
              "type": "string"
            }
          },
          "metadata": {},
          "execution_count": 63
        }
      ]
    },
    {
      "cell_type": "code",
      "source": [
        "b = {'name':'Alice', 'age':21, 'gender': 'F'}\n",
        "print(b)\n",
        "\n",
        "del b['age']\n",
        "print(b)\n",
        "\n",
        "b['age2'] = 31 #삽입\n",
        "print(b)\n",
        "\n",
        "b['age2'] = 25 # 수정\n",
        "print(b)"
      ],
      "metadata": {
        "colab": {
          "base_uri": "https://localhost:8080/"
        },
        "id": "wOwX-WGmTBaL",
        "outputId": "2bb2883b-c034-4211-ecdc-5f8e9bf4822b"
      },
      "execution_count": 66,
      "outputs": [
        {
          "output_type": "stream",
          "name": "stdout",
          "text": [
            "{'name': 'Alice', 'age': 21, 'gender': 'F'}\n",
            "{'name': 'Alice', 'gender': 'F'}\n",
            "{'name': 'Alice', 'gender': 'F', 'age2': 31}\n",
            "{'name': 'Alice', 'gender': 'F', 'age2': 25}\n"
          ]
        }
      ]
    },
    {
      "cell_type": "code",
      "source": [
        ""
      ],
      "metadata": {
        "id": "PjXIGmgLToKb"
      },
      "execution_count": null,
      "outputs": []
    }
  ]
}