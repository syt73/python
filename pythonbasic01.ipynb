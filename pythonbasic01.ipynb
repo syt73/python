{
  "nbformat": 4,
  "nbformat_minor": 0,
  "metadata": {
    "colab": {
      "name": "pythonbasic01.ipynb",
      "provenance": [],
      "authorship_tag": "ABX9TyPCn3uAlRtftR/VkUEjBsQC",
      "include_colab_link": true
    },
    "kernelspec": {
      "name": "python3",
      "display_name": "Python 3"
    },
    "language_info": {
      "name": "python"
    }
  },
  "cells": [
    {
      "cell_type": "markdown",
      "metadata": {
        "id": "view-in-github",
        "colab_type": "text"
      },
      "source": [
        "<a href=\"https://colab.research.google.com/github/keunsooyoon/python202206/blob/main/pythonbasic01.ipynb\" target=\"_parent\"><img src=\"https://colab.research.google.com/assets/colab-badge.svg\" alt=\"Open In Colab\"/></a>"
      ]
    },
    {
      "cell_type": "code",
      "execution_count": 1,
      "metadata": {
        "colab": {
          "base_uri": "https://localhost:8080/",
          "height": 0
        },
        "id": "0LZgiYrSADK7",
        "outputId": "92a987b9-8422-4135-c743-fcc1454b6e0f"
      },
      "outputs": [
        {
          "output_type": "stream",
          "name": "stdout",
          "text": [
            "Hello World\n"
          ]
        }
      ],
      "source": [
        "# 1 기본 - 소개/역사/특징 About Python\n",
        "# 2 개발환경 - 온라인 Online IDE\n",
        "# 3 개발환경 - 오프라인 Offline IDE\n",
        "# 4 개발환경 - Hello World\n",
        "# 5 Awesome Tips\n",
        "\n",
        "\n",
        "# 6 기초 - 주석/변수 Comment/Variable\n",
        "# 7 기초 - 기본 자료형 Data Type"
      ]
    },
    {
      "cell_type": "code",
      "source": [
        "# 1 기본 - 소개/역사/특징 About Python\n",
        "\n",
        "# 컴파일러 : 자바 C C++\n",
        "# 인터프리터 : 파이썬, R \n",
        "\n",
        "# 파이썬은 영어와 문법이 아주 유사하여 사람이 이해하기 쉽다. \n",
        "# 많은 개발자가 참여하여 무료로 공유되는 코드가 많다. \n",
        "\n",
        "# 창시자 - 귀도반로썸 (1956~), 네델란드 구글 -> 드랍박스(클라우드 원조) -> 마이크로소프트(2020)\n",
        "\n",
        "# 1. 사용이 쉽다. \n",
        "# 2. 강력하다. \n",
        "# 3. 객체지향언어\n",
        "# 4. 어디에서나 실행된다. \n",
        "# 5. 사용자가 많다. \n",
        "# 6. 무료이다. "
      ],
      "metadata": {
        "id": "znZZCX90S6zQ"
      },
      "execution_count": null,
      "outputs": []
    },
    {
      "cell_type": "code",
      "source": [
        "# 2 개발환경 - 온라인 Online IDE   \n",
        "\n",
        "# ***Colab\n",
        "# Repl\n",
        "# 구름IDE"
      ],
      "metadata": {
        "id": "iJUJWn9SU2Ak"
      },
      "execution_count": null,
      "outputs": []
    },
    {
      "cell_type": "code",
      "source": [
        "# 3 개발환경 - 오프라인 Offline IDE\n",
        "\n",
        "# FM\n",
        "# 파이썬 -> 파이참(ide)\n",
        "\n",
        "# Mine\n",
        "# Anaconda = 파이썬 + Jupyter Notebook(ide) + a + b + c"
      ],
      "metadata": {
        "id": "ZAVQDyDDV0WD"
      },
      "execution_count": null,
      "outputs": []
    },
    {
      "cell_type": "code",
      "source": [
        "# 4 개발환경 - Hello World\n",
        "\n"
      ],
      "metadata": {
        "id": "TlzazgSpcVCC"
      },
      "execution_count": 2,
      "outputs": []
    },
    {
      "cell_type": "code",
      "source": [
        "# 6 기초 - 주석 / 변수 Comment/Variable\n",
        "\n",
        "# 자바에서의 주석 //     /*   */ 처럼 파이썬에서는 #을 주석 기호로 사용한다. \n",
        "# \"\"\"   \"\"\" 삼중 따옴표 로 여러줄 주석 처럼 사용한다. -> docstring\n",
        "\n",
        "\"\"\"\n",
        "프로그램 버전 : 0.1\n",
        "프로그램 작성자 : 홍길동\n",
        "프로그램 작성일 : 2022/05/31\n",
        "\"\"\"\n",
        "\n",
        "# 프로그램 버전 : 0.1\n",
        "# 프로그램 작성자 : 홍길동\n",
        "# 프로그램 작성일 : 2022/05/31\n",
        "\n",
        "# 구문의 위에 삽입\n",
        "print(\"Hello World\")  # 구문의 우측에 삽입\n",
        "# 구문의 하단에 삽입\n",
        "\n",
        "\n",
        "\n",
        "# 주석의 또다른 용법 : 원래 주석의 기본적인 의미는 코드에 대한 설명이지만\n",
        "#                      주석의 또 다른 중요한 용법은 코드의 일부를 일시 정지시키는 용도\n",
        "\n",
        "print(\"Hello\")\n",
        "# print(\"World\")  # 코드에 주석을 사용하여 임시로 동작을 하지 않게 만드는 역할\n",
        "print(\"Python\")\n",
        "print('Python') # 파이썬에서는 ''   \"\"   가 완전히 동일하게 사용된다. \n",
        "\n",
        "print(\"Austin's pie\")  # 기호로써의 ' 를 표시하고 싶을때는 \"\" 를 사용하여 열고 닫는다. \n",
        "print('Austin\\'s pie')"
      ],
      "metadata": {
        "colab": {
          "base_uri": "https://localhost:8080/",
          "height": 0
        },
        "id": "JGH7vFPWiZr9",
        "outputId": "41562181-e588-42ff-cffd-9b0fc08d8780"
      },
      "execution_count": 15,
      "outputs": [
        {
          "output_type": "stream",
          "name": "stdout",
          "text": [
            "Hello World\n",
            "Hello\n",
            "Python\n",
            "Python\n",
            "Austin's pie\n",
            "Austin's pie\n"
          ]
        }
      ]
    },
    {
      "cell_type": "code",
      "source": [
        ""
      ],
      "metadata": {
        "id": "DJxwg-Jlqt1S"
      },
      "execution_count": null,
      "outputs": []
    },
    {
      "cell_type": "code",
      "source": [
        "# 변수\n",
        "\n",
        "# 자바나 씨 등의 언어와는 달리 변수를 선언할때 앞에서 형을 정해주지 않는다. \n",
        "# 선언과 동시에 파이썬이 데이터를 알아서 정수인지 문자열인지 판단을 하여 저장한다. \n",
        "\n",
        "age = 21\n",
        "name = \"홍길동\"\n",
        "\n",
        "age, name = 21, \"홍길동\"\n",
        "\n",
        "# 변수명 선언 방법/규칙\n",
        "\n",
        "# 1 문자 숫자 _ 만 사용\n",
        "# 2 숫자로 시작할수는 없다.  A100(o) 100A(x)\n",
        "# 3 예약어는 사용할 수 없다. print, class ....\n",
        "# 4 대소 문자를 구분한다.  a = 100, A = 100 별개의 변수\n",
        "# 5 가능하면 변수명은 영어로만 만들자 (한글로도 만들수는 있다. )\n",
        "\n",
        "# austinYoonGood : camel case\n",
        "# austin_yoon_good : snake case"
      ],
      "metadata": {
        "id": "MSE9niBjky0a"
      },
      "execution_count": 8,
      "outputs": []
    },
    {
      "cell_type": "code",
      "source": [
        "\n",
        "# 다음 중 틀린 것을 고르시오.   -> 4\n",
        "\n",
        "# 1 a100 = '기획부'\n",
        "# 2 부서명 = '영업부'\n",
        "# 3 _200 = '관리부'\n",
        "# 4 print = '광고부'"
      ],
      "metadata": {
        "id": "vomG5nqplvZe"
      },
      "execution_count": null,
      "outputs": []
    },
    {
      "cell_type": "code",
      "source": [
        "출력 결과를 예상하여 알맞은 결과를 고르시오.    1\n",
        "a = 100\n",
        "A = 200\n",
        "print(a)\n",
        "\n",
        "\n",
        "1 100\n",
        "2 200\n",
        "3 300\n",
        "4 None"
      ],
      "metadata": {
        "id": "WUfkAawhnsdT"
      },
      "execution_count": null,
      "outputs": []
    },
    {
      "cell_type": "code",
      "source": [
        "# korea 이라는 변수명에 주식가격인 63000 을 할당하고, \n",
        "# 100 주를 보유하고 있을 때 평가 금액을 계산하시오.\n",
        "\n",
        "korea=63000\n",
        "total=korea*100\n",
        "print(total)"
      ],
      "metadata": {
        "colab": {
          "base_uri": "https://localhost:8080/",
          "height": 0
        },
        "id": "qyvaWiven-41",
        "outputId": "5ef8d27e-aace-49e6-af47-7d9dc0787681"
      },
      "execution_count": 9,
      "outputs": [
        {
          "output_type": "stream",
          "name": "stdout",
          "text": [
            "6300000\n"
          ]
        }
      ]
    },
    {
      "cell_type": "code",
      "source": [
        "# 7 기초 - 기본 자료형 Data Type\n",
        "\n",
        "# 숫자형 \n",
        "\n",
        "a = 3\n",
        "b = 3.14\n",
        "c = -2\n",
        "\n",
        "type(b)"
      ],
      "metadata": {
        "colab": {
          "base_uri": "https://localhost:8080/"
        },
        "id": "7u5bDIjos9fv",
        "outputId": "0db3d541-4ca6-4142-9a6f-b76e3309e133"
      },
      "execution_count": 19,
      "outputs": [
        {
          "output_type": "execute_result",
          "data": {
            "text/plain": [
              "float"
            ]
          },
          "metadata": {},
          "execution_count": 19
        }
      ]
    },
    {
      "cell_type": "code",
      "source": [
        "43 / 4"
      ],
      "metadata": {
        "colab": {
          "base_uri": "https://localhost:8080/"
        },
        "id": "l_F_HDqatXG0",
        "outputId": "eb0633c6-0503-4a86-c6ad-ffb4cada9c89"
      },
      "execution_count": 20,
      "outputs": [
        {
          "output_type": "execute_result",
          "data": {
            "text/plain": [
              "10.75"
            ]
          },
          "metadata": {},
          "execution_count": 20
        }
      ]
    },
    {
      "cell_type": "code",
      "source": [
        "43 // 4\n",
        "43 % 4"
      ],
      "metadata": {
        "colab": {
          "base_uri": "https://localhost:8080/"
        },
        "id": "cldw9C6TtbIF",
        "outputId": "68303c98-bb9a-459c-d7e6-d37125f33eef"
      },
      "execution_count": 24,
      "outputs": [
        {
          "output_type": "execute_result",
          "data": {
            "text/plain": [
              "3"
            ]
          },
          "metadata": {},
          "execution_count": 24
        }
      ]
    },
    {
      "cell_type": "code",
      "source": [
        "43 % 4   # % 나머지 연산자로  홀수/짝수/배수  를 알아낼수 있다. "
      ],
      "metadata": {
        "colab": {
          "base_uri": "https://localhost:8080/"
        },
        "id": "ezxTbgTFtegS",
        "outputId": "d77c87ed-f942-4af8-dba9-b450db9fa835"
      },
      "execution_count": 22,
      "outputs": [
        {
          "output_type": "execute_result",
          "data": {
            "text/plain": [
              "3"
            ]
          },
          "metadata": {},
          "execution_count": 22
        }
      ]
    },
    {
      "cell_type": "code",
      "source": [
        ""
      ],
      "metadata": {
        "id": "2GIG5QvNunyQ"
      },
      "execution_count": null,
      "outputs": []
    },
    {
      "cell_type": "code",
      "source": [
        "print(43%4)"
      ],
      "metadata": {
        "colab": {
          "base_uri": "https://localhost:8080/"
        },
        "id": "DoK1kk_-tvCh",
        "outputId": "1e93ec74-06bf-4f2b-ec81-00cadc10372d"
      },
      "execution_count": 23,
      "outputs": [
        {
          "output_type": "stream",
          "name": "stdout",
          "text": [
            "3\n"
          ]
        }
      ]
    },
    {
      "cell_type": "code",
      "source": [
        "# 불형 bool or boolean -> True, False   주의 : true false 와는 다르다. \n",
        "\n",
        "1 == 1"
      ],
      "metadata": {
        "colab": {
          "base_uri": "https://localhost:8080/"
        },
        "id": "QKruCyvAuoPz",
        "outputId": "99305326-2787-4e89-d539-f340339fc0d3"
      },
      "execution_count": 26,
      "outputs": [
        {
          "output_type": "execute_result",
          "data": {
            "text/plain": [
              "True"
            ]
          },
          "metadata": {},
          "execution_count": 26
        }
      ]
    },
    {
      "cell_type": "code",
      "source": [
        "1 != 1"
      ],
      "metadata": {
        "colab": {
          "base_uri": "https://localhost:8080/"
        },
        "id": "OiXY7me_u-xw",
        "outputId": "20fb887c-ca3a-47ed-d863-8b81a16e53c7"
      },
      "execution_count": 27,
      "outputs": [
        {
          "output_type": "execute_result",
          "data": {
            "text/plain": [
              "False"
            ]
          },
          "metadata": {},
          "execution_count": 27
        }
      ]
    },
    {
      "cell_type": "code",
      "source": [
        "# 문자열...\n",
        "\n",
        "name1 = \"Austin\"  # 파이썬에서는 큰따옴표와\n",
        "name2 = 'austin'  # 작은 따옴표 모두 문자열을 나타낸다. \n",
        "age1 = \"30\"        # 숫자라도 따옴표가 있으면 문자로 처리된다. \n",
        "age2 = 30          # 숫자는 따옴표가 없다. \n",
        "\n",
        "# 문자열에서의 인덱싱 - 몇 번째 글자 하나\n",
        "\n",
        "words = \"I love you\"  # 어떤 문자열에서 글자하나만 추출 -> v\n",
        "print(words[4])\n",
        "\n",
        "\n",
        "# 파이썬에서의 독특한 인덱싱 방법 , 마지막 한글자만 추출, 뒤부터는 -1 부터 센다. \n",
        "print(words[-1])\n",
        "\n",
        "\n",
        "\n",
        "# 문자열에서의 슬라이싱 - 글자 여러개\n",
        "\n",
        "words = \"I love you\"\n",
        "words[2:6]   # [시작:끝(미만)]   [시작:끝(미만):증감] [start:stop:step]\n",
        "words[2:6:1] # step 은 생략 가능 생략하면 1\n",
        "print(words[:6:1]) # 시작을 생략하면 0부터시작\n",
        "print(words[2::1]) # 끝을 생략하면 마지막까지\n",
        "print(words[::2])  # 하나씩 건너 띄워 인쇄\n",
        "\n",
        "# 문자열에서의 인덱싱과 슬라이싱 기법은 그대로 리스트와 튜플에서도 동일하게 사용된다. \n",
        "\n"
      ],
      "metadata": {
        "colab": {
          "base_uri": "https://localhost:8080/"
        },
        "id": "k6ZwZER0vEyi",
        "outputId": "1309b61d-a050-4498-e1f2-3e44a83ed46b"
      },
      "execution_count": 35,
      "outputs": [
        {
          "output_type": "stream",
          "name": "stdout",
          "text": [
            "v\n",
            "u\n",
            "I love\n",
            "love you\n",
            "Ilv o\n"
          ]
        }
      ]
    },
    {
      "cell_type": "code",
      "source": [
        ""
      ],
      "metadata": {
        "id": "P2iRmsMA0ZYn"
      },
      "execution_count": null,
      "outputs": []
    },
    {
      "cell_type": "code",
      "source": [
        "# \"LOVE\" 문자열을 \"EVOL\" 로 뒤집어 출력하세요\n",
        "\n",
        "word = 'LOVE'\n",
        "word[::-1]"
      ],
      "metadata": {
        "colab": {
          "base_uri": "https://localhost:8080/",
          "height": 35
        },
        "id": "tDP8DdXGy3Sc",
        "outputId": "b25df835-8846-47f1-8775-af77214d9bf5"
      },
      "execution_count": 37,
      "outputs": [
        {
          "output_type": "execute_result",
          "data": {
            "text/plain": [
              "'EVOL'"
            ],
            "application/vnd.google.colaboratory.intrinsic+json": {
              "type": "string"
            }
          },
          "metadata": {},
          "execution_count": 37
        }
      ]
    },
    {
      "cell_type": "code",
      "source": [
        "# \"He is good, All the time\" 문자열에서 \"time\" 만 추출하세요.\n",
        "\n",
        "word = \"He is good, All the time\"\n",
        "word[-4:]"
      ],
      "metadata": {
        "colab": {
          "base_uri": "https://localhost:8080/",
          "height": 35
        },
        "id": "JYJ9O102zb-n",
        "outputId": "18a7f76c-c0f4-4df4-d3e7-132ab6c69ade"
      },
      "execution_count": 38,
      "outputs": [
        {
          "output_type": "execute_result",
          "data": {
            "text/plain": [
              "'time'"
            ],
            "application/vnd.google.colaboratory.intrinsic+json": {
              "type": "string"
            }
          },
          "metadata": {},
          "execution_count": 38
        }
      ]
    },
    {
      "cell_type": "code",
      "source": [
        "# 출력 print\n",
        "\n",
        "word = \"He is good, All the time\"\n",
        "print(word)"
      ],
      "metadata": {
        "colab": {
          "base_uri": "https://localhost:8080/"
        },
        "id": "fXOaxbrg0aKz",
        "outputId": "47af25ea-e283-4000-b944-f1cfa940e6fc"
      },
      "execution_count": 39,
      "outputs": [
        {
          "output_type": "stream",
          "name": "stdout",
          "text": [
            "He is good, All the time\n"
          ]
        }
      ]
    },
    {
      "cell_type": "code",
      "source": [
        "who = \"He\"\n",
        "print(who,\"is good, All the time\")"
      ],
      "metadata": {
        "colab": {
          "base_uri": "https://localhost:8080/"
        },
        "id": "Boelkac80t84",
        "outputId": "31eb0cb5-eb38-4e0f-fbf4-c946f13b3bb8"
      },
      "execution_count": 41,
      "outputs": [
        {
          "output_type": "stream",
          "name": "stdout",
          "text": [
            "He is good, All the time\n"
          ]
        }
      ]
    },
    {
      "cell_type": "code",
      "source": [
        "who = \"He\"\n",
        "print(\"%s is good, All the time\" % who)"
      ],
      "metadata": {
        "colab": {
          "base_uri": "https://localhost:8080/"
        },
        "id": "cQxh_P_q1Eta",
        "outputId": "9af6caf5-ffdf-4fff-d584-8e5bf1b3cd69"
      },
      "execution_count": 42,
      "outputs": [
        {
          "output_type": "stream",
          "name": "stdout",
          "text": [
            "He is good, All the time\n"
          ]
        }
      ]
    },
    {
      "cell_type": "code",
      "source": [
        "who = \"He\"\n",
        "print(\"{} is good, All the time\".format(who))"
      ],
      "metadata": {
        "colab": {
          "base_uri": "https://localhost:8080/"
        },
        "id": "9MJx0I6t1Yt8",
        "outputId": "ef8244a2-9309-4d21-af19-5cc6f5e4e180"
      },
      "execution_count": 43,
      "outputs": [
        {
          "output_type": "stream",
          "name": "stdout",
          "text": [
            "He is good, All the time\n"
          ]
        }
      ]
    },
    {
      "cell_type": "code",
      "source": [
        "who = \"He\"\n",
        "print(f'{who} is good, All the time')"
      ],
      "metadata": {
        "colab": {
          "base_uri": "https://localhost:8080/"
        },
        "id": "yrNBX6Ju1q_N",
        "outputId": "3fe4ad8a-7697-43c9-a17f-948ac9074a4c"
      },
      "execution_count": 44,
      "outputs": [
        {
          "output_type": "stream",
          "name": "stdout",
          "text": [
            "He is good, All the time\n"
          ]
        }
      ]
    },
    {
      "cell_type": "code",
      "source": [
        "name = \"Austin\"\n",
        "age = 20\n",
        "\n",
        "#방법 1 기본 출력\n",
        "print (\"안녕하세요. 나의 이름은 Austin이며 나이는 20살 입니다. \")\n",
        "\n",
        "#방법 2 % 포멧터 출력\n",
        "print (\"안녕하세요. 나의 이름은 %s이며 나이는 %s살 입니다. \" % (name, age))\n",
        "\n",
        "#방법 3 format 매서드 출력\n",
        "print (\"안녕하세요. 나의 이름은 {}이며 나이는 {}살 입니다. \".format(name, age))\n",
        "\n",
        "#방법 4\n",
        "print (f\"안녕하세요. 나의 이름은 {name}이며 나이는 {age}살 입니다. \")\n"
      ],
      "metadata": {
        "colab": {
          "base_uri": "https://localhost:8080/"
        },
        "id": "_NoPZ4dW2CbK",
        "outputId": "b75b4378-ecef-4bf7-aee4-454a41bd2005"
      },
      "execution_count": 45,
      "outputs": [
        {
          "output_type": "stream",
          "name": "stdout",
          "text": [
            "안녕하세요. 나의 이름은 Austin이며 나이는 20살 입니다. \n",
            "안녕하세요. 나의 이름은 Austin이며 나이는 20살 입니다. \n",
            "안녕하세요. 나의 이름은 Austin이며 나이는 20살 입니다. \n",
            "안녕하세요. 나의 이름은 Austin이며 나이는 20살 입니다. \n"
          ]
        }
      ]
    }
  ]
}