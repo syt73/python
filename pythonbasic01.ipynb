{
  "nbformat": 4,
  "nbformat_minor": 0,
  "metadata": {
    "colab": {
      "name": "pythonbasic01.ipynb",
      "provenance": [],
      "collapsed_sections": [],
      "authorship_tag": "ABX9TyMx9XCh1/QHg/98UtSNhZC5",
      "include_colab_link": true
    },
    "kernelspec": {
      "name": "python3",
      "display_name": "Python 3"
    },
    "language_info": {
      "name": "python"
    }
  },
  "cells": [
    {
      "cell_type": "markdown",
      "metadata": {
        "id": "view-in-github",
        "colab_type": "text"
      },
      "source": [
        "<a href=\"https://colab.research.google.com/github/syt73/python/blob/main/pythonbasic01.ipynb\" target=\"_parent\"><img src=\"https://colab.research.google.com/assets/colab-badge.svg\" alt=\"Open In Colab\"/></a>"
      ]
    },
    {
      "cell_type": "code",
      "execution_count": null,
      "metadata": {
        "id": "WOvgZek5SvpO"
      },
      "outputs": [],
      "source": [
        ""
      ]
    },
    {
      "cell_type": "code",
      "source": [
        "# 1 기본 - 소개/역사 특징 About Python\n",
        "\n",
        "# 컴피일러  : 자바 C C++\n",
        "# 인터프리터 : 파이썬, R\n",
        "\n",
        "# 파이썬은 영어와 문법이 아주 유사하여 사람이 이해하기 쉽다.\n",
        "# 많은 개발자가 참여하여 무료로 공유하는 코드가 많다.\n",
        "\n",
        "# 창시자 - 귀도반로썸(1956~), 네델란드 구글 -> 드랍박스(클라우드원조) -> 마이크로소프트(2020)\n",
        "\n",
        "# 1. 사용이 쉽다.\n",
        "# 2. 강력하다.\n",
        "# 3. 객체지향언어\n",
        "# 4. 어디에서나 실행된다.\n",
        "# 5. 사용자가 많다.\n",
        "# 6. 무료이다."
      ],
      "metadata": {
        "id": "uMP5-H6lS6p4"
      },
      "execution_count": null,
      "outputs": []
    },
    {
      "cell_type": "code",
      "source": [
        "# 2. 개발환경 - 온라인 Online IDE\n",
        "\n",
        "# *** Colab\n",
        "# Repl\n",
        "# 구름IDE"
      ],
      "metadata": {
        "id": "yslawoFnU0eC"
      },
      "execution_count": null,
      "outputs": []
    },
    {
      "cell_type": "code",
      "source": [
        "# 3. 개발환경 - 오프라인 Offline IDE\n",
        "\n",
        "# FM\n",
        "# 파이썬 -> 파이참(ide)\n",
        "\n",
        "# Mine\n",
        "# Anaconda = 파이썬 + Jupyter Notebook(ide) + a + b + c"
      ],
      "metadata": {
        "id": "mzYmXH8WVVsx"
      },
      "execution_count": null,
      "outputs": []
    },
    {
      "cell_type": "code",
      "source": [
        "# 4. 개발환경 - Hello World\n",
        "\n",
        "print(\"Hello World\")"
      ],
      "metadata": {
        "colab": {
          "base_uri": "https://localhost:8080/"
        },
        "id": "DTzLDhyAcLBC",
        "outputId": "7ee78771-85f4-40eb-b90e-97e050057e83"
      },
      "execution_count": 1,
      "outputs": [
        {
          "output_type": "stream",
          "name": "stdout",
          "text": [
            "Hello World\n"
          ]
        }
      ]
    },
    {
      "cell_type": "code",
      "source": [
        "# 5. 기초 - 주석/변수 Comment/Variable\n",
        "\n",
        "# 자바에서의 주석 // /*   */ 처럼 파이썬에서는 #을 주석 기호로 사용한다.\n",
        "# \"\"\"...\"\"\" 삼중 따옴표로 여러줄 주석 처럼 사용한다, -> docstring\n",
        "\n",
        "\"\"\"\n",
        "프로그램 버전 : 0.1\n",
        "프로그램 작성자 : 이성우\n",
        "프로그램 작성일 : 20022/05/31\n",
        "\"\"\"\n",
        "\n",
        "# 프로그램 버전 : 0.1\n",
        "# 프로그램 작성자 : 이성우\n",
        "# 프로그램 작성일 : 20022/05/31\n",
        "\n",
        "# 구문의 위에 삽입\n",
        "print(\"Hello World\") # 구문 우측에 삽입\n",
        "#구문의 하단의 삽입\n",
        "\n",
        "# 주석의 또다른 용법 : 원래 주석의 기본적인 의미는 코드에 대한 설명이지만\n",
        "#                      주석의 또다른 중요한 용법은 코드의 일부를 일시 정지시키는 용도\n",
        "\n",
        "print(\"Hello\")\n",
        "# print(\"World\") 코드에 주석을 사용하여 임시로 동작을 하지 않게 만드는 작업\n",
        "print(\"Python\")\n",
        "print('Python') # 파이썬에서는 ' ' \" \" 가 완전히 동일하게 사용된다.\n",
        "\n",
        "print(\"Austin's pie\") # 기호로써의 '를 표시하고 싶을때는 \"\"를 사용하여 열고 닫는다.\n",
        "print('Austin\\'s pie')"
      ],
      "metadata": {
        "colab": {
          "base_uri": "https://localhost:8080/"
        },
        "id": "gI-1_5Lsiais",
        "outputId": "08bc060c-b399-49b8-c3f8-37e183cbb01b"
      },
      "execution_count": 9,
      "outputs": [
        {
          "output_type": "stream",
          "name": "stdout",
          "text": [
            "Hello World\n",
            "Hello\n",
            "Python\n",
            "Python\n",
            "Austin's pie\n",
            "Austin's pie\n"
          ]
        }
      ]
    },
    {
      "cell_type": "code",
      "source": [
        "# 변수\n",
        "\n",
        "# 자바나 씨 등의 언어와는 달리 변수를 선언할 때 앞에서 형을 정해주지 않는다.\n",
        "# 선언과 동시에 파이썬이 데이터를 알아서 정수인지 문자열인지 판단을 하여 저장한다,\n",
        "\n",
        "age = 21\n",
        "name = \"홍길동\"\n",
        "\n",
        "age, name = 21, \"홍길동\"\n",
        "\n",
        "# 변수명 선언 방법/규칙\n",
        "# 1. 문자 숫자 _만 사용\n",
        "# 2. 숫자로 시작할수는 없다. A100(o), 100A(x)\n",
        "# 3. 예약어는 사용할 수 없다. print, class,.....\n",
        "# 4. 대소 문자를 구분한다. a = 100, A = 100 별개의 변수\n",
        "# 5. 변수명은 영어로만 만들자 (한글로도 만들수는 있다.)\n"
      ],
      "metadata": {
        "colab": {
          "base_uri": "https://localhost:8080/"
        },
        "id": "OJRzHulIkz0L",
        "outputId": "d12eda22-54a5-4e7f-dcce-2bc4b31caf2c"
      },
      "execution_count": 6,
      "outputs": [
        {
          "output_type": "execute_result",
          "data": {
            "text/plain": [
              "str"
            ]
          },
          "metadata": {},
          "execution_count": 6
        }
      ]
    },
    {
      "cell_type": "code",
      "source": [
        "korea = 63000\n",
        "total = korea * 100\n",
        "print(total)"
      ],
      "metadata": {
        "colab": {
          "base_uri": "https://localhost:8080/"
        },
        "id": "K00AE5hcoJ7c",
        "outputId": "e537f26f-4eba-4f4e-c995-e40ee523bfad"
      },
      "execution_count": 7,
      "outputs": [
        {
          "output_type": "stream",
          "name": "stdout",
          "text": [
            "6300000\n"
          ]
        }
      ]
    },
    {
      "cell_type": "code",
      "source": [
        "# 7. 기초 - 기본 자료형 Data type\n",
        "\n",
        "#숫자형\n",
        "a = 3\n",
        "b = 3.14\n",
        "c = -2\n",
        "\n",
        "type(b)"
      ],
      "metadata": {
        "colab": {
          "base_uri": "https://localhost:8080/"
        },
        "id": "qG-IB49as-3k",
        "outputId": "b1a209d7-c222-41bc-8418-ae95030ebe72"
      },
      "execution_count": 12,
      "outputs": [
        {
          "output_type": "execute_result",
          "data": {
            "text/plain": [
              "float"
            ]
          },
          "metadata": {},
          "execution_count": 12
        }
      ]
    },
    {
      "cell_type": "code",
      "source": [
        "43 / 4"
      ],
      "metadata": {
        "colab": {
          "base_uri": "https://localhost:8080/"
        },
        "id": "YebUKaostYGO",
        "outputId": "48e164c8-2eab-4879-fc73-f2a1b74484e9"
      },
      "execution_count": 13,
      "outputs": [
        {
          "output_type": "execute_result",
          "data": {
            "text/plain": [
              "10.75"
            ]
          },
          "metadata": {},
          "execution_count": 13
        }
      ]
    },
    {
      "cell_type": "code",
      "source": [
        "43 // 4\n",
        "43 % 4"
      ],
      "metadata": {
        "colab": {
          "base_uri": "https://localhost:8080/"
        },
        "id": "d-X011JIteu2",
        "outputId": "48253339-44dc-47ee-d906-129fa35fd5ed"
      },
      "execution_count": 17,
      "outputs": [
        {
          "output_type": "execute_result",
          "data": {
            "text/plain": [
              "3"
            ]
          },
          "metadata": {},
          "execution_count": 17
        }
      ]
    },
    {
      "cell_type": "code",
      "source": [
        "43 % 4 # % 나머지 연산자로 홀수/짝수/배수..를 알아낼 수 있다."
      ],
      "metadata": {
        "colab": {
          "base_uri": "https://localhost:8080/"
        },
        "id": "SlxrxNzythMM",
        "outputId": "2d848d65-9348-4e9b-da18-5d04dbecb986"
      },
      "execution_count": 15,
      "outputs": [
        {
          "output_type": "execute_result",
          "data": {
            "text/plain": [
              "3"
            ]
          },
          "metadata": {},
          "execution_count": 15
        }
      ]
    },
    {
      "cell_type": "code",
      "source": [
        "print(43 % 4)"
      ],
      "metadata": {
        "colab": {
          "base_uri": "https://localhost:8080/"
        },
        "id": "kBN9litqtwlk",
        "outputId": "bb838461-d094-40ff-d746-88bc4ed4a56c"
      },
      "execution_count": 16,
      "outputs": [
        {
          "output_type": "stream",
          "name": "stdout",
          "text": [
            "3\n"
          ]
        }
      ]
    },
    {
      "cell_type": "code",
      "source": [
        "# 불형 bool or boolrean -> True, False    주의 : true false 와는 다르다,\n",
        "1 == 1"
      ],
      "metadata": {
        "colab": {
          "base_uri": "https://localhost:8080/"
        },
        "id": "8chQYvBpupPu",
        "outputId": "775ad1ac-ce88-4076-f321-cb4bdd24e6e7"
      },
      "execution_count": 21,
      "outputs": [
        {
          "output_type": "execute_result",
          "data": {
            "text/plain": [
              "True"
            ]
          },
          "metadata": {},
          "execution_count": 21
        }
      ]
    },
    {
      "cell_type": "code",
      "source": [
        "1 != 1"
      ],
      "metadata": {
        "colab": {
          "base_uri": "https://localhost:8080/"
        },
        "id": "YWPrlg-DvFcG",
        "outputId": "541f62b7-b0e1-4f93-a84e-246ae109ee14"
      },
      "execution_count": 22,
      "outputs": [
        {
          "output_type": "execute_result",
          "data": {
            "text/plain": [
              "False"
            ]
          },
          "metadata": {},
          "execution_count": 22
        }
      ]
    },
    {
      "cell_type": "code",
      "source": [
        "# 문자열...\n",
        "name1 = \"Austin\" # 파이썬에서는 큰 따옴표와\n",
        "name2 = \"austin\" # 작은 떠옴표 모두 문자열을 나타낸다.\n",
        "age = \"30\" # 숫자라도 따옴표가 있으면 문자로 처리된다.\n",
        "age = 30 # 숫자는 따옴표가 없다.\n",
        "\n",
        "# 문자열에서의 인덱싱 - 몇번째 글자 하나\n",
        "words = \"I love you\" # 어떤 문자열에서 글자하나만 추출 -> v\n",
        "print(words[4])\n",
        "\n",
        "# 파이썬에서의 독특한 인덱싱 방법, 마지막 한글자만 추출. 뒷 부터는 -1 부터 센다.\n",
        "print(words[-1])\n",
        "\n",
        "#문자열에서의 슬라이싱 - 글자 여러개\n",
        "words = \"I love you\"\n",
        "print(words[2:6]) #[시작:끝(미만)] [시작:끝(미만):증감치] [start:stop:stop]\n",
        "print(words[2:6:1]) # step은 생략 가능 생략하면 1\n",
        "print(words[:6:1]) # 시작을 생략하면 0부터시작\n",
        "print(words[2::1]) # 킅을 생략하면 마지막까지\n",
        "print(words[::2]) # 하나씩 건너 띄워 인쇄\n",
        "\n",
        "#문자열에서의 인덱싱과 슬라이싱 기법은 그대로 리스트와 튜플에서도 동일하게 사용된다, "
      ],
      "metadata": {
        "colab": {
          "base_uri": "https://localhost:8080/"
        },
        "id": "SDH42brgvIC8",
        "outputId": "49e4fecb-2aa3-4c39-ad96-01836a6fa84e"
      },
      "execution_count": 24,
      "outputs": [
        {
          "output_type": "stream",
          "name": "stdout",
          "text": [
            "v\n",
            "u\n",
            "love\n",
            "love\n",
            "I love\n",
            "love you\n",
            "Ilv o\n"
          ]
        }
      ]
    },
    {
      "cell_type": "code",
      "source": [
        "word=\"LOVE\"\n",
        "print(word[::-1])"
      ],
      "metadata": {
        "colab": {
          "base_uri": "https://localhost:8080/"
        },
        "id": "uNFDXBS2y6Cd",
        "outputId": "64716677-6648-46d6-c131-cc2824d3530f"
      },
      "execution_count": 28,
      "outputs": [
        {
          "output_type": "stream",
          "name": "stdout",
          "text": [
            "EVOL\n"
          ]
        }
      ]
    },
    {
      "cell_type": "code",
      "source": [
        "words = \"He is good. All the time\"\n",
        "print(words[-4::])"
      ],
      "metadata": {
        "colab": {
          "base_uri": "https://localhost:8080/"
        },
        "id": "pZqKZUXczdoW",
        "outputId": "a1ce8e27-afc9-4e4c-f2ae-8611139aee81"
      },
      "execution_count": 32,
      "outputs": [
        {
          "output_type": "stream",
          "name": "stdout",
          "text": [
            "time\n"
          ]
        }
      ]
    },
    {
      "cell_type": "code",
      "source": [
        "# 출력 print\n",
        "words = \"He is good. All the time\"\n",
        "print(words)"
      ],
      "metadata": {
        "colab": {
          "base_uri": "https://localhost:8080/"
        },
        "id": "sb7ri7ND0bil",
        "outputId": "a3575fda-0f23-4f03-dd40-1783b997d875"
      },
      "execution_count": 33,
      "outputs": [
        {
          "output_type": "stream",
          "name": "stdout",
          "text": [
            "He is good. All the time\n"
          ]
        }
      ]
    },
    {
      "cell_type": "code",
      "source": [
        "who = \"He\"\n",
        "print(who,\" is good, All the tinme\")"
      ],
      "metadata": {
        "colab": {
          "base_uri": "https://localhost:8080/"
        },
        "id": "TXtiwwio0un9",
        "outputId": "9ec468e7-9ba6-4b22-b963-1077d0536012"
      },
      "execution_count": 35,
      "outputs": [
        {
          "output_type": "stream",
          "name": "stdout",
          "text": [
            "He  is good, All the tinme\n"
          ]
        }
      ]
    },
    {
      "cell_type": "code",
      "source": [
        "who = \"He\"\n",
        "print(\"%s is good, All the time\" % who)"
      ],
      "metadata": {
        "colab": {
          "base_uri": "https://localhost:8080/"
        },
        "id": "ly5Fgvtn03m8",
        "outputId": "6bf5126f-4604-4cf9-9c5e-66454b8e2837"
      },
      "execution_count": 36,
      "outputs": [
        {
          "output_type": "stream",
          "name": "stdout",
          "text": [
            "He is good, All the time\n"
          ]
        }
      ]
    },
    {
      "cell_type": "code",
      "source": [
        "who = \"He\"\n",
        "print(\"{} is good, All the tinme\".format(who))"
      ],
      "metadata": {
        "colab": {
          "base_uri": "https://localhost:8080/"
        },
        "id": "wd_Zms7F1Y_s",
        "outputId": "d4559b73-6701-4d9a-8a79-a1d656dc20eb"
      },
      "execution_count": 37,
      "outputs": [
        {
          "output_type": "stream",
          "name": "stdout",
          "text": [
            "He is good, All the tinme\n"
          ]
        }
      ]
    },
    {
      "cell_type": "code",
      "source": [
        "who = \"He\"\n",
        "print(f'{who} is good, All the time')"
      ],
      "metadata": {
        "colab": {
          "base_uri": "https://localhost:8080/"
        },
        "id": "GUNd3GgC1mrb",
        "outputId": "6b559ba0-4cbf-405b-b276-7481b760a1fd"
      },
      "execution_count": 38,
      "outputs": [
        {
          "output_type": "stream",
          "name": "stdout",
          "text": [
            "He is good, All the time\n"
          ]
        }
      ]
    }
  ]
}