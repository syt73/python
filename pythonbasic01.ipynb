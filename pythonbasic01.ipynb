{
  "nbformat": 4,
  "nbformat_minor": 0,
  "metadata": {
    "colab": {
      "name": "pythonbasic01.ipynb",
      "provenance": [],
      "collapsed_sections": [],
      "authorship_tag": "ABX9TyN4S173nnjEq1y/uGjmjcUe",
      "include_colab_link": true
    },
    "kernelspec": {
      "name": "python3",
      "display_name": "Python 3"
    },
    "language_info": {
      "name": "python"
    }
  },
  "cells": [
    {
      "cell_type": "markdown",
      "metadata": {
        "id": "view-in-github",
        "colab_type": "text"
      },
      "source": [
        "<a href=\"https://colab.research.google.com/github/syt73/python/blob/main/pythonbasic01.ipynb\" target=\"_parent\"><img src=\"https://colab.research.google.com/assets/colab-badge.svg\" alt=\"Open In Colab\"/></a>"
      ]
    },
    {
      "cell_type": "code",
      "execution_count": null,
      "metadata": {
        "id": "WOvgZek5SvpO"
      },
      "outputs": [],
      "source": [
        ""
      ]
    },
    {
      "cell_type": "code",
      "source": [
        "# 1 기본 - 소개/역사 특징 About Python\n",
        "\n",
        "# 컴피일러  : 자바 C C++\n",
        "# 인터프리터 : 파이썬, R\n",
        "\n",
        "# 파이썬은 영어와 문법이 아주 유사하여 사람이 이해하기 쉽다.\n",
        "# 많은 개발자가 참여하여 무료로 공유하는 코드가 많다.\n",
        "\n",
        "# 창시자 - 귀도반로썸(1956~), 네델란드 구글 -> 드랍박스(클라우드원조) -> 마이크로소프트(2020)\n",
        "\n",
        "# 1. 사용이 쉽다.\n",
        "# 2. 강력하다.\n",
        "# 3. 객체지향언어\n",
        "# 4. 어디에서나 실행된다.\n",
        "# 5. 사용자가 많다.\n",
        "# 6. 무료이다."
      ],
      "metadata": {
        "id": "uMP5-H6lS6p4"
      },
      "execution_count": null,
      "outputs": []
    },
    {
      "cell_type": "code",
      "source": [
        "# 2. 개발환경 - 온라인 Online IDE\n",
        "\n",
        "# *** Colab\n",
        "# Repl\n",
        "# 구름IDE"
      ],
      "metadata": {
        "id": "yslawoFnU0eC"
      },
      "execution_count": null,
      "outputs": []
    },
    {
      "cell_type": "code",
      "source": [
        "# 3. 개발환경 - 오프라인 Offline IDE\n",
        "\n",
        "# FM\n",
        "# 파이썬 -> 파이참(ide)\n",
        "\n",
        "# Mine\n",
        "# Anaconda = 파이썬 + Jupyter Notebook(ide) + a + b + c"
      ],
      "metadata": {
        "id": "mzYmXH8WVVsx"
      },
      "execution_count": null,
      "outputs": []
    },
    {
      "cell_type": "code",
      "source": [
        "# 4. 개발환경 - Hello World\n",
        "\n",
        "print(\"Hello World\")"
      ],
      "metadata": {
        "colab": {
          "base_uri": "https://localhost:8080/"
        },
        "id": "DTzLDhyAcLBC",
        "outputId": "7ee78771-85f4-40eb-b90e-97e050057e83"
      },
      "execution_count": 1,
      "outputs": [
        {
          "output_type": "stream",
          "name": "stdout",
          "text": [
            "Hello World\n"
          ]
        }
      ]
    },
    {
      "cell_type": "code",
      "source": [
        "# 5. 기초 - 주석/변수 Comment/Variable\n",
        "\n",
        "# 자바에서의 주석 // /*   */ 처럼 파이썬에서는 #을 주석 기호로 사용한다.\n",
        "# \"\"\"...\"\"\" 삼중 따옴표로 여러줄 주석 처럼 사용한다, -> docstring\n",
        "\n",
        "\"\"\"\n",
        "프로그램 버전 : 0.1\n",
        "프로그램 작성자 : 이성우\n",
        "프로그램 작성일 : 20022/05/31\n",
        "\"\"\"\n",
        "\n",
        "# 프로그램 버전 : 0.1\n",
        "# 프로그램 작성자 : 이성우\n",
        "# 프로그램 작성일 : 20022/05/31\n",
        "\n",
        "# 구문의 위에 삽입\n",
        "print(\"Hello World\") # 구문 우측에 삽입\n",
        "#구문의 하단의 삽입\n",
        "\n",
        "# 주석의 또다른 용법 : 원래 주석의 기본적인 의미는 코드에 대한 설명이지만\n",
        "#                      주석의 또다른 중요한 용법은 코드의 일부를 일시 정지시키는 용도\n",
        "\n",
        "print(\"Hello\")\n",
        "# print(\"World\") 코드에 주석을 사용하여 임시로 동작을 하지 않게 만드는 작업\n",
        "print(\"Python\")\n",
        "print('Python') # 파이썬에서는 ' ' \" \" 가 완전히 동일하게 사용된다.\n",
        "\n",
        "print(\"Austin's pie\") # 기호로써의 '를 표시하고 싶을때는 \"\"를 사용하여 열고 닫는다.\n",
        "print('Austin\\'s pie')"
      ],
      "metadata": {
        "colab": {
          "base_uri": "https://localhost:8080/"
        },
        "id": "gI-1_5Lsiais",
        "outputId": "08bc060c-b399-49b8-c3f8-37e183cbb01b"
      },
      "execution_count": 9,
      "outputs": [
        {
          "output_type": "stream",
          "name": "stdout",
          "text": [
            "Hello World\n",
            "Hello\n",
            "Python\n",
            "Python\n",
            "Austin's pie\n",
            "Austin's pie\n"
          ]
        }
      ]
    },
    {
      "cell_type": "code",
      "source": [
        "# 변수\n",
        "\n",
        "# 자바나 씨 등의 언어와는 달리 변수를 선언할 때 앞에서 형을 정해주지 않는다.\n",
        "# 선언과 동시에 파이썬이 데이터를 알아서 정수인지 문자열인지 판단을 하여 저장한다,\n",
        "\n",
        "age = 21\n",
        "name = \"홍길동\"\n",
        "\n",
        "age, name = 21, \"홍길동\"\n",
        "\n",
        "# 변수명 선언 방법/규칙\n",
        "# 1. 문자 숫자 _만 사용\n",
        "# 2. 숫자로 시작할수는 없다. A100(o), 100A(x)\n",
        "# 3. 예약어는 사용할 수 없다. print, class,.....\n",
        "# 4. 대소 문자를 구분한다. a = 100, A = 100 별개의 변수\n",
        "# 5. 변수명은 영어로만 만들자 (한글로도 만들수는 있다.)\n"
      ],
      "metadata": {
        "colab": {
          "base_uri": "https://localhost:8080/"
        },
        "id": "OJRzHulIkz0L",
        "outputId": "d12eda22-54a5-4e7f-dcce-2bc4b31caf2c"
      },
      "execution_count": 6,
      "outputs": [
        {
          "output_type": "execute_result",
          "data": {
            "text/plain": [
              "str"
            ]
          },
          "metadata": {},
          "execution_count": 6
        }
      ]
    },
    {
      "cell_type": "code",
      "source": [
        "korea = 63000\n",
        "total = korea * 100\n",
        "print(total)"
      ],
      "metadata": {
        "colab": {
          "base_uri": "https://localhost:8080/"
        },
        "id": "K00AE5hcoJ7c",
        "outputId": "e537f26f-4eba-4f4e-c995-e40ee523bfad"
      },
      "execution_count": 7,
      "outputs": [
        {
          "output_type": "stream",
          "name": "stdout",
          "text": [
            "6300000\n"
          ]
        }
      ]
    }
  ]
}