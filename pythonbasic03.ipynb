{
  "nbformat": 4,
  "nbformat_minor": 0,
  "metadata": {
    "colab": {
      "name": "pythonbasic03.ipynb",
      "provenance": [],
      "collapsed_sections": [],
      "authorship_tag": "ABX9TyN5ORNZ7GtWvzW8ACxPb35C",
      "include_colab_link": true
    },
    "kernelspec": {
      "name": "python3",
      "display_name": "Python 3"
    },
    "language_info": {
      "name": "python"
    }
  },
  "cells": [
    {
      "cell_type": "markdown",
      "metadata": {
        "id": "view-in-github",
        "colab_type": "text"
      },
      "source": [
        "<a href=\"https://colab.research.google.com/github/syt73/python/blob/main/pythonbasic03.ipynb\" target=\"_parent\"><img src=\"https://colab.research.google.com/assets/colab-badge.svg\" alt=\"Open In Colab\"/></a>"
      ]
    },
    {
      "cell_type": "code",
      "execution_count": null,
      "metadata": {
        "id": "fBjpvzBN35zr",
        "colab": {
          "base_uri": "https://localhost:8080/"
        },
        "outputId": "a9cca117-7ee8-4304-de80-86b407d45fff"
      },
      "outputs": [
        {
          "output_type": "stream",
          "name": "stdout",
          "text": [
            "0 i love u\n",
            "1 i love u\n",
            "2 i love u\n",
            "3 i love u\n",
            "4 i love u\n",
            "5 i love u\n",
            "6 i love u\n",
            "7 i love u\n",
            "8 i love u\n",
            "9 i love u\n"
          ]
        }
      ],
      "source": [
        "# 반복문 while for\n",
        "# While\n",
        "# while 조건식:\n",
        "#      수행문\n",
        "# while True:  #무한반복\n",
        "#      print('Hello World')\n",
        "num = 0\n",
        "\n",
        "while num < 10:\n",
        "     print(num, 'i love u')\n",
        "     num += 1   # num = num + 1 자바에서 1씩 증가 num++"
      ]
    },
    {
      "cell_type": "code",
      "source": [
        "coffee = 10\n",
        "money = 300\n",
        "\n",
        "while True:\n",
        "     print(\"커피를 드립니다.\")\n",
        "     coffee -= 1\n",
        "     print (f\"남은 커피는 {coffee}입니다.\")\n",
        "     if coffee == 0:\n",
        "       print(\"커피가 더 이상 없습니다.\")\n",
        "       break # break를 만나는 순간 반복문을 빠져 나간다."
      ],
      "metadata": {
        "colab": {
          "base_uri": "https://localhost:8080/"
        },
        "id": "8uMT8SHFBsCk",
        "outputId": "bf6c87eb-aa60-4722-f82d-f05e17f0f577"
      },
      "execution_count": null,
      "outputs": [
        {
          "output_type": "stream",
          "name": "stdout",
          "text": [
            "커피를 드립니다.\n",
            "남은 커피는 9입니다.\n",
            "커피를 드립니다.\n",
            "남은 커피는 8입니다.\n",
            "커피를 드립니다.\n",
            "남은 커피는 7입니다.\n",
            "커피를 드립니다.\n",
            "남은 커피는 6입니다.\n",
            "커피를 드립니다.\n",
            "남은 커피는 5입니다.\n",
            "커피를 드립니다.\n",
            "남은 커피는 4입니다.\n",
            "커피를 드립니다.\n",
            "남은 커피는 3입니다.\n",
            "커피를 드립니다.\n",
            "남은 커피는 2입니다.\n",
            "커피를 드립니다.\n",
            "남은 커피는 1입니다.\n",
            "커피를 드립니다.\n",
            "남은 커피는 0입니다.\n",
            "커피가 더 이상 없습니다.\n"
          ]
        }
      ]
    },
    {
      "cell_type": "code",
      "source": [
        "num = 0\n",
        "while num < 10:\n",
        "     num += 1\n",
        "     if num % 2 != 0:\n",
        "       print(num) \n"
      ],
      "metadata": {
        "colab": {
          "base_uri": "https://localhost:8080/"
        },
        "id": "9tB3EBKLFPUb",
        "outputId": "e6e18565-32ee-44d3-abc1-738384547514"
      },
      "execution_count": null,
      "outputs": [
        {
          "output_type": "stream",
          "name": "stdout",
          "text": [
            "1\n",
            "3\n",
            "5\n",
            "7\n",
            "9\n"
          ]
        }
      ]
    },
    {
      "cell_type": "code",
      "source": [
        "# for문 주로 반복 회수가 정확할때 사용된다.\n",
        "li = ['1', '2', '3']\n",
        "\n",
        "for i in li:\n",
        "   print(i)"
      ],
      "metadata": {
        "colab": {
          "base_uri": "https://localhost:8080/"
        },
        "id": "J3OJUSK_Hu3X",
        "outputId": "a07a4c87-5690-4933-bc60-c7f6bf0e828c"
      },
      "execution_count": null,
      "outputs": [
        {
          "output_type": "stream",
          "name": "stdout",
          "text": [
            "1\n",
            "2\n",
            "3\n"
          ]
        }
      ]
    },
    {
      "cell_type": "code",
      "source": [
        "a = [(1, 2), (3, 4), (5, 6)]\n",
        "\n",
        "for item1, item2 in a:\n",
        "   print(item1 + item2)"
      ],
      "metadata": {
        "colab": {
          "base_uri": "https://localhost:8080/"
        },
        "id": "j1sM-CWJIcqj",
        "outputId": "c5c28491-4b02-457c-be8d-1f977fa0ff3d"
      },
      "execution_count": null,
      "outputs": [
        {
          "output_type": "stream",
          "name": "stdout",
          "text": [
            "3\n",
            "7\n",
            "11\n"
          ]
        }
      ]
    },
    {
      "cell_type": "code",
      "source": [
        "eng = [90, 80, 90, 70, 60]\n",
        "id = 0\n",
        "\n",
        "for score in eng:\n",
        "   id += 1\n",
        "   if score >= 80:\n",
        "     print(f\"{id}번 학생은 합격입니다\")\n",
        "   else:\n",
        "     print(f\"불합격입니다.\")"
      ],
      "metadata": {
        "colab": {
          "base_uri": "https://localhost:8080/"
        },
        "id": "SPEM3Q3JI8oe",
        "outputId": "7703da71-5d0f-46ca-827e-764c027cb675"
      },
      "execution_count": null,
      "outputs": [
        {
          "output_type": "stream",
          "name": "stdout",
          "text": [
            "합격입니다\n",
            "합격입니다\n",
            "합격입니다\n",
            "불합격입니다.\n",
            "불합격입니다.\n"
          ]
        }
      ]
    },
    {
      "cell_type": "code",
      "source": [
        "eng = [90, 60, 90, 70, 80]\n",
        "id = 0\n",
        "\n",
        "for score in eng:\n",
        "   id += 1\n",
        "   if score >= 80:\n",
        "     print(f\"{id}번 학생은 합격입니다\")\n",
        "   elif score < 80: continue"
      ],
      "metadata": {
        "colab": {
          "base_uri": "https://localhost:8080/"
        },
        "id": "1e3obzjAJyxV",
        "outputId": "4d960aaa-7a1e-424d-b980-43eb2b5f7346"
      },
      "execution_count": null,
      "outputs": [
        {
          "output_type": "stream",
          "name": "stdout",
          "text": [
            "1번 학생은 합격입니다\n",
            "3번 학생은 합격입니다\n",
            "5번 학생은 합격입니다\n"
          ]
        }
      ]
    },
    {
      "cell_type": "code",
      "source": [
        "# for문과 함께 많이 사용되는 range\n",
        "print(range(10)) # 0부터 10 미만까지 (시작, 끝(미만))"
      ],
      "metadata": {
        "colab": {
          "base_uri": "https://localhost:8080/"
        },
        "id": "xkhkV37sLY0x",
        "outputId": "42e40f9a-b127-4ef4-a767-a20363c4ed2d"
      },
      "execution_count": null,
      "outputs": [
        {
          "output_type": "stream",
          "name": "stdout",
          "text": [
            "range(0, 10)\n"
          ]
        }
      ]
    },
    {
      "cell_type": "code",
      "source": [
        "for i in range(10): #시작이 0일경우 생략\n",
        "   print(i)"
      ],
      "metadata": {
        "colab": {
          "base_uri": "https://localhost:8080/"
        },
        "id": "StyLqWzULw_s",
        "outputId": "c97e0185-90f6-4030-b518-0bb9bda6d42c"
      },
      "execution_count": null,
      "outputs": [
        {
          "output_type": "stream",
          "name": "stdout",
          "text": [
            "0\n",
            "1\n",
            "2\n",
            "3\n",
            "4\n",
            "5\n",
            "6\n",
            "7\n",
            "8\n",
            "9\n"
          ]
        }
      ]
    },
    {
      "cell_type": "code",
      "source": [
        "sum = 0\n",
        "for i in range(11): #시작이 0일경우 생략\n",
        "   sum += i\n",
        "print(sum)"
      ],
      "metadata": {
        "colab": {
          "base_uri": "https://localhost:8080/"
        },
        "id": "7_yoJNj8L__y",
        "outputId": "86b4cb92-2ec0-4576-ce80-1f477205a7f8"
      },
      "execution_count": null,
      "outputs": [
        {
          "output_type": "stream",
          "name": "stdout",
          "text": [
            "55\n"
          ]
        }
      ]
    },
    {
      "cell_type": "code",
      "source": [
        "for dan in range(2, 10):  # 2 ~ 9\n",
        "    for i in range(1, 10):  # 1 ~ 9\n",
        "        print(f'{dan} x {i} = {dan * i}', end = \"\\t\") # 옆으로 쭉\n",
        "    print() # 단이 끝때마다 줄바꾸기"
      ],
      "metadata": {
        "colab": {
          "base_uri": "https://localhost:8080/"
        },
        "id": "ocz92lyUMuSc",
        "outputId": "0a56f7eb-6b86-4710-bbfe-bea0b41c2a68"
      },
      "execution_count": null,
      "outputs": [
        {
          "output_type": "stream",
          "name": "stdout",
          "text": [
            "2 x 1 = 2\t2 x 2 = 4\t2 x 3 = 6\t2 x 4 = 8\t2 x 5 = 10\t2 x 6 = 12\t2 x 7 = 14\t2 x 8 = 16\t2 x 9 = 18\t\n",
            "3 x 1 = 3\t3 x 2 = 6\t3 x 3 = 9\t3 x 4 = 12\t3 x 5 = 15\t3 x 6 = 18\t3 x 7 = 21\t3 x 8 = 24\t3 x 9 = 27\t\n",
            "4 x 1 = 4\t4 x 2 = 8\t4 x 3 = 12\t4 x 4 = 16\t4 x 5 = 20\t4 x 6 = 24\t4 x 7 = 28\t4 x 8 = 32\t4 x 9 = 36\t\n",
            "5 x 1 = 5\t5 x 2 = 10\t5 x 3 = 15\t5 x 4 = 20\t5 x 5 = 25\t5 x 6 = 30\t5 x 7 = 35\t5 x 8 = 40\t5 x 9 = 45\t\n",
            "6 x 1 = 6\t6 x 2 = 12\t6 x 3 = 18\t6 x 4 = 24\t6 x 5 = 30\t6 x 6 = 36\t6 x 7 = 42\t6 x 8 = 48\t6 x 9 = 54\t\n",
            "7 x 1 = 7\t7 x 2 = 14\t7 x 3 = 21\t7 x 4 = 28\t7 x 5 = 35\t7 x 6 = 42\t7 x 7 = 49\t7 x 8 = 56\t7 x 9 = 63\t\n",
            "8 x 1 = 8\t8 x 2 = 16\t8 x 3 = 24\t8 x 4 = 32\t8 x 5 = 40\t8 x 6 = 48\t8 x 7 = 56\t8 x 8 = 64\t8 x 9 = 72\t\n",
            "9 x 1 = 9\t9 x 2 = 18\t9 x 3 = 27\t9 x 4 = 36\t9 x 5 = 45\t9 x 6 = 54\t9 x 7 = 63\t9 x 8 = 72\t9 x 9 = 81\t\n"
          ]
        }
      ]
    },
    {
      "cell_type": "code",
      "source": [
        "sum = 0\n",
        "num = 1\n",
        "\n",
        "while num < 1000:\n",
        "     if num % 3 == 0:\n",
        "       sum += num\n",
        "     num += 1\n",
        "print(sum)"
      ],
      "metadata": {
        "colab": {
          "base_uri": "https://localhost:8080/"
        },
        "id": "hsZaj2XdSu3x",
        "outputId": "36bb3755-4a55-4323-f612-60be34be20b0"
      },
      "execution_count": null,
      "outputs": [
        {
          "output_type": "stream",
          "name": "stdout",
          "text": [
            "166833\n"
          ]
        }
      ]
    },
    {
      "cell_type": "code",
      "source": [
        "i = 0\n",
        "while True:\n",
        "    i += 1\n",
        "    if i > 5: break\n",
        "    print('*' * i)"
      ],
      "metadata": {
        "colab": {
          "base_uri": "https://localhost:8080/"
        },
        "id": "OO8IYhj3UWvw",
        "outputId": "97aa1ea2-795b-4d9e-a7c7-92bd84512c6b"
      },
      "execution_count": null,
      "outputs": [
        {
          "output_type": "stream",
          "name": "stdout",
          "text": [
            "*\n",
            "**\n",
            "***\n",
            "****\n",
            "*****\n"
          ]
        }
      ]
    },
    {
      "cell_type": "code",
      "source": [
        "# 리스트 내포 (list comprehension)\n",
        "a = [1, 2, 3, 4]\n",
        "result = []\n",
        "\n",
        "for num in a:\n",
        "   result.append(num * 3)\n",
        "print(result)\n",
        "\n",
        "result2 = [num * 3 for num in a]\n",
        "print(result2)\n",
        "\n",
        "# 조건식 까지 추가 가능\n",
        "result3 = [num * 3 for num in a if num % 2 == 0]\n",
        "print(result3)"
      ],
      "metadata": {
        "colab": {
          "base_uri": "https://localhost:8080/"
        },
        "id": "FzHNWhD_VwnR",
        "outputId": "4358ee37-3d4e-4eba-b098-a429cf9dc51b"
      },
      "execution_count": null,
      "outputs": [
        {
          "output_type": "stream",
          "name": "stdout",
          "text": [
            "[3, 6, 9, 12]\n",
            "[3, 6, 9, 12]\n",
            "[6, 12]\n"
          ]
        }
      ]
    },
    {
      "cell_type": "code",
      "source": [
        "num = [1, 2, 3, 4, 5]\n",
        "\n",
        "result = [num * 3 for num in a if num % 2 != 0]\n",
        "print(result)"
      ],
      "metadata": {
        "colab": {
          "base_uri": "https://localhost:8080/"
        },
        "id": "QIs-wVFuXpAW",
        "outputId": "ec557531-fd88-4910-c7b8-10071db1de9d"
      },
      "execution_count": null,
      "outputs": [
        {
          "output_type": "stream",
          "name": "stdout",
          "text": [
            "[3, 9]\n"
          ]
        }
      ]
    },
    {
      "cell_type": "code",
      "source": [
        "i = 6\n",
        "while True:\n",
        "    i -= 1\n",
        "    if i < 1: break\n",
        "    print('*' * i)"
      ],
      "metadata": {
        "colab": {
          "base_uri": "https://localhost:8080/"
        },
        "id": "17HBMMRDYj4t",
        "outputId": "2f72a3d5-8231-4245-ce31-31b2b7d8b47d"
      },
      "execution_count": null,
      "outputs": [
        {
          "output_type": "stream",
          "name": "stdout",
          "text": [
            "*****\n",
            "****\n",
            "***\n",
            "**\n",
            "*\n"
          ]
        }
      ]
    },
    {
      "cell_type": "code",
      "source": [
        "for i in range(5, 0, -1):  \n",
        "    for j in range(1, i + 1): \n",
        "        print('*', end = \"\") \n",
        "    print() "
      ],
      "metadata": {
        "colab": {
          "base_uri": "https://localhost:8080/"
        },
        "id": "-y9PgFi6ZKgb",
        "outputId": "c94343c3-9e5f-40b8-99dd-1b734c6487b3"
      },
      "execution_count": null,
      "outputs": [
        {
          "output_type": "stream",
          "name": "stdout",
          "text": [
            "*****\n",
            "****\n",
            "***\n",
            "**\n",
            "*\n"
          ]
        }
      ]
    },
    {
      "cell_type": "code",
      "source": [
        "s = int(input(\"줄의 갯수를 입력하세요\"))\n",
        "for i in range(1, s + 1):  \n",
        "    for j in range(1, i + 1): \n",
        "        print('*', end = \"\") \n",
        "    print() "
      ],
      "metadata": {
        "colab": {
          "base_uri": "https://localhost:8080/"
        },
        "id": "8So9iPqbaTDY",
        "outputId": "4481de76-2f12-454f-e738-2f7e36c02b1f"
      },
      "execution_count": null,
      "outputs": [
        {
          "output_type": "stream",
          "name": "stdout",
          "text": [
            "줄의 갯수를 입력하세요5\n",
            "*\n",
            "**\n",
            "***\n",
            "****\n",
            "*****\n"
          ]
        }
      ]
    },
    {
      "cell_type": "code",
      "source": [
        "s = int(input(\"줄의 갯수를 입력하세요\"))\n",
        "for n in range(1, s + 1):\n",
        "   print(' '*(10-n) + '*' *(2 * n - 1))"
      ],
      "metadata": {
        "colab": {
          "base_uri": "https://localhost:8080/"
        },
        "id": "GfysfMPhaidF",
        "outputId": "b5023d10-7c7e-4239-9c8d-9174d09540d9"
      },
      "execution_count": null,
      "outputs": [
        {
          "output_type": "stream",
          "name": "stdout",
          "text": [
            "줄의 갯수를 입력하세요5\n",
            "         *\n",
            "        ***\n",
            "       *****\n",
            "      *******\n",
            "     *********\n"
          ]
        }
      ]
    },
    {
      "cell_type": "code",
      "source": [
        "# 함수 (클래스 밖에서는 함수 클래스 안에서는 메서드)\n",
        "# 바나나 -> 믹서기 -> 바나나 주스\n",
        "#사과    ->        -> 사과 주스\n",
        "# def 함수이름(매개변수):\n",
        "#  수행 문장\n",
        "#  수행 문장\n",
        "# 1. 입력이 있고 리턴이 있는 함수\n",
        "# def add(a, b):\n",
        "#   return a + b\n",
        "\n",
        "# print(add(3, 4))\n",
        "\n",
        "# 2. 입력이 없고 리턴도 없는 함수\n",
        "# def a():\n",
        "#    print('입력이 없고 리턴도 없는 함수')\n",
        "\n",
        "# a()\n",
        "\n",
        "# 3. 입력이 있고 리턴이 없는 함수\n",
        "# def b(name):\n",
        "#    print(name, '님 환영합니다')\n",
        "\n",
        "# b('어스틴')\n",
        "\n",
        "# 4. 입력이 없고 리턴은 없는 함수\n",
        "def c():\n",
        "   print('Hi')\n",
        "\n",
        "c()"
      ],
      "metadata": {
        "colab": {
          "base_uri": "https://localhost:8080/"
        },
        "id": "mDgSHFUvvn_0",
        "outputId": "71611167-c6b5-4d6b-b0f5-b69313b0843a"
      },
      "execution_count": 46,
      "outputs": [
        {
          "output_type": "stream",
          "name": "stdout",
          "text": [
            "Hi\n"
          ]
        }
      ]
    },
    {
      "cell_type": "code",
      "source": [
        "def add(a, b):\n",
        "  return a + b\n",
        "\n",
        "print(add(3, 4))\n",
        "\n",
        "def add(a, b, c):\n",
        "  return a + b + c\n",
        "\n",
        "print(add(3, 4, 5))\n",
        "\n",
        "def add(a, b, c, d):\n",
        "  return a + b + c + d\n",
        "\n",
        "print(add(3, 4, 5, 6))"
      ],
      "metadata": {
        "id": "8FExkaHwzuji"
      },
      "execution_count": null,
      "outputs": []
    },
    {
      "cell_type": "code",
      "source": [
        "def add_many(*args): # 입력된 값들을 모두 전부 모아서 튜플로 만들어 준다. 가변 매개변수\n",
        "   sum = 0\n",
        "   for i in args:\n",
        "      sum += i\n",
        "   \n",
        "   return sum\n",
        "\n",
        "print(add_many(2, 3, 5))\n",
        "print(add_many(2, 3, 5, 1, 2))"
      ],
      "metadata": {
        "colab": {
          "base_uri": "https://localhost:8080/"
        },
        "id": "bvPUUzMD0aUr",
        "outputId": "5ef2c5c3-133d-4301-f80c-a34072a200a9"
      },
      "execution_count": 49,
      "outputs": [
        {
          "output_type": "stream",
          "name": "stdout",
          "text": [
            "10\n",
            "13\n"
          ]
        }
      ]
    },
    {
      "cell_type": "code",
      "source": [
        "# 변수의 영향 범위\n",
        "#지역변수(***)와 전역변수\n",
        "a = 1 # a변수가 함수 밖에서 선언이 되었다. 전역 변수\n",
        "\n",
        "def vartest(a): # 함수 안에서의 는 함수 밖에서의 와는 완전히 다른 변수이다.\n",
        "   a += 1\n",
        "\n",
        "\n",
        "print(vartest(a)) # ? 2 이 None 이 나온 이유는 return이 없기 때무ㅠㄴ에 가지고 나오는 값이 없다\n",
        "print(a)          # 1 전역 변수값 a = 1이 출력되었다"
      ],
      "metadata": {
        "colab": {
          "base_uri": "https://localhost:8080/"
        },
        "id": "Jf9JrIHe1pJd",
        "outputId": "f7934ed0-e120-4167-8b43-51d2d2dedaf7"
      },
      "execution_count": 50,
      "outputs": [
        {
          "output_type": "stream",
          "name": "stdout",
          "text": [
            "None\n",
            "1\n"
          ]
        }
      ]
    },
    {
      "cell_type": "code",
      "source": [
        "a = 1\n",
        "\n",
        "def vartest(a):\n",
        "   a += 1\n",
        "   return a\n",
        "\n",
        "print(vartest(a))\n",
        "print(a)"
      ],
      "metadata": {
        "colab": {
          "base_uri": "https://localhost:8080/"
        },
        "id": "M0UzZSJB3rnm",
        "outputId": "2db89314-b376-44f7-ff84-8f23c83cc9a1"
      },
      "execution_count": 51,
      "outputs": [
        {
          "output_type": "stream",
          "name": "stdout",
          "text": [
            "2\n",
            "1\n"
          ]
        }
      ]
    },
    {
      "cell_type": "code",
      "source": [
        "# 클래스 정의\n",
        "class Calculator:\n",
        "     def __init__(self): #더블 언더스코어 -> '던더'\n",
        "        self.result = 0  # 생성자 constructor 객체를 생성할 때 자동 호출이 실행된다.\n",
        "\n",
        "     def add(self, num): # 함수를 클래스 안에서 구현하면 메서드, 그 메서드를 객체가 호출하여 사용한다.\n",
        "        self.result += num\n",
        "        return self.result;        # 메서드의 매개변수 첫 번째에 self를 사용하여 그 자리에는 객체명이 오게 된다.\n",
        "\n",
        "# 객체 생성\n",
        "cal1 = Calculator() # 객체를 생성할 때 생성자가 호출되어 xal1.result = 0으로 초기화 된다.\n",
        "cal2 = Calculator()\n",
        "cal3 = Calculator()\n",
        "\n",
        "# 메서드호출\n",
        "print(cal1.add(4))\n",
        "print(cal2.add(7))\n",
        "print(cal3.add(9))"
      ],
      "metadata": {
        "colab": {
          "base_uri": "https://localhost:8080/"
        },
        "id": "t7oXRvLl76gS",
        "outputId": "9a418112-af5f-4910-c097-b1484d126d3b"
      },
      "execution_count": 53,
      "outputs": [
        {
          "output_type": "stream",
          "name": "stdout",
          "text": [
            "4\n",
            "7\n",
            "9\n"
          ]
        }
      ]
    },
    {
      "cell_type": "code",
      "source": [
        "print(cal1.add(4))\n",
        "print(cal2.add(7))\n",
        "print(cal3.add(9))"
      ],
      "metadata": {
        "colab": {
          "base_uri": "https://localhost:8080/"
        },
        "id": "gULOxUV1_3QV",
        "outputId": "fc63f801-3803-4f2f-8f45-a6c2217a9e1c"
      },
      "execution_count": 54,
      "outputs": [
        {
          "output_type": "stream",
          "name": "stdout",
          "text": [
            "8\n",
            "14\n",
            "18\n"
          ]
        }
      ]
    },
    {
      "cell_type": "code",
      "source": [
        "cal1.add(2)"
      ],
      "metadata": {
        "colab": {
          "base_uri": "https://localhost:8080/"
        },
        "id": "zyIz7GWp_5qC",
        "outputId": "63da9e26-89a9-4b7d-975e-e60e09d27343"
      },
      "execution_count": 55,
      "outputs": [
        {
          "output_type": "execute_result",
          "data": {
            "text/plain": [
              "10"
            ]
          },
          "metadata": {},
          "execution_count": 55
        }
      ]
    },
    {
      "cell_type": "code",
      "source": [
        "# 객체와 인스턴스의 차이\n",
        "# 클래스로 만든 객체를 인스턴스라고도 한다. 그려면 객체와 인스턴스의 차이는 무엇일까...\n",
        "# a = Cal() 이렇게 만든 a는 객체이다\n",
        "# a는 Cal() 클래스로 만든 인스턴스이다\n",
        "# 즉, 인스턴스라는 표현은 객체가 어떤 클래스로 만든 건지를 관계 위주로 설명할때 사용한다.\n",
        "# 다시한번 표현하면 'a는 인스턴스'보다는 'a는 객체다'라는 표현이 더 어울리며\n",
        "# 'a는 Cal 클래스의 객체다'라는 표현보다는 'a는 Cal클래스의 인스턴스다'라는 표현이 더 적절하다."
      ],
      "metadata": {
        "id": "-CTtMjH9_-t4"
      },
      "execution_count": null,
      "outputs": []
    },
    {
      "cell_type": "code",
      "source": [
        "class FourCal:\n",
        "     def __init__(self, first, second): # 생성자 : 객체 생성시 자동 실행\n",
        "        self.first = first\n",
        "        self.second = second\n",
        "#  def setdata(self, first, second): # 객체별 변수 선언 메서드\n",
        "#     self.first = first\n",
        "#     self.second = second\n",
        "\n",
        "     def add(self):\n",
        "         result = self.first + self.second\n",
        "         return result\n",
        "    \n",
        "     def sub(self):\n",
        "         result = self.first - self.second\n",
        "         return result\n",
        "\n",
        "     def mul(self):\n",
        "         result = self.first * self.second\n",
        "         return result\n",
        "\n",
        "     def div(self):\n",
        "         result = self.first / self.second\n",
        "         return result\n",
        "\n",
        "a = FourCal(4, 2)\n",
        "b = FourCal(3, 5)\n",
        "\n",
        "# a.setdata(4, 2)\n",
        "# b.setdata(3, 5)\n",
        "\n",
        "\n",
        "b.add()\n",
        "\n",
        "# 객체마다 다른 고유의 변수값을 각각 따로 유지하게 된다."
      ],
      "metadata": {
        "colab": {
          "base_uri": "https://localhost:8080/"
        },
        "id": "D4XBOw13BnmX",
        "outputId": "9b60d7d9-d51f-41a8-a9ad-ad5a2e5b9853"
      },
      "execution_count": 62,
      "outputs": [
        {
          "output_type": "stream",
          "name": "stdout",
          "text": [
            "4 2\n",
            "3 5\n"
          ]
        },
        {
          "output_type": "execute_result",
          "data": {
            "text/plain": [
              "0.6"
            ]
          },
          "metadata": {},
          "execution_count": 62
        }
      ]
    },
    {
      "cell_type": "code",
      "source": [
        "# 상속 inheritance 자바에서는 다중상속을 지원하지 않는다. 파이썬은 다중상속 지원\n",
        "# 상속은기존 클래스를 변경하지 않고 기능을 추가하거나 기존 기능을 변경할 때 사용한다.\n",
        "class MoreFourCal(FourCal):\n",
        "     pass\n",
        "\n",
        "c = MoreFourCal(4, 2)\n",
        "\n",
        "c.add()"
      ],
      "metadata": {
        "colab": {
          "base_uri": "https://localhost:8080/"
        },
        "id": "kjKQIkJiGEob",
        "outputId": "88c40258-4439-4291-ed78-6146208914b4"
      },
      "execution_count": 65,
      "outputs": [
        {
          "output_type": "execute_result",
          "data": {
            "text/plain": [
              "2.0"
            ]
          },
          "metadata": {},
          "execution_count": 65
        }
      ]
    },
    {
      "cell_type": "code",
      "source": [
        "a = FourCal(4, 0)\n",
        "a.div()"
      ],
      "metadata": {
        "colab": {
          "base_uri": "https://localhost:8080/",
          "height": 193
        },
        "id": "PnPFqMvDLOV_",
        "outputId": "673e6998-447d-435a-9bfc-e3657aeb2cb2"
      },
      "execution_count": 66,
      "outputs": [
        {
          "output_type": "error",
          "ename": "AttributeError",
          "evalue": "ignored",
          "traceback": [
            "\u001b[0;31m---------------------------------------------------------------------------\u001b[0m",
            "\u001b[0;31mAttributeError\u001b[0m                            Traceback (most recent call last)",
            "\u001b[0;32m<ipython-input-66-5e9b2f546e11>\u001b[0m in \u001b[0;36m<module>\u001b[0;34m()\u001b[0m\n\u001b[1;32m      1\u001b[0m \u001b[0ma\u001b[0m \u001b[0;34m=\u001b[0m \u001b[0mFourCal\u001b[0m\u001b[0;34m(\u001b[0m\u001b[0;36m4\u001b[0m\u001b[0;34m,\u001b[0m \u001b[0;36m0\u001b[0m\u001b[0;34m)\u001b[0m\u001b[0;34m\u001b[0m\u001b[0;34m\u001b[0m\u001b[0m\n\u001b[0;32m----> 2\u001b[0;31m \u001b[0ma\u001b[0m\u001b[0;34m.\u001b[0m\u001b[0mdiv\u001b[0m\u001b[0;34m(\u001b[0m\u001b[0;34m)\u001b[0m\u001b[0;34m\u001b[0m\u001b[0;34m\u001b[0m\u001b[0m\n\u001b[0m",
            "\u001b[0;31mAttributeError\u001b[0m: 'FourCal' object has no attribute 'div'"
          ]
        }
      ]
    },
    {
      "cell_type": "code",
      "source": [
        "class SafeFourCal(FourCal):\n",
        "     def div(self):\n",
        "        if self.second == 0:\n",
        "          return 0\n",
        "        else:\n",
        "          return self.first / self.second"
      ],
      "metadata": {
        "id": "jfF8LSCMLdEm"
      },
      "execution_count": 67,
      "outputs": []
    },
    {
      "cell_type": "code",
      "source": [
        "a = SafeFourCal(4, 2)\n",
        "a.div() #FourCal 클래스를 상속한 SafeFourCal클래스의 div가 호출되어, 즉 자식의 메서드가 호출"
      ],
      "metadata": {
        "colab": {
          "base_uri": "https://localhost:8080/"
        },
        "id": "NvGf8CbqL_NG",
        "outputId": "2cd7df11-fb31-4d6f-a31f-abe331106b2f"
      },
      "execution_count": 69,
      "outputs": [
        {
          "output_type": "execute_result",
          "data": {
            "text/plain": [
              "2.0"
            ]
          },
          "metadata": {},
          "execution_count": 69
        }
      ]
    },
    {
      "cell_type": "code",
      "source": [
        "# 클래스 변수\n",
        "#객체 변수는 다른 객체들에 영향을 받지 않고 독ㄹ힙적으로 그 값을 유지한다. (객체지향의 핵심)\n",
        "class Family:\n",
        "     lastname = \"김\"  # 클래스 변수\n",
        "\n",
        "a = Family()   # 객체를 생성\n",
        "print(a.lastname)     # 객체를 통해서 변수 접근 (메서드 접근)\n",
        "\n",
        "b = Family()\n",
        "print(b.lastname)\n",
        "\n",
        "print(Family.lastname)   # 클래스 변수는 객체를 생성하지 않고도 클래스명.변수명 으로 접근 가능"
      ],
      "metadata": {
        "colab": {
          "base_uri": "https://localhost:8080/"
        },
        "id": "96arapIOMvf-",
        "outputId": "31a403a3-5897-4895-cece-dc542a13c23e"
      },
      "execution_count": 73,
      "outputs": [
        {
          "output_type": "stream",
          "name": "stdout",
          "text": [
            "김\n",
            "김\n",
            "김\n"
          ]
        }
      ]
    },
    {
      "cell_type": "code",
      "source": [
        "Family.lastname = \"최\"\n",
        "\n",
        "print(a.lastname)\n",
        "print(b.lastname)"
      ],
      "metadata": {
        "colab": {
          "base_uri": "https://localhost:8080/"
        },
        "id": "t4mFHAx7Ohle",
        "outputId": "9831d422-147b-4bf2-da82-2ad259188740"
      },
      "execution_count": 74,
      "outputs": [
        {
          "output_type": "stream",
          "name": "stdout",
          "text": [
            "최\n",
            "최\n"
          ]
        }
      ]
    }
  ]
}