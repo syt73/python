{
  "nbformat": 4,
  "nbformat_minor": 0,
  "metadata": {
    "colab": {
      "name": "pythonbasic03.ipynb",
      "provenance": [],
      "authorship_tag": "ABX9TyNhk9rokTnBCLll4slzoRSC",
      "include_colab_link": true
    },
    "kernelspec": {
      "name": "python3",
      "display_name": "Python 3"
    },
    "language_info": {
      "name": "python"
    }
  },
  "cells": [
    {
      "cell_type": "markdown",
      "metadata": {
        "id": "view-in-github",
        "colab_type": "text"
      },
      "source": [
        "<a href=\"https://colab.research.google.com/github/keunsooyoon/python202206/blob/main/pythonbasic03.ipynb\" target=\"_parent\"><img src=\"https://colab.research.google.com/assets/colab-badge.svg\" alt=\"Open In Colab\"/></a>"
      ]
    },
    {
      "cell_type": "code",
      "execution_count": 4,
      "metadata": {
        "colab": {
          "base_uri": "https://localhost:8080/"
        },
        "id": "bl59qUEC-yuk",
        "outputId": "ed8a7e81-46ab-4040-b896-b063de7914ba"
      },
      "outputs": [
        {
          "output_type": "stream",
          "name": "stdout",
          "text": [
            "0 i love u\n",
            "1 i love u\n",
            "2 i love u\n",
            "3 i love u\n",
            "4 i love u\n",
            "5 i love u\n",
            "6 i love u\n",
            "7 i love u\n",
            "8 i love u\n",
            "9 i love u\n"
          ]
        }
      ],
      "source": [
        "# 반복문 while for\n",
        "\n",
        "# While\n",
        "\n",
        "# while 조건식:\n",
        "#   수행문\n",
        "\n",
        "# while True:   # 무한반복\n",
        "#   print('Hello World')\n",
        "\n",
        "num = 0\n",
        "\n",
        "while num < 10:\n",
        "  print(num, 'i love u')\n",
        "  num += 1    # num = num + 1      자바에서 1개 증가 num++   "
      ]
    },
    {
      "cell_type": "code",
      "source": [
        "coffee = 10\n",
        "\n",
        "while True:\n",
        "  print(\"커피를 드립니다.\")\n",
        "  coffee = coffee -1\n",
        "  print(f\"남은 커피는 {coffee}입니다.\")\n",
        "  if coffee == 0:\n",
        "    print(\"커피가 더이상 없습니다.\")\n",
        "    break    # break 를 만나는 순간 반복문을 빠져 나간다. \n"
      ],
      "metadata": {
        "colab": {
          "base_uri": "https://localhost:8080/"
        },
        "id": "C9lfnxIfBqEo",
        "outputId": "8852f3b5-0445-41c3-cf46-7da358590d0e"
      },
      "execution_count": 6,
      "outputs": [
        {
          "output_type": "stream",
          "name": "stdout",
          "text": [
            "커피를 드립니다.\n",
            "남은 커피는 9입니다.\n",
            "커피를 드립니다.\n",
            "남은 커피는 8입니다.\n",
            "커피를 드립니다.\n",
            "남은 커피는 7입니다.\n",
            "커피를 드립니다.\n",
            "남은 커피는 6입니다.\n",
            "커피를 드립니다.\n",
            "남은 커피는 5입니다.\n",
            "커피를 드립니다.\n",
            "남은 커피는 4입니다.\n",
            "커피를 드립니다.\n",
            "남은 커피는 3입니다.\n",
            "커피를 드립니다.\n",
            "남은 커피는 2입니다.\n",
            "커피를 드립니다.\n",
            "남은 커피는 1입니다.\n",
            "커피를 드립니다.\n",
            "남은 커피는 0입니다.\n",
            "커피가 더이상 없습니다.\n"
          ]
        }
      ]
    },
    {
      "cell_type": "code",
      "source": [
        "# 1부터 10까지 숫자 중 홀수만 출력하세요\n",
        "\n",
        "# by 장서영\n",
        "num = 1\n",
        "\n",
        "while True:\n",
        "  print(num)\n",
        "  num = num + 2\n",
        "  if (num > 10):\n",
        "    break;  # break  를 만나면 반복문을 빠져 나간다. \n",
        "\n",
        "a = 0\n",
        "\n",
        "while a < 10:\n",
        "  a += 1\n",
        "  if a % 2 == 0:continue   # continue 를 만나면 바로 반복문으로 다시 들어간다. \n",
        "  print(a)\n",
        "\n",
        "# by 이성우\n",
        "num = 0\n",
        "while num < 10:\n",
        "     num += 1\n",
        "     if num % 2 != 0:\n",
        "       print(num)\n"
      ],
      "metadata": {
        "colab": {
          "base_uri": "https://localhost:8080/"
        },
        "id": "j1nzh-wHFJLH",
        "outputId": "1689dc69-f158-44a7-f06d-88a3d7a3d4e5"
      },
      "execution_count": 11,
      "outputs": [
        {
          "output_type": "stream",
          "name": "stdout",
          "text": [
            "1\n",
            "3\n",
            "5\n",
            "7\n",
            "9\n",
            "1\n",
            "3\n",
            "5\n",
            "7\n",
            "9\n",
            "1\n",
            "3\n",
            "5\n",
            "7\n",
            "9\n"
          ]
        }
      ]
    },
    {
      "cell_type": "code",
      "source": [
        "# for문 주로 반복 회수가 정확할때 사용된다. \n",
        "\n",
        "li = ['1','2','3']\n",
        "\n",
        "for i in li:\n",
        "  print(i)"
      ],
      "metadata": {
        "colab": {
          "base_uri": "https://localhost:8080/"
        },
        "id": "0n4HQNKwH0iZ",
        "outputId": "c3f9587c-4868-4974-99e8-392fe2eed5ba"
      },
      "execution_count": 12,
      "outputs": [
        {
          "output_type": "stream",
          "name": "stdout",
          "text": [
            "1\n",
            "2\n",
            "3\n"
          ]
        }
      ]
    },
    {
      "cell_type": "code",
      "source": [
        "a = [(1,2),(3,4),(5,6)]\n",
        "\n",
        "for item1, item2 in a:\n",
        "  print(item1 + item2)"
      ],
      "metadata": {
        "colab": {
          "base_uri": "https://localhost:8080/"
        },
        "id": "-I1wOPL2IaKs",
        "outputId": "56d98273-3eb7-4107-cc26-bc645522b66c"
      },
      "execution_count": 13,
      "outputs": [
        {
          "output_type": "stream",
          "name": "stdout",
          "text": [
            "3\n",
            "7\n",
            "11\n"
          ]
        }
      ]
    },
    {
      "cell_type": "code",
      "source": [
        "eng = [90,60,90,70,80]\n",
        "id = 0\n",
        "for score in eng:\n",
        "  id += 1\n",
        "  if score >= 80:\n",
        "    print(f'{id}번 학생은 합격입니다.')\n",
        "  else:\n",
        "    print(f'{id}번 학생은 불합격입니다.')"
      ],
      "metadata": {
        "colab": {
          "base_uri": "https://localhost:8080/"
        },
        "id": "VCk0xs2gI6dQ",
        "outputId": "eac2024f-0f0a-43c8-b63e-e2cf596ae6e1"
      },
      "execution_count": 16,
      "outputs": [
        {
          "output_type": "stream",
          "name": "stdout",
          "text": [
            "1번 학생은 합격입니다.\n",
            "2번 학생은 불합격입니다.\n",
            "3번 학생은 합격입니다.\n",
            "4번 학생은 불합격입니다.\n",
            "5번 학생은 합격입니다.\n"
          ]
        }
      ]
    },
    {
      "cell_type": "code",
      "source": [
        "eng = [90, 60, 90, 70, 80]\n",
        "id = 0\n",
        "# by 이성우\n",
        "for score in eng:\n",
        "   id += 1\n",
        "   if score >= 80:\n",
        "     print(f\"{id}번 학생은 합격입니다\")\n",
        "   else:\n",
        "     continue\n",
        "\n",
        "# by 장서영   \n",
        "id = 0  \n",
        "for score in eng : \n",
        "  id += 1\n",
        "  if score < 80: continue\n",
        "  print(f\"{id} 번 학생은 합격입니다.\")\n"
      ],
      "metadata": {
        "colab": {
          "base_uri": "https://localhost:8080/"
        },
        "id": "4qPMWh3EJvY8",
        "outputId": "8f576ff5-0346-4b86-d5cc-653e614a4420"
      },
      "execution_count": 20,
      "outputs": [
        {
          "output_type": "stream",
          "name": "stdout",
          "text": [
            "1번 학생은 합격입니다\n",
            "3번 학생은 합격입니다\n",
            "5번 학생은 합격입니다\n",
            "1 번 학생은 합격입니다.\n",
            "3 번 학생은 합격입니다.\n",
            "5 번 학생은 합격입니다.\n"
          ]
        }
      ]
    },
    {
      "cell_type": "code",
      "source": [
        "# for 문과 함께 많이 사용되는 range\n",
        "\n",
        "print(range(10))  # 0부터 10 미만까지 (시작, 끝(미만))"
      ],
      "metadata": {
        "colab": {
          "base_uri": "https://localhost:8080/"
        },
        "id": "jWW--A2zLLv9",
        "outputId": "a7ba9aa8-a41d-4ec8-9d66-177a629c8810"
      },
      "execution_count": 22,
      "outputs": [
        {
          "output_type": "stream",
          "name": "stdout",
          "text": [
            "range(0, 10)\n"
          ]
        }
      ]
    },
    {
      "cell_type": "code",
      "source": [
        "for i in range(10):  #시작이 0일경우 생략\n",
        "  print(i)"
      ],
      "metadata": {
        "colab": {
          "base_uri": "https://localhost:8080/"
        },
        "id": "yqpVGaO6Lq_T",
        "outputId": "27109775-7f47-42d4-c43b-f9a7b0d04a00"
      },
      "execution_count": 25,
      "outputs": [
        {
          "output_type": "stream",
          "name": "stdout",
          "text": [
            "0\n",
            "1\n",
            "2\n",
            "3\n",
            "4\n",
            "5\n",
            "6\n",
            "7\n",
            "8\n",
            "9\n"
          ]
        }
      ]
    },
    {
      "cell_type": "code",
      "source": [
        "# 0부터 10까지 의 합을 계산하세요\n",
        "\n",
        "# by 이성우\n",
        "\n",
        "sum = 0\n",
        "for i in range(11): #시작이 0일경우 생략\n",
        "   sum += i\n",
        "print(sum)\n"
      ],
      "metadata": {
        "colab": {
          "base_uri": "https://localhost:8080/"
        },
        "id": "P0gnlXOTL8-N",
        "outputId": "53b9cf79-0c39-4425-fbc6-d5754ad09f53"
      },
      "execution_count": 26,
      "outputs": [
        {
          "output_type": "stream",
          "name": "stdout",
          "text": [
            "55\n"
          ]
        }
      ]
    },
    {
      "cell_type": "code",
      "source": [
        "# 구구단을 출력하세요\n",
        "\n",
        "# 2 * 1 = 2    2 * 2 = 4 .........\n",
        "# .\n",
        "# .\n",
        "# .\n",
        "# 9 * 1 = 9    9 * 2 = 18 .........\n",
        "\n",
        "# by 이성우\n",
        "\n",
        "for dan in range(2, 10):  # 2 ~ 9\n",
        "    for i in range(1, 10):  # 1 ~ 9\n",
        "        print(f'{dan} x {i} = {dan * i}', end = \"\\t\")  # 옆으로 쭉\n",
        "    print() # 단이 끝날때마다 줄바꾸기\n"
      ],
      "metadata": {
        "colab": {
          "base_uri": "https://localhost:8080/"
        },
        "id": "WiYESMhMMrZD",
        "outputId": "7d91fd20-b326-491d-e31c-c9887cd5a70e"
      },
      "execution_count": 31,
      "outputs": [
        {
          "output_type": "stream",
          "name": "stdout",
          "text": [
            "2 x 1 = 2\t2 x 2 = 4\t2 x 3 = 6\t2 x 4 = 8\t2 x 5 = 10\t2 x 6 = 12\t2 x 7 = 14\t2 x 8 = 16\t2 x 9 = 18\t\n",
            "3 x 1 = 3\t3 x 2 = 6\t3 x 3 = 9\t3 x 4 = 12\t3 x 5 = 15\t3 x 6 = 18\t3 x 7 = 21\t3 x 8 = 24\t3 x 9 = 27\t\n",
            "4 x 1 = 4\t4 x 2 = 8\t4 x 3 = 12\t4 x 4 = 16\t4 x 5 = 20\t4 x 6 = 24\t4 x 7 = 28\t4 x 8 = 32\t4 x 9 = 36\t\n",
            "5 x 1 = 5\t5 x 2 = 10\t5 x 3 = 15\t5 x 4 = 20\t5 x 5 = 25\t5 x 6 = 30\t5 x 7 = 35\t5 x 8 = 40\t5 x 9 = 45\t\n",
            "6 x 1 = 6\t6 x 2 = 12\t6 x 3 = 18\t6 x 4 = 24\t6 x 5 = 30\t6 x 6 = 36\t6 x 7 = 42\t6 x 8 = 48\t6 x 9 = 54\t\n",
            "7 x 1 = 7\t7 x 2 = 14\t7 x 3 = 21\t7 x 4 = 28\t7 x 5 = 35\t7 x 6 = 42\t7 x 7 = 49\t7 x 8 = 56\t7 x 9 = 63\t\n",
            "8 x 1 = 8\t8 x 2 = 16\t8 x 3 = 24\t8 x 4 = 32\t8 x 5 = 40\t8 x 6 = 48\t8 x 7 = 56\t8 x 8 = 64\t8 x 9 = 72\t\n",
            "9 x 1 = 9\t9 x 2 = 18\t9 x 3 = 27\t9 x 4 = 36\t9 x 5 = 45\t9 x 6 = 54\t9 x 7 = 63\t9 x 8 = 72\t9 x 9 = 81\t\n"
          ]
        }
      ]
    },
    {
      "cell_type": "code",
      "source": [
        "# Quiz 1 while 문을 사용하여 1부터 1000까지의 자연수 중에서 3의 배수들의 합을 구하시오.\n",
        "n = 0\n",
        "sum = 0\n",
        "while n < 1000:\n",
        "  if n % 3 == 0:\n",
        "    sum = sum + n\n",
        "  n += 1\n",
        "\n",
        "print(sum)"
      ],
      "metadata": {
        "colab": {
          "base_uri": "https://localhost:8080/"
        },
        "id": "Re-9s4EeSo7I",
        "outputId": "40b35875-2694-4b7b-beda-6bab3b97bad5"
      },
      "execution_count": 34,
      "outputs": [
        {
          "output_type": "stream",
          "name": "stdout",
          "text": [
            "166833\n"
          ]
        }
      ]
    },
    {
      "cell_type": "code",
      "source": [
        "# Quiz 1 while 문을 사용하여 * 삼각형을 만드세요\n",
        "\n",
        "# *\n",
        "# **\n",
        "# ***\n",
        "# ****\n",
        "# *****\n",
        "\n",
        "# by 장서영\n",
        "n = 0\n",
        "s = \"*\"\n",
        "while (n < 5):\n",
        "  print(s)\n",
        "  n = n + 1\n",
        "  s = s + \"*\"\n",
        "\n",
        "\n",
        "#\n",
        "i = 0\n",
        "while True:\n",
        "  i += 1\n",
        "  if i > 5:break\n",
        "  print('*' * i)"
      ],
      "metadata": {
        "colab": {
          "base_uri": "https://localhost:8080/"
        },
        "id": "lNQKPF8AURXI",
        "outputId": "9794cf45-5e12-4aba-f118-4150eaa6ac22"
      },
      "execution_count": 37,
      "outputs": [
        {
          "output_type": "stream",
          "name": "stdout",
          "text": [
            "*\n",
            "**\n",
            "***\n",
            "****\n",
            "*****\n",
            "*\n",
            "**\n",
            "***\n",
            "****\n",
            "*****\n"
          ]
        }
      ]
    },
    {
      "cell_type": "code",
      "source": [
        "# 리스트 내포 (list comprehension)\n",
        "\n",
        "a = [1,2,3,4]\n",
        "\n",
        "\n",
        "result = []\n",
        "for num in a:\n",
        "  result.append(num * 3)\n",
        "\n",
        "print(result)\n",
        "\n",
        "\n",
        "result2 = [num * 3       for num in a]\n",
        "\n",
        "print(result2)\n",
        "\n",
        "\n",
        "# 조건식 까지 추가 가능\n",
        "\n",
        "result3 = [num * 3      for num in a       if num % 2 == 0]\n",
        "# 처리 순서   3                1                  2\n",
        "\n",
        "print(result3)"
      ],
      "metadata": {
        "colab": {
          "base_uri": "https://localhost:8080/"
        },
        "id": "zTMtJSmFVI0B",
        "outputId": "242ba94e-77b6-4207-d1dd-cc9d8ae8f8f3"
      },
      "execution_count": 40,
      "outputs": [
        {
          "output_type": "stream",
          "name": "stdout",
          "text": [
            "[3, 6, 9, 12]\n",
            "[3, 6, 9, 12]\n",
            "[6, 12]\n"
          ]
        }
      ]
    },
    {
      "cell_type": "code",
      "source": [
        "# 리스트 중에서 홀수만 2를 곱하여 리스트를 생성하세요\n",
        "\n",
        "# by 이성우\n",
        "num = [1, 2, 3, 4, 5]\n",
        "\n",
        "# result = [num * 3 for num in a if num % 2 != 0]\n",
        "result = [num * 3 for num in a if num % 2 == 1]   # 홀수 여부\n",
        "print(result)\n",
        "\n"
      ],
      "metadata": {
        "id": "CXVzn-khWJfo"
      },
      "execution_count": null,
      "outputs": []
    },
    {
      "cell_type": "code",
      "source": [
        "# Quiz 1 while 문을 사용하여 * 역삼각형을 만드세요\n",
        "\n",
        "# *****\n",
        "# ****\n",
        "# ***\n",
        "# **\n",
        "# *\n",
        "\n",
        "# by 장서영\n",
        "\n",
        "n = 5\n",
        "\n",
        "while (n > 0): \n",
        "  print(\"*\" * n)\n",
        "  n = n - 1\n"
      ],
      "metadata": {
        "colab": {
          "base_uri": "https://localhost:8080/"
        },
        "id": "vm_yYtRXYXv8",
        "outputId": "dec6d100-a82d-44f1-ee54-f1c029ee4f93"
      },
      "execution_count": 41,
      "outputs": [
        {
          "output_type": "stream",
          "name": "stdout",
          "text": [
            "*****\n",
            "****\n",
            "***\n",
            "**\n",
            "*\n"
          ]
        }
      ]
    },
    {
      "cell_type": "code",
      "source": [
        "# Quiz 1 for 문을 사용하여 * 역삼각형을 만드세요\n",
        "\n",
        "# by 이성우\n",
        "for i in range(5, 0, -1):  \n",
        "    for j in range(1, i + 1): \n",
        "        print('*', end = \"\") # 옆으로 쭉\n",
        "    print() \n",
        "\n",
        "\n",
        "# by 장서영\n",
        "for i in range (0, 5):\n",
        "  print(\"*\" * (5-i))\n",
        "  i += 1\n"
      ],
      "metadata": {
        "colab": {
          "base_uri": "https://localhost:8080/"
        },
        "id": "Kp78PgTZZFFM",
        "outputId": "4b2dcf0d-feb3-4841-f919-e498a3b7c600"
      },
      "execution_count": 43,
      "outputs": [
        {
          "output_type": "stream",
          "name": "stdout",
          "text": [
            "*****\n",
            "****\n",
            "***\n",
            "**\n",
            "*\n",
            "*****\n",
            "****\n",
            "***\n",
            "**\n",
            "*\n"
          ]
        }
      ]
    },
    {
      "cell_type": "code",
      "source": [
        "# Quiz 1 줄의 갯수를 입력 받아서  * 정삼각형을 만드세요\n",
        "\n",
        "# 줄의 갯수를 입력하세요 >>> 3\n",
        "\n",
        "#   *\n",
        "#  ***\n",
        "# *****"
      ],
      "metadata": {
        "id": "KIyrTJiLaBDQ"
      },
      "execution_count": 44,
      "outputs": []
    },
    {
      "cell_type": "code",
      "source": [
        "# 이성우\n",
        "s = int(input(\"줄의 갯수를 입력하세요\"))\n",
        "for n in range(1, s + 1):\n",
        "   print(' '*(10-n) + '*' *(2 * n - 1))\n",
        "\n",
        "# 장서영\n",
        "n = int(input('줄의 갯수를 입력하세요:  : '))\n",
        "\n",
        "for i in range(1, n + 1):\n",
        "    print(\" \" * (n-i), \"*\" * (2 * i - 1))\n",
        "\n",
        "# 유정화\n",
        "n = int(input())\n",
        "\n",
        "for i in range(n) :\n",
        "  print(' '*(n-i), '*'*(2*i+1))\n"
      ],
      "metadata": {
        "colab": {
          "base_uri": "https://localhost:8080/"
        },
        "id": "Lxv5byc_aRQk",
        "outputId": "7c17bef8-cfb3-48b6-933a-2722f92eb8bb"
      },
      "execution_count": 45,
      "outputs": [
        {
          "output_type": "stream",
          "name": "stdout",
          "text": [
            "줄의 갯수를 입력하세요3\n",
            "         *\n",
            "        ***\n",
            "       *****\n",
            "줄의 갯수를 입력하세요:  : 4\n",
            "    *\n",
            "   ***\n",
            "  *****\n",
            " *******\n",
            "5\n",
            "      *\n",
            "     ***\n",
            "    *****\n",
            "   *******\n",
            "  *********\n"
          ]
        }
      ]
    },
    {
      "cell_type": "code",
      "source": [
        "# 함수 (클래스 밖에서는 함수 클래스 안에서는 매서드)\n",
        "\n",
        "# 바나나 -> 믹서기 -> 바나나 주스\n",
        "# 사과   ->        -> 사과 주스\n",
        "\n",
        "\n",
        "# def 함수이름(매개변수):\n",
        "#   수행 문장\n",
        "#   수행 문장\n",
        "\n",
        "\n",
        "#  1. 입력이 있고 리턴이 있는 함수\n",
        "\n",
        "# def add(a,b):\n",
        "#   return a+b\n",
        "\n",
        "# print(add(3,4))\n",
        "\n",
        "\n",
        "\n",
        "#  2. 입력이 없고 리턴도 없는 함수\n",
        "\n",
        "# def a():\n",
        "#   print('입력이 없고 리턴도 없는 함수')\n",
        "\n",
        "# a()\n",
        "\n",
        "#  3. 입력이 있고 리턴이 없는 함수\n",
        "\n",
        "\n",
        "# def b(name):\n",
        "#   print(name, '님을 환영합니다.')\n",
        "\n",
        "\n",
        "# b('어스틴')\n",
        "\n",
        "\n",
        "\n",
        "#  3. 입력이 없고 리턴은 있는 함수\n",
        "\n",
        "def c():\n",
        "  return 'Hi'\n",
        "\n",
        "c()"
      ],
      "metadata": {
        "colab": {
          "base_uri": "https://localhost:8080/",
          "height": 35
        },
        "id": "gJ_ujD7bdE4P",
        "outputId": "d37c2d5c-2523-43bc-97f6-84b718e5d533"
      },
      "execution_count": 51,
      "outputs": [
        {
          "output_type": "execute_result",
          "data": {
            "text/plain": [
              "'Hi'"
            ],
            "application/vnd.google.colaboratory.intrinsic+json": {
              "type": "string"
            }
          },
          "metadata": {},
          "execution_count": 51
        }
      ]
    },
    {
      "cell_type": "code",
      "source": [
        "def add(a,b):\n",
        "  return a+b\n",
        "\n",
        "print(add(3,4))\n",
        "\n",
        "\n",
        "def add2(a,b,c):\n",
        "  return a+b+c\n",
        "\n",
        "print(add2(3,4,5))\n",
        "\n",
        "\n",
        "def add3(a,b,c,d):\n",
        "  return a+b+c+d\n",
        "\n",
        "print(add3(3,4,5,6))"
      ],
      "metadata": {
        "id": "NZflHYkPzpop"
      },
      "execution_count": null,
      "outputs": []
    },
    {
      "cell_type": "code",
      "source": [
        "def add_many(*args):    #  입력된 값들을 모두 전부 모아서 튜플로 만들어 준다. 가변 매개변수\n",
        "  sum = 0\n",
        "  for i in args:\n",
        "    sum += i\n",
        "  return sum\n",
        "\n",
        "print(add_many(2,3,5))\n",
        "print(add_many(2,3,5,1,2))"
      ],
      "metadata": {
        "colab": {
          "base_uri": "https://localhost:8080/"
        },
        "id": "CWdU0V7v0Jiu",
        "outputId": "a9e9608a-cba3-41eb-8a21-574318ffd598"
      },
      "execution_count": 54,
      "outputs": [
        {
          "output_type": "stream",
          "name": "stdout",
          "text": [
            "10\n",
            "13\n"
          ]
        }
      ]
    },
    {
      "cell_type": "code",
      "source": [
        "# 변수의 영향 범위\n",
        "\n",
        "# 지역변수(***)와 전역변수\n",
        "\n",
        "\n",
        "a = 1   # a변수가 함수 밖에서 선언이 되었다. 전역 변수\n",
        "\n",
        "def vartest(a):  # 함수 안에서의 a는 함수 밖에서의 a와는 완전히 다른 변수이다. \n",
        "  a += 1\n",
        "\n",
        "\n",
        "print(vartest(a))  # ? 2 , None 이 나온 이유는 return이 없기 때문에 가지고 나오는 값이 없다. \n",
        "print(a)           # 1   # 전역 변수값 a = 1  이 출력되었다. "
      ],
      "metadata": {
        "colab": {
          "base_uri": "https://localhost:8080/"
        },
        "id": "asZ5_e_P1mpo",
        "outputId": "7caa97d8-6e7a-4276-a229-1beb82a3c010"
      },
      "execution_count": 56,
      "outputs": [
        {
          "output_type": "stream",
          "name": "stdout",
          "text": [
            "None\n",
            "1\n"
          ]
        }
      ]
    },
    {
      "cell_type": "code",
      "source": [
        "a = 1   \n",
        "\n",
        "def vartest(a): \n",
        "  a += 1\n",
        "  return a\n",
        "\n",
        "print(vartest(a))   \n",
        "print(a)           "
      ],
      "metadata": {
        "colab": {
          "base_uri": "https://localhost:8080/"
        },
        "id": "Oq5M7QaL3gSs",
        "outputId": "2adf8f2a-22f0-4bb8-a031-3aba9553635c"
      },
      "execution_count": 57,
      "outputs": [
        {
          "output_type": "stream",
          "name": "stdout",
          "text": [
            "2\n",
            "1\n"
          ]
        }
      ]
    },
    {
      "cell_type": "code",
      "source": [
        "\n",
        "# 클래스 정의\n",
        "class Calculator:\n",
        "  def __init__(self): # 더블 언더스코어 -> '던더'이닛\n",
        "    self.result = 0   #생성자 constructor 객체를 생성할때 자동 호출되어 실행된다. \n",
        "\n",
        "  def add(self, num):  #함수를 클래스 안에서 구현하면 매서드, 그 매서드를 객체가 호출하여 사용한다. \n",
        "    self.result += num\n",
        "    return self.result  #매서드의 매개변수 첫 번째에  self를 사용하여 그자리에는 객체명이 오게 된다. \n",
        "\n",
        "# 객체 생성\n",
        "cal1 = Calculator()  # 객체를 생성할때 생성자가 호출되어  cal1.result = 0 로 초기화된다. \n",
        "cal2 = Calculator()\n",
        "cal3 = Calculator()\n",
        "\n",
        "# 매서드 호출\n",
        "print(cal1.add(4))\n",
        "print(cal2.add(7))\n",
        "print(cal3.add(9))"
      ],
      "metadata": {
        "colab": {
          "base_uri": "https://localhost:8080/"
        },
        "id": "ZA7pLWMr74Uz",
        "outputId": "ec7bb9d1-a44d-4a50-ea34-82fbe5df7962"
      },
      "execution_count": 59,
      "outputs": [
        {
          "output_type": "stream",
          "name": "stdout",
          "text": [
            "4\n",
            "7\n",
            "9\n"
          ]
        }
      ]
    },
    {
      "cell_type": "code",
      "source": [
        "print(cal1.add(4))\n",
        "print(cal2.add(7))\n",
        "print(cal3.add(9))"
      ],
      "metadata": {
        "colab": {
          "base_uri": "https://localhost:8080/"
        },
        "id": "Lt-K6QGl_ZWx",
        "outputId": "cf89252f-4b3d-4ff9-aaf1-b710c4cefa47"
      },
      "execution_count": 60,
      "outputs": [
        {
          "output_type": "stream",
          "name": "stdout",
          "text": [
            "8\n",
            "14\n",
            "18\n"
          ]
        }
      ]
    },
    {
      "cell_type": "code",
      "source": [
        "cal1.add(2)"
      ],
      "metadata": {
        "colab": {
          "base_uri": "https://localhost:8080/"
        },
        "id": "6pfnhntj_sYy",
        "outputId": "457e10bf-bd52-4d15-f5f5-8d8b0c308e5c"
      },
      "execution_count": 61,
      "outputs": [
        {
          "output_type": "execute_result",
          "data": {
            "text/plain": [
              "10"
            ]
          },
          "metadata": {},
          "execution_count": 61
        }
      ]
    },
    {
      "cell_type": "code",
      "source": [
        "# 객체와 인스턴스의 차이\n",
        "\n",
        "# 클래스로 만든 객체를 인스턴스라고도 한다. 그러면 객체와 인스턴스의 차이는 무엇일까...\n",
        "# a = Cal() 이렇게 만든  a는 객체이다. \n",
        "# a는 Cal() 클래스로 만든 인스턴스이다. \n",
        "# 즉, 인스턴스라는 표현은 객체가 어떤 클래스로 만든 건지를 관계 위주로 설명할때 사용한다. \n",
        "# 다시한번 표현하면  'a는 인스턴스다'보다는 'a는 객체다'라는 표현이 더 어울리며\n",
        "# 'a는 Cal 클래스의 객체다'라는 표현보다는 'a는 Cal클래스의 인스턴스다' 라는 표현이 더 적절하다. \n"
      ],
      "metadata": {
        "id": "Ga9zVYMy_3WR"
      },
      "execution_count": null,
      "outputs": []
    },
    {
      "cell_type": "code",
      "source": [
        "# 사칙연산 계산 클래스 -> 계산기 객체를 생성 -> 사칙연산은 매서드로 구현한다. \n",
        "\n",
        "class FourCal:\n",
        "  def __init__(self,first,second):     # 생성자 ;객체 생성시 자동 실행\n",
        "    self.first = first\n",
        "    self.second = second\n",
        "\n",
        "  # def setdata(self, first, second):  # 객체별 변수 선언 매서드\n",
        "  #   self.first = first\n",
        "  #   self.second = second\n",
        "\n",
        "  def add(self):\n",
        "    result = self.first + self.second\n",
        "    return result\n",
        "  def mul(self):\n",
        "    result = self.first * self.second\n",
        "    return result\n",
        "  def sub(self):\n",
        "    result = self.first - self.second\n",
        "    return result\n",
        "  def div(self):\n",
        "    result = self.first / self.second\n",
        "    return result\n",
        "\n",
        "a = FourCal(4,2)\n",
        "b = FourCal(3,5)\n",
        "\n",
        "# a.setdata(4,2)\n",
        "# b.setdata(3,5)\n",
        "\n",
        "b.add()\n",
        "\n",
        "# 객체마다 다른 고유의 변수값을 각각 따로 유지하게 된다. "
      ],
      "metadata": {
        "colab": {
          "base_uri": "https://localhost:8080/"
        },
        "id": "Ho4AZDYXBROz",
        "outputId": "f93f19ca-92e7-4639-f5ca-6c81495d5bd9"
      },
      "execution_count": 70,
      "outputs": [
        {
          "output_type": "execute_result",
          "data": {
            "text/plain": [
              "8"
            ]
          },
          "metadata": {},
          "execution_count": 70
        }
      ]
    },
    {
      "cell_type": "code",
      "source": [
        "# 상속  inheritance  자바에서는 다중상속을 지원하지 않는다.  파이썬은 다중상속 지원\n",
        "# 상속은 기존 클래스를 변경하지 않고 기능을 추가하거나 기존 기능을 변경할 때 사용한다. \n",
        "\n",
        "class MoreFourCal(FourCal):\n",
        "  pass\n",
        "\n",
        "c = MoreFourCal(4,2)\n",
        "c.add()\n"
      ],
      "metadata": {
        "colab": {
          "base_uri": "https://localhost:8080/"
        },
        "id": "0fj7uCiTF3Mc",
        "outputId": "ac342d2f-d54f-49a7-c2ac-b6ec6ba38d36"
      },
      "execution_count": 71,
      "outputs": [
        {
          "output_type": "execute_result",
          "data": {
            "text/plain": [
              "6"
            ]
          },
          "metadata": {},
          "execution_count": 71
        }
      ]
    },
    {
      "cell_type": "code",
      "source": [
        "a = FourCal(4,0)  # 기존 클래스에 문제가 있다. 0으로 나누면 에러가 발생한다. \n",
        "a.div()"
      ],
      "metadata": {
        "colab": {
          "base_uri": "https://localhost:8080/",
          "height": 315
        },
        "id": "2Zc3pHv6LEj7",
        "outputId": "4d59d2a5-e7c3-483f-87f2-c2bc0a53ce98"
      },
      "execution_count": 72,
      "outputs": [
        {
          "output_type": "error",
          "ename": "ZeroDivisionError",
          "evalue": "ignored",
          "traceback": [
            "\u001b[0;31m---------------------------------------------------------------------------\u001b[0m",
            "\u001b[0;31mZeroDivisionError\u001b[0m                         Traceback (most recent call last)",
            "\u001b[0;32m<ipython-input-72-8d7f035a910a>\u001b[0m in \u001b[0;36m<module>\u001b[0;34m()\u001b[0m\n\u001b[1;32m      1\u001b[0m \u001b[0ma\u001b[0m \u001b[0;34m=\u001b[0m \u001b[0mFourCal\u001b[0m\u001b[0;34m(\u001b[0m\u001b[0;36m4\u001b[0m\u001b[0;34m,\u001b[0m\u001b[0;36m0\u001b[0m\u001b[0;34m)\u001b[0m\u001b[0;34m\u001b[0m\u001b[0;34m\u001b[0m\u001b[0m\n\u001b[0;32m----> 2\u001b[0;31m \u001b[0ma\u001b[0m\u001b[0;34m.\u001b[0m\u001b[0mdiv\u001b[0m\u001b[0;34m(\u001b[0m\u001b[0;34m)\u001b[0m\u001b[0;34m\u001b[0m\u001b[0;34m\u001b[0m\u001b[0m\n\u001b[0m",
            "\u001b[0;32m<ipython-input-70-f0bc7099c360>\u001b[0m in \u001b[0;36mdiv\u001b[0;34m(self)\u001b[0m\n\u001b[1;32m     18\u001b[0m     \u001b[0;32mreturn\u001b[0m \u001b[0mresult\u001b[0m\u001b[0;34m\u001b[0m\u001b[0;34m\u001b[0m\u001b[0m\n\u001b[1;32m     19\u001b[0m   \u001b[0;32mdef\u001b[0m \u001b[0mdiv\u001b[0m\u001b[0;34m(\u001b[0m\u001b[0mself\u001b[0m\u001b[0;34m)\u001b[0m\u001b[0;34m:\u001b[0m\u001b[0;34m\u001b[0m\u001b[0;34m\u001b[0m\u001b[0m\n\u001b[0;32m---> 20\u001b[0;31m     \u001b[0mresult\u001b[0m \u001b[0;34m=\u001b[0m \u001b[0mself\u001b[0m\u001b[0;34m.\u001b[0m\u001b[0mfirst\u001b[0m \u001b[0;34m/\u001b[0m \u001b[0mself\u001b[0m\u001b[0;34m.\u001b[0m\u001b[0msecond\u001b[0m\u001b[0;34m\u001b[0m\u001b[0;34m\u001b[0m\u001b[0m\n\u001b[0m\u001b[1;32m     21\u001b[0m     \u001b[0;32mreturn\u001b[0m \u001b[0mresult\u001b[0m\u001b[0;34m\u001b[0m\u001b[0;34m\u001b[0m\u001b[0m\n\u001b[1;32m     22\u001b[0m \u001b[0;34m\u001b[0m\u001b[0m\n",
            "\u001b[0;31mZeroDivisionError\u001b[0m: division by zero"
          ]
        }
      ]
    },
    {
      "cell_type": "code",
      "source": [
        "class SafeFourCal(FourCal):\n",
        "  def div(self): # 상속받은 FourCal에 동일한 이름의 매서드를 자식 클래스가 오버라이드\n",
        "    if self.second == 0:\n",
        "      return 0\n",
        "    else:\n",
        "      return self.first / self.second"
      ],
      "metadata": {
        "id": "O47iIVKJLVSJ"
      },
      "execution_count": 74,
      "outputs": []
    },
    {
      "cell_type": "code",
      "source": [
        "\n",
        "a = SafeFourCal(4,0)  \n",
        "a.div()  # FourCal 클래스를 상속한 SafeFourCal클래스의 div가 호출되어 , 즉 자식의 매서드가 호출"
      ],
      "metadata": {
        "colab": {
          "base_uri": "https://localhost:8080/"
        },
        "id": "yz8RQd2-L4Ef",
        "outputId": "56bd1301-ff23-4037-e7e3-74bfc1096faa"
      },
      "execution_count": 75,
      "outputs": [
        {
          "output_type": "execute_result",
          "data": {
            "text/plain": [
              "0"
            ]
          },
          "metadata": {},
          "execution_count": 75
        }
      ]
    },
    {
      "cell_type": "code",
      "source": [
        "# 클래스 변수\n",
        "\n",
        "# 객체 변수는 다른 객체들에 영향을 받지 않고 독립적으로 그 값을 유지한다. (객체지향의 핵심)\n",
        "\n",
        "class Family:\n",
        "  lastname = \"김\"          # 클래스 변수\n",
        "\n",
        "a = Family()               # 객체를 생성\n",
        "print(a.lastname)          # 객체를 통해서 변수 접근 ( 매서드 접근 )\n",
        "\n",
        "b = Family()               # 객체를 생성\n",
        "print(b.lastname)          # 객체를 통해서 변수 접근 ( 매서드 접근 )\n",
        "\n",
        "print(Family.lastname)     # 클래스 변수는 객체를 생성하지 않고도 클래스명.변수명 으로 접근 가능"
      ],
      "metadata": {
        "colab": {
          "base_uri": "https://localhost:8080/"
        },
        "id": "idKwX0rzMiQf",
        "outputId": "b1e476e6-8199-4fc0-cc47-6cc59543616f"
      },
      "execution_count": 80,
      "outputs": [
        {
          "output_type": "stream",
          "name": "stdout",
          "text": [
            "김\n",
            "김\n",
            "김\n"
          ]
        }
      ]
    },
    {
      "cell_type": "code",
      "source": [
        "Family.lastname = \"최\"\n",
        "print(a.lastname)\n",
        "print(b.lastname) "
      ],
      "metadata": {
        "colab": {
          "base_uri": "https://localhost:8080/"
        },
        "id": "mF_lobFYOJkY",
        "outputId": "2d09d42f-26c0-4890-e680-efbfa75cd816"
      },
      "execution_count": 82,
      "outputs": [
        {
          "output_type": "stream",
          "name": "stdout",
          "text": [
            "최\n",
            "최\n"
          ]
        }
      ]
    }
  ]
}